{
  "nbformat": 4,
  "nbformat_minor": 0,
  "metadata": {
    "colab": {
      "name": "07-parallelism.ipynb",
      "provenance": [],
      "collapsed_sections": []
    },
    "kernelspec": {
      "name": "python3",
      "display_name": "Python 3"
    }
  },
  "cells": [
    {
      "cell_type": "markdown",
      "metadata": {
        "id": "D-SELtvPJEcK"
      },
      "source": [
        "# Optimisation: Parallelism\n",
        "\n",
        "Modern computers often contain several cores and specialised High Performance Computing resources such as Imperial's HPC clusters are designed to enable rapid computations through the use of many cores simultaneously. Code written in this way is referred to a \"parallel\" code.\n",
        "\n",
        "Only some problems are amenable to parallel computing and the degree of speed-up depends on the nubmer of cores available. In addition, writing parallel programs can be complex and require a lot of skill and knowledge. However, the gains to be made here are very large and so this learning process can be worth the time required.\n",
        "\n",
        "This notebook does not intend to give you a working knowledge of how to implement parallel algorithms in Python but instead to give an example to demonstrate the power of the method.\n",
        "\n",
        "## Monte Carlo Calculation of $\\pi$\n",
        "\n",
        "Monte Carlo calcualtions rely on performing the same procedure repesteadly using one or more random numbers to cause the repetitions to produce different results. The ensemble of results can then be analysed to calculate a value of interest.\n",
        "\n",
        "A classic example of this is finding the value of $\\pi$. This is done by randomly generating pairs of values for $x$ and $y$ coordiinates between 0 and 1. By finding their distance from the origin it can be found if each point is inside a circle with radius 1. For each point inside the circle, 1 is added to a tally. When this tally is multiplied by 4 and then divided by the total number of points, an estimate of $\\pi$ can be found. The more points which are sampled the more accurate the estimate. A video desribing this algorithm can be found [here](https://www.youtube.com/watch?v=ELetCV_wX_c).\n",
        "\n",
        "In the first code cell below we implement this algorithm in serial (non-parallel) Python. in the second cell, we use the [joblib](https://joblib.readthedocs.io/en/latest/parallel.html) package to implement a parallel implementation."
      ]
    },
    {
      "cell_type": "code",
      "metadata": {
        "id": "2MCvADbSI-9h",
        "colab": {
          "base_uri": "https://localhost:8080/"
        },
        "outputId": "435f25e5-9821-458d-80d3-ea79a9447905"
      },
      "source": [
        "!pip install line_profiler\n",
        "\n",
        "%load_ext line_profiler\n",
        "import random\n",
        "\n",
        "def calculate_pi(n):\n",
        "  #Calcualte pi by smapling n points in 2D space and seeing if they fall inside a circle with radius 1\n",
        "  tally=0\n",
        "  for i in range(n):\n",
        "    # Loop over n points, creating values of x and y for each\n",
        "    x = random.random()\n",
        "    y = random.random()\n",
        "    if x ** 2 + y ** 2 < 1:\n",
        "      # If the sum of the squares of x and y are less than 1, the point is within a circle with radius 1, so increasing tally\n",
        "      tally = tally + 1\n",
        "\n",
        "  # Our estimate of pi is equal to 4*tally/n\n",
        "  return (4 * tally / n)\n",
        "\n",
        "%lprun -f calculate_pi print(calculate_pi(1000000))"
      ],
      "execution_count": 1,
      "outputs": [
        {
          "output_type": "stream",
          "name": "stdout",
          "text": [
            "Looking in indexes: https://pypi.org/simple, https://us-python.pkg.dev/colab-wheels/public/simple/\n",
            "Collecting line_profiler\n",
            "  Downloading line_profiler-3.5.1-cp37-cp37m-manylinux_2_17_x86_64.manylinux2014_x86_64.whl (67 kB)\n",
            "\u001b[K     |████████████████████████████████| 67 kB 1.9 MB/s \n",
            "\u001b[?25hInstalling collected packages: line-profiler\n",
            "Successfully installed line-profiler-3.5.1\n",
            "3.141964\n"
          ]
        }
      ]
    },
    {
      "cell_type": "code",
      "metadata": {
        "id": "1I8kqAFhPoHz",
        "colab": {
          "base_uri": "https://localhost:8080/"
        },
        "outputId": "e89056ce-8159-48f7-e3e2-fead42c9d3f2"
      },
      "source": [
        "!pip install line_profiler\n",
        "\n",
        "%load_ext line_profiler\n",
        "from joblib import Parallel, delayed\n",
        "import multiprocessing\n",
        "\n",
        "def get_tally(n):\n",
        "  # This function loops over n points and counts how many of them fall within the circle\n",
        "  tally=0\n",
        "  for i in range(n):\n",
        "    x = random.random()\n",
        "    y = random.random()\n",
        "    if x ** 2 + y ** 2 < 1:\n",
        "      tally = tally + 1\n",
        "\n",
        "  return(tally)\n",
        "\n",
        "def calculate_pi(n):\n",
        "  #Calcualte pi by sampling n points in 2D space and seeing if they fall inside a circle with radius 1\n",
        "  # First, find the number of cores available\n",
        "  n_core = multiprocessing.cpu_count()\n",
        "\n",
        "  # Ask for a tally from each core\n",
        "  # Ask each core to sample n/n_core points so n points will be sampled in total\n",
        "  tallies = Parallel(n_jobs=n_core)(delayed(get_tally)(n//n_core) for i in range(n_core))\n",
        "\n",
        "  # We can get the total tally by adding the tally from each core \n",
        "  # Our estimate of pi is equal to 4*tally/n\n",
        "  return(4 * sum(tallies) / n)\n",
        "\n",
        "%lprun -f calculate_pi print(calculate_pi(1000000))\n",
        "print(\"This calcualtion performed on \", multiprocessing.cpu_count(), \"cores\")"
      ],
      "execution_count": 2,
      "outputs": [
        {
          "output_type": "stream",
          "name": "stdout",
          "text": [
            "Looking in indexes: https://pypi.org/simple, https://us-python.pkg.dev/colab-wheels/public/simple/\n",
            "Requirement already satisfied: line_profiler in /usr/local/lib/python3.7/dist-packages (3.5.1)\n",
            "The line_profiler extension is already loaded. To reload it, use:\n",
            "  %reload_ext line_profiler\n",
            "3.142352\n",
            "This calcualtion performed on  2 cores\n"
          ]
        }
      ]
    },
    {
      "cell_type": "markdown",
      "metadata": {
        "id": "AUbwmnXVTMNT"
      },
      "source": [
        "The parallel result is significantly faster in the parallel case. When the number of cores is scaled up, such as when the code is deployed to HPC resources. This example was fairly simple as each Monte Carlo repetitions was entirely independent. However, some applciations can be a lot more complex."
      ]
    }
  ]
}