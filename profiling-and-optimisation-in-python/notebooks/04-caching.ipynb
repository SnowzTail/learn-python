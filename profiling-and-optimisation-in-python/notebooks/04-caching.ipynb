{
  "cells": [
    {
      "cell_type": "markdown",
      "metadata": {
        "id": "n373ug7mU4VM"
      },
      "source": [
        "# Caching\n",
        "\n",
        "There are multiple meanings of the word \"caching\" when it comes to computers and, particularly, code performance. In this section we will look at two common meanings relevant to code performance.\n",
        "\n",
        "## Caching Variables\n",
        "\n",
        "When certain values are calculated repeatedly, it may be worth saving their values rather than calculating them repeatedly. The more times the value is calculated and the more complex the calculation, the more viable this strategy becomes.\n",
        "\n",
        "For example, consider the following codes which aim to calculate:\n",
        "\n",
        "$\\sum\\limits_{i=0}^{1000}\\sum\\limits_{j=0}^{1000}\\sin{\\left(\\frac{i\\pi}{1000}\\right)}\\sin{\\left(\\frac{j\\pi}{1000}\\right)} $"
      ]
    },
    {
      "cell_type": "code",
      "execution_count": null,
      "metadata": {
        "id": "4tMBN0JAUyF9",
        "colab": {
          "base_uri": "https://localhost:8080/"
        },
        "outputId": "e42b270a-978e-4ae9-e653-c97bd0b8ef9a"
      },
      "outputs": [
        {
          "output_type": "stream",
          "name": "stdout",
          "text": [
            "Looking in indexes: https://pypi.org/simple, https://us-python.pkg.dev/colab-wheels/public/simple/\n",
            "Collecting line_profiler\n",
            "  Downloading line_profiler-3.5.1-cp37-cp37m-manylinux_2_17_x86_64.manylinux2014_x86_64.whl (67 kB)\n",
            "\u001b[K     |████████████████████████████████| 67 kB 964 kB/s \n",
            "\u001b[?25hInstalling collected packages: line-profiler\n",
            "Successfully installed line-profiler-3.5.1\n",
            "405284.0679028919\n"
          ]
        }
      ],
      "source": [
        "!pip install line_profiler\n",
        "import math\n",
        "%load_ext line_profiler\n",
        "\n",
        "def sum_function():\n",
        "  result=0\n",
        "\n",
        "  for i in range(0, 1001):\n",
        "    for j in range(0, 1001):\n",
        "      result = result + math.sin(i * math.pi / 1000)*math.sin(j * math.pi / 1000)\n",
        "\n",
        "  return(result)\n",
        "\n",
        "%lprun -f sum_function print(sum_function())"
      ]
    },
    {
      "cell_type": "markdown",
      "metadata": {
        "id": "36QsKmRIU7GD"
      },
      "source": [
        "The first thing we might notice is that we're currently performing the operation $\\frac{\\pi}{1000}$ 1,000,000 times and this will always have the same value. We can pre-calculate this value once and use it repeatedly:"
      ]
    },
    {
      "cell_type": "code",
      "execution_count": null,
      "metadata": {
        "id": "8d60OEGZU82a",
        "colab": {
          "base_uri": "https://localhost:8080/"
        },
        "outputId": "746bca0d-e578-41f4-8529-940906491836"
      },
      "outputs": [
        {
          "output_type": "stream",
          "name": "stdout",
          "text": [
            "Looking in indexes: https://pypi.org/simple, https://us-python.pkg.dev/colab-wheels/public/simple/\n",
            "Requirement already satisfied: line_profiler in /usr/local/lib/python3.7/dist-packages (3.5.1)\n",
            "The line_profiler extension is already loaded. To reload it, use:\n",
            "  %reload_ext line_profiler\n",
            "405284.06790289184\n"
          ]
        }
      ],
      "source": [
        "!pip install line_profiler\n",
        "import math\n",
        "%load_ext line_profiler\n",
        "\n",
        "def sum_function():\n",
        "  result=0\n",
        "  pi_over_1000 = math.pi / 1000\n",
        "\n",
        "  for i in range(0, 1001):\n",
        "    for j in range(0, 1001):\n",
        "      result = result + math.sin(i * pi_over_1000)*math.sin(j * pi_over_1000)\n",
        "\n",
        "  return(result)\n",
        "\n",
        "%lprun -f sum_function print(sum_function())"
      ]
    },
    {
      "cell_type": "markdown",
      "metadata": {
        "id": "hl1EPs29U-zB"
      },
      "source": [
        "The next thing we might notice is that there are two nested ```for``` loops. The variable ```j``` takes 1000 different values for each value ```i``` takes. Thus, we can calculate the value $\\sin{\\left(\\frac{i\\pi}{1000}\\right)}$ and cache it inside the outer loop:"
      ]
    },
    {
      "cell_type": "code",
      "execution_count": null,
      "metadata": {
        "id": "uZvAV_ReVB2y",
        "colab": {
          "base_uri": "https://localhost:8080/"
        },
        "outputId": "6d2a224e-1747-42f0-b58a-54f1082e373b"
      },
      "outputs": [
        {
          "output_type": "stream",
          "name": "stdout",
          "text": [
            "Looking in indexes: https://pypi.org/simple, https://us-python.pkg.dev/colab-wheels/public/simple/\n",
            "Requirement already satisfied: line_profiler in /usr/local/lib/python3.7/dist-packages (3.5.1)\n",
            "The line_profiler extension is already loaded. To reload it, use:\n",
            "  %reload_ext line_profiler\n",
            "405284.06790289184\n"
          ]
        }
      ],
      "source": [
        "!pip install line_profiler\n",
        "import math\n",
        "%load_ext line_profiler\n",
        "\n",
        "def sum_function():\n",
        "  result=0\n",
        "  pi_over_1000=math.pi/1000\n",
        "\n",
        "  for i in range(0, 1001):\n",
        "    sin_i = math.sin(i * pi_over_1000)\n",
        "    for j in range(0, 1001):\n",
        "      result = result + sin_i * math.sin(j * pi_over_1000)\n",
        "\n",
        "  return(result)\n",
        "\n",
        "%lprun -f sum_function print(sum_function())"
      ]
    },
    {
      "cell_type": "markdown",
      "metadata": {
        "id": "c5lR9v1aVCgy"
      },
      "source": [
        "This reduces the number of times we call ```math.sin``` from 2,000,000 to 1,001,000.\n",
        "\n",
        "Finally, we might notice that we actually only call ```math.sin``` with 1,000 different values so we can actually create a list of the resultant values to cache them:"
      ]
    },
    {
      "cell_type": "code",
      "execution_count": null,
      "metadata": {
        "id": "PiEa5cvmVEya",
        "colab": {
          "base_uri": "https://localhost:8080/"
        },
        "outputId": "a1ac8335-e5d6-438e-e9a1-61b65bfb8bc6"
      },
      "outputs": [
        {
          "output_type": "stream",
          "name": "stdout",
          "text": [
            "Looking in indexes: https://pypi.org/simple, https://us-python.pkg.dev/colab-wheels/public/simple/\n",
            "Requirement already satisfied: line_profiler in /usr/local/lib/python3.7/dist-packages (3.5.1)\n",
            "The line_profiler extension is already loaded. To reload it, use:\n",
            "  %reload_ext line_profiler\n",
            "405284.06790289184\n"
          ]
        }
      ],
      "source": [
        "!pip install line_profiler\n",
        "import math\n",
        "%load_ext line_profiler\n",
        "\n",
        "def sum_function():\n",
        "  result=0\n",
        "  pi_over_1000=math.pi/1000\n",
        "\n",
        "  sin_values=[]\n",
        "\n",
        "  for i in range(0, 1001):\n",
        "    sin_values.append(math.sin(i * pi_over_1000))\n",
        "\n",
        "  for sin_i in sin_values:\n",
        "    for sin_j in sin_values:\n",
        "      result = result + sin_i * sin_j\n",
        "\n",
        "  return(result)\n",
        "\n",
        "%lprun -f sum_function print(sum_function())"
      ]
    },
    {
      "cell_type": "markdown",
      "metadata": {
        "id": "XJNQD2z5VGnC"
      },
      "source": [
        "The resulting code calls the ```sin``` function 1,000 times and runs in about half the time compared to the original code. However, it does use more memory and is less readable.\n",
        "\n",
        "## Caching Function Results\n",
        "\n",
        "Often, functions will be called repeatedly with the same values passed as arguments and, thus, returning the same result. If a function is complex, it's possible to save a significant amount of time by noting a function has been called before and returning the value that was called then without performing the body of the function. For example, the following code tests a recursive function designed to calculate the Fibonacci sequence:"
      ]
    },
    {
      "cell_type": "code",
      "execution_count": null,
      "metadata": {
        "id": "xPwUr8CPVKmR",
        "colab": {
          "base_uri": "https://localhost:8080/"
        },
        "outputId": "8cf58b83-a95b-45e9-8388-5275b4a1caaf"
      },
      "outputs": [
        {
          "output_type": "stream",
          "name": "stdout",
          "text": [
            "2178309\n",
            "         7049193 function calls (39 primitive calls) in 1.802 seconds\n",
            "\n",
            "   Ordered by: standard name\n",
            "\n",
            "   ncalls  tottime  percall  cumtime  percall filename:lineno(function)\n",
            "7049155/1    1.801    0.000    1.801    1.801 <ipython-input-5-fa872ea90043>:3(fibonacci)\n",
            "        1    0.000    0.000    1.802    1.802 <string>:1(<module>)\n",
            "        3    0.000    0.000    0.001    0.000 iostream.py:195(schedule)\n",
            "        2    0.000    0.000    0.000    0.000 iostream.py:307(_is_master_process)\n",
            "        2    0.000    0.000    0.000    0.000 iostream.py:320(_schedule_flush)\n",
            "        2    0.000    0.000    0.001    0.001 iostream.py:382(write)\n",
            "        3    0.000    0.000    0.000    0.000 iostream.py:93(_event_pipe)\n",
            "        3    0.001    0.000    0.001    0.000 socket.py:540(send)\n",
            "        3    0.000    0.000    0.000    0.000 threading.py:1050(_wait_for_tstate_lock)\n",
            "        3    0.000    0.000    0.000    0.000 threading.py:1092(is_alive)\n",
            "        3    0.000    0.000    0.000    0.000 threading.py:507(is_set)\n",
            "        1    0.000    0.000    1.802    1.802 {built-in method builtins.exec}\n",
            "        2    0.000    0.000    0.000    0.000 {built-in method builtins.isinstance}\n",
            "        1    0.000    0.000    0.001    0.001 {built-in method builtins.print}\n",
            "        2    0.000    0.000    0.000    0.000 {built-in method posix.getpid}\n",
            "        3    0.000    0.000    0.000    0.000 {method 'acquire' of '_thread.lock' objects}\n",
            "        3    0.000    0.000    0.000    0.000 {method 'append' of 'collections.deque' objects}\n",
            "        1    0.000    0.000    0.000    0.000 {method 'disable' of '_lsprof.Profiler' objects}\n",
            "\n",
            "\n"
          ]
        }
      ],
      "source": [
        "import cProfile\n",
        "\n",
        "def fibonacci(n):\n",
        "  if n < 2:\n",
        "    return(n)\n",
        "  else:\n",
        "    return(fibonacci(n-1) + fibonacci(n-2))\n",
        "\n",
        "cProfile.run('print(fibonacci(32))')"
      ]
    },
    {
      "cell_type": "markdown",
      "metadata": {
        "id": "1eBlrYYYVMZi"
      },
      "source": [
        "When we run this code we see the function is called a large number of times to calculate the desired value. We know that the function will only be called with values of ```n``` less than 32, however. This means if we could cache the results of the function with those 32 values of ```n``` we could eliminate the bodies of most of the functions and thus most of the function calls and most of the time spent.\n",
        "\n",
        "It's possible to tell Python to cache the results of calls to a function automatically. This stores the results behind the scenes for the last few combinations of arguments used. To do this we may import the ```lru_cache``` \"decorator\" from the ```functools``` module and adding it to the function:"
      ]
    },
    {
      "cell_type": "code",
      "execution_count": null,
      "metadata": {
        "id": "dzev0MGkVNKS",
        "colab": {
          "base_uri": "https://localhost:8080/"
        },
        "outputId": "c8b467c3-8bc9-4da2-f551-751ecbc48857"
      },
      "outputs": [
        {
          "output_type": "stream",
          "name": "stdout",
          "text": [
            "2178309\n",
            "         71 function calls (39 primitive calls) in 0.000 seconds\n",
            "\n",
            "   Ordered by: standard name\n",
            "\n",
            "   ncalls  tottime  percall  cumtime  percall filename:lineno(function)\n",
            "     33/1    0.000    0.000    0.000    0.000 <ipython-input-6-8ba46ca0dba5>:4(fibonacci)\n",
            "        1    0.000    0.000    0.000    0.000 <string>:1(<module>)\n",
            "        3    0.000    0.000    0.000    0.000 iostream.py:195(schedule)\n",
            "        2    0.000    0.000    0.000    0.000 iostream.py:307(_is_master_process)\n",
            "        2    0.000    0.000    0.000    0.000 iostream.py:320(_schedule_flush)\n",
            "        2    0.000    0.000    0.000    0.000 iostream.py:382(write)\n",
            "        3    0.000    0.000    0.000    0.000 iostream.py:93(_event_pipe)\n",
            "        3    0.000    0.000    0.000    0.000 socket.py:540(send)\n",
            "        3    0.000    0.000    0.000    0.000 threading.py:1050(_wait_for_tstate_lock)\n",
            "        3    0.000    0.000    0.000    0.000 threading.py:1092(is_alive)\n",
            "        3    0.000    0.000    0.000    0.000 threading.py:507(is_set)\n",
            "        1    0.000    0.000    0.000    0.000 {built-in method builtins.exec}\n",
            "        2    0.000    0.000    0.000    0.000 {built-in method builtins.isinstance}\n",
            "        1    0.000    0.000    0.000    0.000 {built-in method builtins.print}\n",
            "        2    0.000    0.000    0.000    0.000 {built-in method posix.getpid}\n",
            "        3    0.000    0.000    0.000    0.000 {method 'acquire' of '_thread.lock' objects}\n",
            "        3    0.000    0.000    0.000    0.000 {method 'append' of 'collections.deque' objects}\n",
            "        1    0.000    0.000    0.000    0.000 {method 'disable' of '_lsprof.Profiler' objects}\n",
            "\n",
            "\n"
          ]
        }
      ],
      "source": [
        "import cProfile\n",
        "from functools import lru_cache\n",
        "\n",
        "@lru_cache(maxsize=32)\n",
        "def fibonacci(n):\n",
        "  if n < 2:\n",
        "    return(n)\n",
        "  else:\n",
        "    return(fibonacci(n-1) + fibonacci(n-2))\n",
        "\n",
        "cProfile.run('print(fibonacci(32))')"
      ]
    },
    {
      "cell_type": "markdown",
      "metadata": {
        "id": "EekJTrr6VQpr"
      },
      "source": [
        "Decorators, when added to functions, modify how the function behaves. In this case, the ```lru_cache``` decorator causes the results of the functions for the last ```maxsize``` unique combinations of arguments provided. When one of the stored combinations of arguments is used to call the function, the cached value is returned instead of calling the function in its entirety.\n",
        "\n",
        "In this case, the body of most function is bypassed in almost every case and, as almost all function calls are in the bodies of function, most function calls are also eliminated. This means the number of function calls is reduced from over 7,000,000 to just 33 and the run-time is also decreased from over a second to almost nothing.\n",
        "\n",
        "This example happens to be a case where this tactic is particularly effective as we can guarantee that there will only be a small number of values passed as an argument and the number of function calls was initially very high.\n",
        "\n",
        "## Exercise\n",
        "Look at the sample code below. It shows a code designed to calculate the sum:\n",
        "\n",
        "$\\sum\\limits_{i=0}^{1,000,000} \\left(\\cos{\\left(\\frac{i\\pi}{k}\\right)}\\right)^{2}$\n",
        "\n",
        "In the version left for you to edit, try to optimise the code using caching (either of the approaches discussed earlier in this notebook).\n",
        "\n",
        "In the second copy of it, edit it using the principles of caching described above to make it run more quickly. Note that there are two sample solutions showing two different levels of caching and one further example which removes the need for caching through calculation.\n",
        "\n",
        "You may find the following identities helpful:\n",
        "\n",
        "$\\cos(x) = \\cos(x + 2\\pi)$\n",
        "\n",
        "$\\cos((2n+1)\\pi + x) = -\\cos((2n+1)\\pi - x)$ for any integer $n$"
      ]
    },
    {
      "cell_type": "code",
      "execution_count": null,
      "metadata": {
        "id": "5kqwRPAdnpod",
        "colab": {
          "base_uri": "https://localhost:8080/"
        },
        "outputId": "ba4cc48b-1cc0-4002-bbfa-4c23b7f67dd7"
      },
      "outputs": [
        {
          "output_type": "stream",
          "name": "stdout",
          "text": [
            "500001.3117440707\n",
            "         2000041 function calls in 0.693 seconds\n",
            "\n",
            "   Ordered by: standard name\n",
            "\n",
            "   ncalls  tottime  percall  cumtime  percall filename:lineno(function)\n",
            "        1    0.314    0.314    0.691    0.691 <ipython-input-9-61546452df53>:10(sum_cos_squared_i_pi_over_k)\n",
            "  1000001    0.254    0.000    0.377    0.000 <ipython-input-9-61546452df53>:6(cos_squared)\n",
            "        1    0.000    0.000    0.693    0.693 <string>:1(<module>)\n",
            "        3    0.000    0.000    0.001    0.000 iostream.py:195(schedule)\n",
            "        2    0.000    0.000    0.000    0.000 iostream.py:307(_is_master_process)\n",
            "        2    0.000    0.000    0.000    0.000 iostream.py:320(_schedule_flush)\n",
            "        2    0.000    0.000    0.001    0.001 iostream.py:382(write)\n",
            "        3    0.000    0.000    0.000    0.000 iostream.py:93(_event_pipe)\n",
            "        3    0.001    0.000    0.001    0.000 socket.py:540(send)\n",
            "        3    0.000    0.000    0.000    0.000 threading.py:1050(_wait_for_tstate_lock)\n",
            "        3    0.000    0.000    0.000    0.000 threading.py:1092(is_alive)\n",
            "        3    0.000    0.000    0.000    0.000 threading.py:507(is_set)\n",
            "        1    0.000    0.000    0.693    0.693 {built-in method builtins.exec}\n",
            "        2    0.000    0.000    0.000    0.000 {built-in method builtins.isinstance}\n",
            "        1    0.000    0.000    0.001    0.001 {built-in method builtins.print}\n",
            "  1000001    0.123    0.000    0.123    0.000 {built-in method math.cos}\n",
            "        2    0.000    0.000    0.000    0.000 {built-in method posix.getpid}\n",
            "        3    0.000    0.000    0.000    0.000 {method 'acquire' of '_thread.lock' objects}\n",
            "        3    0.000    0.000    0.000    0.000 {method 'append' of 'collections.deque' objects}\n",
            "        1    0.000    0.000    0.000    0.000 {method 'disable' of '_lsprof.Profiler' objects}\n",
            "\n",
            "\n"
          ]
        }
      ],
      "source": [
        "# The intial function\n",
        "import cProfile\n",
        "import math\n",
        "\n",
        "#This function returns the values of cos(x) ** 2\n",
        "def   cos_squared(x):\n",
        "  return(math.cos(x) ** 2)\n",
        "\n",
        "# This function calcualtes the desired sum\n",
        "def sum_cos_squared_i_pi_over_k(k, n):\n",
        "  # This assert statement makes sure k is an integer. If it's not, an error will be thrown. \n",
        "  # This allows us to assume k is an integer\n",
        "  assert(type(k) == int)\n",
        "  \n",
        "  #Initialise evaluation at 0 and use it to track the cumulative sum\n",
        "  evaluation = 0\n",
        "\n",
        "  for i in range(n):\n",
        "    # Add each value of cos(i * pi / k) ** 2\n",
        "    evaluation = evaluation + cos_squared(i * math.pi / k)\n",
        "\n",
        "  return(evaluation)\n",
        "\n",
        "cProfile.run('print(sum_cos_squared_i_pi_over_k(7, 1000001))')"
      ]
    },
    {
      "cell_type": "code",
      "execution_count": null,
      "metadata": {
        "id": "obb2P7Cgzoyi",
        "colab": {
          "base_uri": "https://localhost:8080/"
        },
        "outputId": "f9dcd6d2-93e4-49f8-d5d4-1d75efe992ad"
      },
      "outputs": [
        {
          "output_type": "stream",
          "name": "stdout",
          "text": [
            "500001.311744901\n",
            "         67 function calls in 0.002 seconds\n",
            "\n",
            "   Ordered by: standard name\n",
            "\n",
            "   ncalls  tottime  percall  cumtime  percall filename:lineno(function)\n",
            "        1    0.000    0.000    0.000    0.000 <ipython-input-12-d1a03e2edd4e>:13(sum_cos_squared_i_pi_over_k)\n",
            "       14    0.000    0.000    0.000    0.000 <ipython-input-12-d1a03e2edd4e>:8(cos_squared)\n",
            "        1    0.000    0.000    0.002    0.002 <string>:1(<module>)\n",
            "        3    0.000    0.000    0.001    0.000 iostream.py:195(schedule)\n",
            "        2    0.000    0.000    0.000    0.000 iostream.py:307(_is_master_process)\n",
            "        2    0.000    0.000    0.000    0.000 iostream.py:320(_schedule_flush)\n",
            "        2    0.000    0.000    0.001    0.001 iostream.py:382(write)\n",
            "        3    0.000    0.000    0.000    0.000 iostream.py:93(_event_pipe)\n",
            "        3    0.001    0.000    0.001    0.000 socket.py:540(send)\n",
            "        3    0.000    0.000    0.000    0.000 threading.py:1050(_wait_for_tstate_lock)\n",
            "        3    0.000    0.000    0.000    0.000 threading.py:1092(is_alive)\n",
            "        3    0.000    0.000    0.000    0.000 threading.py:507(is_set)\n",
            "        1    0.000    0.000    0.002    0.002 {built-in method builtins.exec}\n",
            "        2    0.000    0.000    0.000    0.000 {built-in method builtins.isinstance}\n",
            "        1    0.001    0.001    0.002    0.002 {built-in method builtins.print}\n",
            "       14    0.000    0.000    0.000    0.000 {built-in method math.cos}\n",
            "        2    0.000    0.000    0.000    0.000 {built-in method posix.getpid}\n",
            "        3    0.000    0.000    0.000    0.000 {method 'acquire' of '_thread.lock' objects}\n",
            "        3    0.000    0.000    0.000    0.000 {method 'append' of 'collections.deque' objects}\n",
            "        1    0.000    0.000    0.000    0.000 {method 'disable' of '_lsprof.Profiler' objects}\n",
            "\n",
            "\n"
          ]
        }
      ],
      "source": [
        "# For you to edit\n",
        "import cProfile\n",
        "import math\n",
        "\n",
        "# from functools import lru_cache\n",
        "\n",
        "#This function returns the values of cos(x) ** 2\n",
        "# @lru_cache(maxsize=14)\n",
        "def   cos_squared(x):\n",
        "  return(math.cos(x) ** 2)\n",
        "\n",
        "# This function calcualtes the desired sum\n",
        "def sum_cos_squared_i_pi_over_k(k, n):\n",
        "  # This assert statement makes sure K is an integer. If it's not, an error will be thrown. \n",
        "  # This allows us to assume k is an integer\n",
        "  assert(type(k) == int)\n",
        "  \n",
        "  #Initialise evaluation at 0 and use it to track the cumulative sum\n",
        "  evaluation = 0\n",
        "\n",
        "  for i in range(2 * k):\n",
        "    evaluation = evaluation + ((n - i - 1) // (2 * k) + 1) * cos_squared(i % (2 * k) * math.pi / k)\n",
        "\n",
        "  return(evaluation)\n",
        "\n",
        "cProfile.run('print(sum_cos_squared_i_pi_over_k(7, 1000001))')"
      ]
    },
    {
      "cell_type": "code",
      "execution_count": null,
      "metadata": {
        "id": "PQMdE-Yxzs7G",
        "colab": {
          "base_uri": "https://localhost:8080/"
        },
        "outputId": "2b07df55-c189-4cf3-df3d-1cae92d5a269"
      },
      "outputs": [
        {
          "output_type": "stream",
          "name": "stdout",
          "text": [
            "500001.3117449025\n",
            "         67 function calls in 0.374 seconds\n",
            "\n",
            "   Ordered by: standard name\n",
            "\n",
            "   ncalls  tottime  percall  cumtime  percall filename:lineno(function)\n",
            "       14    0.000    0.000    0.000    0.000 <ipython-input-7-5aa19ba39d78>:11(cos_squared)\n",
            "        1    0.373    0.373    0.373    0.373 <ipython-input-7-5aa19ba39d78>:15(sum_cos_squared_i_pi_over_k)\n",
            "        1    0.000    0.000    0.374    0.374 <string>:1(<module>)\n",
            "        3    0.000    0.000    0.001    0.000 iostream.py:195(schedule)\n",
            "        2    0.000    0.000    0.000    0.000 iostream.py:307(_is_master_process)\n",
            "        2    0.000    0.000    0.000    0.000 iostream.py:320(_schedule_flush)\n",
            "        2    0.000    0.000    0.001    0.001 iostream.py:382(write)\n",
            "        3    0.000    0.000    0.000    0.000 iostream.py:93(_event_pipe)\n",
            "        3    0.001    0.000    0.001    0.000 socket.py:540(send)\n",
            "        3    0.000    0.000    0.000    0.000 threading.py:1050(_wait_for_tstate_lock)\n",
            "        3    0.000    0.000    0.000    0.000 threading.py:1092(is_alive)\n",
            "        3    0.000    0.000    0.000    0.000 threading.py:507(is_set)\n",
            "        1    0.000    0.000    0.374    0.374 {built-in method builtins.exec}\n",
            "        2    0.000    0.000    0.000    0.000 {built-in method builtins.isinstance}\n",
            "        1    0.000    0.000    0.001    0.001 {built-in method builtins.print}\n",
            "       14    0.000    0.000    0.000    0.000 {built-in method math.cos}\n",
            "        2    0.000    0.000    0.000    0.000 {built-in method posix.getpid}\n",
            "        3    0.000    0.000    0.000    0.000 {method 'acquire' of '_thread.lock' objects}\n",
            "        3    0.000    0.000    0.000    0.000 {method 'append' of 'collections.deque' objects}\n",
            "        1    0.000    0.000    0.000    0.000 {method 'disable' of '_lsprof.Profiler' objects}\n",
            "\n",
            "\n"
          ]
        }
      ],
      "source": [
        "#@title\n",
        "\n",
        "# We first notice that we're calcualting cos(i*pi/7 + 2 * n * pi) for i = 0 - 13\n",
        "# The value returned by this will be independent of the value of n\n",
        "# Thus we can cache the values of cos_squared for 14 values\n",
        "# The 14 values should be i*pi/7 for i = 0 - 13\n",
        "import cProfile\n",
        "import math\n",
        "from functools import lru_cache\n",
        "\n",
        "@lru_cache(maxsize=14)\n",
        "def   cos_squared(x):\n",
        "  return(math.cos(x) ** 2)\n",
        "\n",
        "def sum_cos_squared_i_pi_over_k(k, n):\n",
        "  assert(type(k) == int)\n",
        "  \n",
        "  evaluation = 0\n",
        "\n",
        "  for i in range(n):\n",
        "    evaluation = evaluation + cos_squared(i % (k * 2) * math.pi / k)\n",
        "\n",
        "  return(evaluation)\n",
        "\n",
        "cProfile.run('print(sum_cos_squared_i_pi_over_k(7, 1000001))')"
      ]
    },
    {
      "cell_type": "code",
      "execution_count": null,
      "metadata": {
        "id": "SKLkKwDEE-8b"
      },
      "outputs": [],
      "source": [
        "#@title\n",
        "\n",
        "# Now, we note that we're asking the lru_cache to keep track of which values have been used\n",
        "# We can actually do this more efficiently by caching and accessing these values ourselves\n",
        "# We cache the 14 values in a list\n",
        "import cProfile\n",
        "import math\n",
        "from functools import lru_cache\n",
        "\n",
        "def   cos_squared(x):\n",
        "  return(math.cos(x) ** 2)\n",
        "\n",
        "def sum_cos_squared_i_pi_over_k(k, n):\n",
        "  assert(type(k) == int)\n",
        "  \n",
        "  #Create the list\n",
        "  cos_squared_values=[]\n",
        "\n",
        "  # Populate the list\n",
        "  for i in range(2 * k):\n",
        "    cos_squared_values.append(cos_squared(i * math.pi / k))\n",
        "\n",
        "  evaluation = 0\n",
        "\n",
        "  # The appropriate value from the list to call will be the i%k'th value\n",
        "  for i in range(n):\n",
        "    evaluation = evaluation + cos_squared_values[i % k]\n",
        "\n",
        "  return(evaluation)\n",
        "\n",
        "cProfile.run('print(sum_cos_squared_i_pi_over_k(7, 1000001))')"
      ]
    },
    {
      "cell_type": "code",
      "execution_count": null,
      "metadata": {
        "id": "h2XKGeXh66pX"
      },
      "outputs": [],
      "source": [
        "#@title\n",
        "\n",
        "# Next we realise that the for loop is largely redundant as the same value is being added a large number of times\n",
        "# We can calculate the nubmer of times a given value will be added and, instead, add that values multiplied by that number of times\n",
        "# This actually largely removes the need for caching.\n",
        "# This is the fastest version, but is more difficult to understand at a glance\n",
        "import cProfile\n",
        "import math\n",
        "\n",
        "def   cos_squared(x):\n",
        "  return(math.cos(x) ** 2)\n",
        "\n",
        "def sum_cos_squared_i_pi_over_k(k, n):\n",
        "  assert(type(k) == int)\n",
        "  \n",
        "  evaluation = 0\n",
        "\n",
        "  # Loop over the 14 values of i which produce unique solutions\n",
        "  for i in range(2 * k):\n",
        "    # Each value of i will be represented (n - i - 1) // (2 * k) + 1 times\n",
        "    evaluation = evaluation + ((n - i - 1) // (2 * k) + 1) * cos_squared(i % (2 * k) * math.pi / k)\n",
        "\n",
        "  return(evaluation)\n",
        "\n",
        "cProfile.run('print(sum_cos_squared_i_pi_over_k(7, 1000001))')"
      ]
    }
  ],
  "metadata": {
    "colab": {
      "collapsed_sections": [],
      "name": "04-caching.ipynb",
      "provenance": []
    },
    "interpreter": {
      "hash": "31f2aee4e71d21fbe5cf8b01ff0e069b9275f58929596ceb00d14d90e3e16cd6"
    },
    "kernelspec": {
      "display_name": "Python 3.10.4 64-bit",
      "language": "python",
      "name": "python3"
    },
    "language_info": {
      "codemirror_mode": {
        "name": "ipython",
        "version": 3
      },
      "file_extension": ".py",
      "mimetype": "text/x-python",
      "name": "python",
      "nbconvert_exporter": "python",
      "pygments_lexer": "ipython3",
      "version": "3.10.4"
    }
  },
  "nbformat": 4,
  "nbformat_minor": 0
}