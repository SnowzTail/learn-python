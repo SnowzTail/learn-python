{
  "nbformat": 4,
  "nbformat_minor": 0,
  "metadata": {
    "colab": {
      "name": "05-optimising-loops.ipynb",
      "provenance": [],
      "collapsed_sections": []
    },
    "kernelspec": {
      "display_name": "Python 3",
      "language": "python",
      "name": "python3"
    },
    "language_info": {
      "codemirror_mode": {
        "name": "ipython",
        "version": 3
      },
      "file_extension": ".py",
      "mimetype": "text/x-python",
      "name": "python",
      "nbconvert_exporter": "python",
      "pygments_lexer": "ipython3",
      "version": "3.8.5"
    }
  },
  "cells": [
    {
      "cell_type": "markdown",
      "metadata": {
        "id": "-bbQS4NRJjwl"
      },
      "source": [
        "# Optimising Loops\n",
        "Loops in Python are slow. They take time to implement themselves and, more importantly, cause sections of code to be repeated a potentially very large number of times. Thus, when optimising, it is very often loops where we will look to optimise first (assuming this is what the profiling leads us to believe is important).\n",
        "\n",
        "When optimising loops, a general principle is to optimise the innermost loop first as its contents will always be carried out more times than any other.\n",
        "\n",
        "If it's possible to eliminate a loop, this is almost always advantageous. This may be done by noticing the loop is expressible as a multiplication, arithmetic sum, geometric sum, etc.\n",
        "\n",
        "## List comprehensions\n",
        "\n",
        "One way to remove a loop is to replace it with a [list comprehension](https://www.datacamp.com/community/tutorials/python-list-comprehension). Due to time constraints, we're not going to offer a full discussion of list comprehensions here, but the example below should give you a rough idea of how to use one. This syntax is able to populate a list without an explicit ```for``` loop and the lack of the loop speeds up the code considerably. For example, take the code: "
      ]
    },
    {
      "cell_type": "code",
      "metadata": {
        "id": "Z7XXWpPvJimi",
        "colab": {
          "base_uri": "https://localhost:8080/"
        },
        "outputId": "9c1cc1c8-ce12-4162-da99-df8cbb74378d"
      },
      "source": [
        "!pip install line_profiler\n",
        "%load_ext line_profiler\n",
        "\n",
        "def make_list():\n",
        "  #This function makes a list of a million elements with each being equal to the square of its index\n",
        "  my_list=[]\n",
        "\n",
        "  for i in range(1000000):\n",
        "    my_list.append(i**2)\n",
        "\n",
        "  return(my_list)\n",
        "\n",
        "%lprun -f make_list print(make_list()[-10:])"
      ],
      "execution_count": 1,
      "outputs": [
        {
          "output_type": "stream",
          "name": "stdout",
          "text": [
            "Looking in indexes: https://pypi.org/simple, https://us-python.pkg.dev/colab-wheels/public/simple/\n",
            "Collecting line_profiler\n",
            "  Downloading line_profiler-3.5.1-cp37-cp37m-manylinux_2_17_x86_64.manylinux2014_x86_64.whl (67 kB)\n",
            "\u001b[K     |████████████████████████████████| 67 kB 2.0 MB/s \n",
            "\u001b[?25hInstalling collected packages: line-profiler\n",
            "Successfully installed line-profiler-3.5.1\n",
            "[999980000100, 999982000081, 999984000064, 999986000049, 999988000036, 999990000025, 999992000016, 999994000009, 999996000004, 999998000001]\n"
          ]
        }
      ]
    },
    {
      "cell_type": "markdown",
      "metadata": {
        "id": "JXNopKZwMrAn"
      },
      "source": [
        "We can replace the ```for``` loop with a list comprehension:"
      ]
    },
    {
      "cell_type": "code",
      "metadata": {
        "id": "61PeV6ILMv_l",
        "colab": {
          "base_uri": "https://localhost:8080/"
        },
        "outputId": "9e4311a4-6d21-410d-a826-7fb3218a19db"
      },
      "source": [
        "!pip install line_profiler\n",
        "%load_ext line_profiler\n",
        "\n",
        "def make_list():\n",
        "  #This function makes a lsit of a million elements with each being equal to the square of its index\n",
        "  my_list=[i**2 for i in range(1000000)]\n",
        "\n",
        "  return(my_list)\n",
        "\n",
        "%lprun -f make_list print(make_list()[-10:])"
      ],
      "execution_count": 2,
      "outputs": [
        {
          "output_type": "stream",
          "name": "stdout",
          "text": [
            "Looking in indexes: https://pypi.org/simple, https://us-python.pkg.dev/colab-wheels/public/simple/\n",
            "Requirement already satisfied: line_profiler in /usr/local/lib/python3.7/dist-packages (3.5.1)\n",
            "The line_profiler extension is already loaded. To reload it, use:\n",
            "  %reload_ext line_profiler\n",
            "[999980000100, 999982000081, 999984000064, 999986000049, 999988000036, 999990000025, 999992000016, 999994000009, 999996000004, 999998000001]\n"
          ]
        }
      ]
    },
    {
      "cell_type": "markdown",
      "metadata": {
        "id": "iRNty5agNMkt"
      },
      "source": [
        "This runs much faster and is also more compact and arguably easier to read once you're familiar with the syntax.\n",
        "\n",
        "### Converting a range to a list\n",
        "\n",
        "If you want a list of ascending numbers, operating on a ```range``` with the ```list()``` command can be even faster than a list comprehension.\n",
        "\n",
        "\n",
        "\n"
      ]
    },
    {
      "cell_type": "code",
      "metadata": {
        "id": "ug1Hq6TkmCCz",
        "colab": {
          "base_uri": "https://localhost:8080/"
        },
        "outputId": "d7d50fae-e49f-4db9-fd9e-447e7af975f5"
      },
      "source": [
        "!pip install line_profiler\n",
        "%load_ext line_profiler\n",
        "\n",
        "def make_list():\n",
        "  # A list comprehension\n",
        "  my_list = [i for i in range(100000)]\n",
        "\n",
        "  # list(range()) syntax\n",
        "  my_list = list(range(100000))\n",
        "\n",
        "  return(my_list)\n",
        "\n",
        "%lprun -f make_list print(make_list()[-10:])"
      ],
      "execution_count": 3,
      "outputs": [
        {
          "output_type": "stream",
          "name": "stdout",
          "text": [
            "Looking in indexes: https://pypi.org/simple, https://us-python.pkg.dev/colab-wheels/public/simple/\n",
            "Requirement already satisfied: line_profiler in /usr/local/lib/python3.7/dist-packages (3.5.1)\n",
            "The line_profiler extension is already loaded. To reload it, use:\n",
            "  %reload_ext line_profiler\n",
            "[99990, 99991, 99992, 99993, 99994, 99995, 99996, 99997, 99998, 99999]\n"
          ]
        }
      ]
    },
    {
      "cell_type": "markdown",
      "metadata": {
        "id": "wQJe6ACalxX6"
      },
      "source": [
        "## The ```Map``` Function\n",
        "\n",
        "The map operates on every entry of an iterable (such as a ```list```) with a specified function and returns an iterable with the results. This can then be converted back to another iterable class. For instance:"
      ]
    },
    {
      "cell_type": "code",
      "metadata": {
        "id": "rpJS81YUOnLm",
        "colab": {
          "base_uri": "https://localhost:8080/"
        },
        "outputId": "5c13c1c2-0b8b-41fb-9a92-a3b8eeb8305f"
      },
      "source": [
        "import math\n",
        "\n",
        "my_list = [0, 1, 2, 3, 4, 5, 6, 7, 8, 9, 10]\n",
        "\n",
        "print(\"my_list: \", my_list)\n",
        "\n",
        "my_map = map(math.cos, my_list)\n",
        "\n",
        "print(\"my_map: \", list(my_map))"
      ],
      "execution_count": 5,
      "outputs": [
        {
          "output_type": "stream",
          "name": "stdout",
          "text": [
            "my_list:  [0, 1, 2, 3, 4, 5, 6, 7, 8, 9, 10]\n",
            "my_map:  [1.0, 0.5403023058681398, -0.4161468365471424, -0.9899924966004454, -0.6536436208636119, 0.28366218546322625, 0.960170286650366, 0.7539022543433046, -0.14550003380861354, -0.9111302618846769, -0.8390715290764524]\n"
          ]
        }
      ]
    },
    {
      "cell_type": "markdown",
      "metadata": {
        "id": "IqDUOBRsPtjp"
      },
      "source": [
        "This is interesting from the perspective of performance as the map function is not explicitly represented in our code. Instead it is contained in the definition of the map function (it is written in C). Because of this, the map function has a more efficient implementation of a the loop as the map function fulfills a more specific role than a generic ```for``` loop and so is very often faster to execute.\n",
        "\n",
        "For example, we can compare the following two pieces of code:"
      ]
    },
    {
      "cell_type": "code",
      "metadata": {
        "id": "I9Qmw4_oQbDF",
        "colab": {
          "base_uri": "https://localhost:8080/"
        },
        "outputId": "bc155125-7fd8-4ddc-bdf6-62e21e353da0"
      },
      "source": [
        "!pip install line_profiler\n",
        "%load_ext line_profiler\n",
        "import math\n",
        "\n",
        "def log_list():\n",
        "\n",
        "  my_list = list(range(1,1000000))\n",
        "\n",
        "  result_list=[]\n",
        "  for value in my_list:\n",
        "    result_list.append(math.log(value))\n",
        "\n",
        "  return(result_list)\n",
        "\n",
        "%lprun -f log_list print(log_list()[-10:])"
      ],
      "execution_count": 6,
      "outputs": [
        {
          "output_type": "stream",
          "name": "stdout",
          "text": [
            "Looking in indexes: https://pypi.org/simple, https://us-python.pkg.dev/colab-wheels/public/simple/\n",
            "Requirement already satisfied: line_profiler in /usr/local/lib/python3.7/dist-packages (3.5.1)\n",
            "The line_profiler extension is already loaded. To reload it, use:\n",
            "  %reload_ext line_profiler\n",
            "[13.815500557914273, 13.815501557923774, 13.815502557932273, 13.815503557939774, 13.815504557946275, 13.815505557951774, 13.815506557956274, 13.815507557959775, 13.815508557962275, 13.815509557963773]\n"
          ]
        }
      ]
    },
    {
      "cell_type": "code",
      "metadata": {
        "id": "UwtgLkBjR0Z1",
        "colab": {
          "base_uri": "https://localhost:8080/"
        },
        "outputId": "03e3dea4-0f93-4ee9-aa29-2ebb3df55b1e"
      },
      "source": [
        "!pip install line_profiler\n",
        "%load_ext line_profiler\n",
        "import math\n",
        "\n",
        "def log_list():\n",
        "\n",
        "  my_list = list(range(1,1000000))\n",
        "\n",
        "  return(list(map(math.log, my_list)))\n",
        "\n",
        "%lprun -f log_list print(log_list()[-10:])"
      ],
      "execution_count": 7,
      "outputs": [
        {
          "output_type": "stream",
          "name": "stdout",
          "text": [
            "Looking in indexes: https://pypi.org/simple, https://us-python.pkg.dev/colab-wheels/public/simple/\n",
            "Requirement already satisfied: line_profiler in /usr/local/lib/python3.7/dist-packages (3.5.1)\n",
            "The line_profiler extension is already loaded. To reload it, use:\n",
            "  %reload_ext line_profiler\n",
            "[13.815500557914273, 13.815501557923774, 13.815502557932273, 13.815503557939774, 13.815504557946275, 13.815505557951774, 13.815506557956274, 13.815507557959775, 13.815508557962275, 13.815509557963773]\n"
          ]
        }
      ]
    },
    {
      "cell_type": "markdown",
      "metadata": {
        "id": "kXMJTA8WR9CU"
      },
      "source": [
        "The second code runs in about half the time. Once you're familiar with the ```map``` function it's also about as readable as the ```for``` loop version.\n",
        "\n",
        "The ```map``` function can also be applied to ```lambda``` functions (if you don't know what this means, don't worry) and, with a little [extra work](https://stackoverflow.com/questions/10834960/how-to-do-multiple-arguments-to-map-function-where-one-remains-the-same-in-pytho), can be applied to functions which take multiple arguments.\n",
        "\n",
        "It can also be applied to a range construct directly (which is acyually faster than applying it to an equivalent list). Using the ```sum()``` function on a ```map``` will evalaute all the values in the map and return the sum of them:\n",
        "\n",
        "\n",
        "\n"
      ]
    },
    {
      "cell_type": "code",
      "metadata": {
        "id": "DK93JOcMoPa6",
        "colab": {
          "base_uri": "https://localhost:8080/"
        },
        "outputId": "34e39c5e-296a-4ba8-ef8c-2ae542430614"
      },
      "source": [
        "!pip install line_profiler\n",
        "%load_ext line_profiler\n",
        "import math\n",
        "\n",
        "def square_root_sum(n):\n",
        "  # Two methods to calcualte the sum of the square roots of all numbers up to n\n",
        "\n",
        "  # Convert to a list\n",
        "  result_1 = sum(map(math.sqrt, list(range(n))))\n",
        "\n",
        "  # Map operates directly on a range\n",
        "  result_2 = sum(map(math.sqrt, range(n)))\n",
        "\n",
        "  # Both methods produce the same answer\n",
        "  print(result_1, result_2)\n",
        "\n",
        "%lprun -f square_root_sum square_root_sum(100000)"
      ],
      "execution_count": 8,
      "outputs": [
        {
          "output_type": "stream",
          "name": "stdout",
          "text": [
            "Looking in indexes: https://pypi.org/simple, https://us-python.pkg.dev/colab-wheels/public/simple/\n",
            "Requirement already satisfied: line_profiler in /usr/local/lib/python3.7/dist-packages (3.5.1)\n",
            "The line_profiler extension is already loaded. To reload it, use:\n",
            "  %reload_ext line_profiler\n",
            "21081692.74615191 21081692.74615191\n"
          ]
        }
      ]
    },
    {
      "cell_type": "markdown",
      "metadata": {
        "id": "AgQ-h34Hn53K"
      },
      "source": [
        "## Loop Control\n",
        "\n",
        "It's possible to cause a loop to finish early using the ```break``` command. This command causes the innermost loop currently running to exit. This can be useful when your code is to find if a statement is true. By breaking a loop early when the final result has been determined, it's possible to prevent unnecessary executions of the contents of the loop.\n",
        "\n",
        "For example, consider the two versions of the code below determines if a number is included in a string:"
      ]
    },
    {
      "cell_type": "code",
      "metadata": {
        "id": "KBkADZI5yiro",
        "colab": {
          "base_uri": "https://localhost:8080/"
        },
        "outputId": "bda64e8b-d4fe-40e0-8188-5b8583f6042c"
      },
      "source": [
        "!pip install line_profiler\n",
        "%load_ext line_profiler\n",
        "\n",
        "def contains_number(string):\n",
        "  # Initially assume the string doesn't contain a number\n",
        "  contains_number = False\n",
        "\n",
        "  for letter in string:\n",
        "    # Check if each character is a string\n",
        "    if letter in \"1234567890\":\n",
        "      # If it is, relect this by changing contains_number to True\n",
        "      contains_number = True\n",
        "\n",
        "  return(contains_number)\n",
        "\n",
        "def get_random_string(length):\n",
        "  # This function generates a random string\n",
        "  # Don't worry about how it works\n",
        "  import random\n",
        "  import string\n",
        "  random_string = ''.join([random.choice(string.ascii_letters + string.digits) for n in range(length)])\n",
        "  return(random_string)\n",
        "\n",
        "def check_strings(n_strings, length):\n",
        "  # This function generates n_strings strings, each of length length and checks if each of them contains a number\n",
        "\n",
        "  n_with_numbers = 0\n",
        "  \n",
        "  for i in range(n_strings):\n",
        "    string = get_random_string(length)\n",
        "    if contains_number(string):\n",
        "      n_with_numbers = n_with_numbers + 1\n",
        "\n",
        "  print(n_with_numbers)\n",
        "\n",
        "%lprun -f contains_number check_strings(100000, 10)"
      ],
      "execution_count": 9,
      "outputs": [
        {
          "output_type": "stream",
          "name": "stdout",
          "text": [
            "Looking in indexes: https://pypi.org/simple, https://us-python.pkg.dev/colab-wheels/public/simple/\n",
            "Requirement already satisfied: line_profiler in /usr/local/lib/python3.7/dist-packages (3.5.1)\n",
            "The line_profiler extension is already loaded. To reload it, use:\n",
            "  %reload_ext line_profiler\n",
            "82714\n"
          ]
        }
      ]
    },
    {
      "cell_type": "code",
      "metadata": {
        "id": "fAlPmCQYAiXj",
        "colab": {
          "base_uri": "https://localhost:8080/"
        },
        "outputId": "9980ca21-c6a4-4f17-baf7-2c40b459bb18"
      },
      "source": [
        "!pip install line_profiler\n",
        "%load_ext line_profiler\n",
        "\n",
        "def contains_number(string):\n",
        "  # Initially assume the string doesn't contain a number\n",
        "  contains_number = False\n",
        "\n",
        "  for letter in string:\n",
        "    # Check if each character is a string\n",
        "    if letter in \"1234567890\":\n",
        "      # If it is, relect this by changing contains_number to True\n",
        "      contains_number = True\n",
        "      # The only change is add \"break\" here so we stop checking characters after finding a number\n",
        "      break\n",
        "\n",
        "  return(contains_number)\n",
        "\n",
        "def get_random_string(length):\n",
        "  # This function generates a random string with a specified length\n",
        "  # Don't worry about how it works\n",
        "  import random\n",
        "  import string\n",
        "  random_string = ''.join([random.choice(string.ascii_letters + string.digits) for n in range(length)])\n",
        "  return(random_string)\n",
        "\n",
        "def check_strings(n_strings, length):\n",
        "  # This function generates n_strings strings, each of length length and checks if each of them contains a number\n",
        "\n",
        "  n_with_numbers = 0\n",
        "  \n",
        "  for i in range(n_strings):\n",
        "    string = get_random_string(length)\n",
        "    if contains_number(string):\n",
        "      n_with_numbers = n_with_numbers + 1\n",
        "\n",
        "  print(n_with_numbers)\n",
        "\n",
        "%lprun -f contains_number check_strings(100000, 10)"
      ],
      "execution_count": 10,
      "outputs": [
        {
          "output_type": "stream",
          "name": "stdout",
          "text": [
            "Looking in indexes: https://pypi.org/simple, https://us-python.pkg.dev/colab-wheels/public/simple/\n",
            "Requirement already satisfied: line_profiler in /usr/local/lib/python3.7/dist-packages (3.5.1)\n",
            "The line_profiler extension is already loaded. To reload it, use:\n",
            "  %reload_ext line_profiler\n",
            "82681\n"
          ]
        }
      ]
    },
    {
      "cell_type": "markdown",
      "metadata": {
        "id": "_In0hh_PA5AB"
      },
      "source": [
        "Note that the number of times lines 10 (the contents of the loop) is carried out is decreased significantly."
      ]
    },
    {
      "cell_type": "markdown",
      "metadata": {
        "id": "faJJxFumyh7D"
      },
      "source": [
        "## Exercise\n",
        "Below is a code which uses three nested loops. Using the techniques described above, optimise the second copy of the code. Ensure the result remains the same to within 5 significant figures. Note that there are three sample solutions with progressively greater optimisation."
      ]
    },
    {
      "cell_type": "code",
      "metadata": {
        "id": "I2cZ4sjKS3o0",
        "colab": {
          "base_uri": "https://localhost:8080/"
        },
        "outputId": "366ba1c0-1b86-473c-fcc4-4f5903a2c9b7"
      },
      "source": [
        "# The original version\n",
        "!pip install line_profiler\n",
        "%load_ext line_profiler\n",
        "import math\n",
        "\n",
        "def loopy_function():\n",
        "\n",
        "  my_list=[]\n",
        "\n",
        "  for i in range(100):\n",
        "    my_list.append(i**2)\n",
        "\n",
        "  result = 0\n",
        "\n",
        "  for i in range(100):\n",
        "    for j in range(100):\n",
        "      temp_var = math.sqrt(j)\n",
        "      for k in range(100):\n",
        "        result = result + math.tan(my_list[i]) + k + temp_var\n",
        "\n",
        "  return(result)\n",
        "\n",
        "%lprun -f loopy_function print(loopy_function())"
      ],
      "execution_count": 11,
      "outputs": [
        {
          "output_type": "stream",
          "name": "stdout",
          "text": [
            "Looking in indexes: https://pypi.org/simple, https://us-python.pkg.dev/colab-wheels/public/simple/\n",
            "Requirement already satisfied: line_profiler in /usr/local/lib/python3.7/dist-packages (3.5.1)\n",
            "The line_profiler extension is already loaded. To reload it, use:\n",
            "  %reload_ext line_profiler\n",
            "58847423.43444924\n"
          ]
        }
      ]
    },
    {
      "cell_type": "code",
      "metadata": {
        "id": "0g4vvOPjZOoY",
        "colab": {
          "base_uri": "https://localhost:8080/"
        },
        "outputId": "dfe5fd2e-0c67-4f7d-cb00-ceb755dd3cdf"
      },
      "source": [
        "# Edit this version\n",
        "!pip install line_profiler\n",
        "%load_ext line_profiler\n",
        "import math\n",
        "\n",
        "def loopy_function():\n",
        "\n",
        "  # my_list=[]\n",
        "\n",
        "  # for i in range(100):\n",
        "  #   my_list.append(i**2)\n",
        "\n",
        "  my_list = map(lambda num: num ** 2, range(100))\n",
        "\n",
        "  result = 1e4 * (sum(map(math.tan, my_list)) + sum(range(100)) + sum(map(math.sqrt, range(100))))\n",
        "\n",
        "  return(result)\n",
        "\n",
        "%lprun -f loopy_function print(loopy_function())"
      ],
      "execution_count": 16,
      "outputs": [
        {
          "output_type": "stream",
          "name": "stdout",
          "text": [
            "Looking in indexes: https://pypi.org/simple, https://us-python.pkg.dev/colab-wheels/public/simple/\n",
            "Requirement already satisfied: line_profiler in /usr/local/lib/python3.7/dist-packages (3.5.1)\n",
            "The line_profiler extension is already loaded. To reload it, use:\n",
            "  %reload_ext line_profiler\n",
            "58847423.43464357\n"
          ]
        }
      ]
    },
    {
      "cell_type": "code",
      "metadata": {
        "id": "gvuXPyGmT8np",
        "cellView": "form"
      },
      "source": [
        "#@title\n",
        "# The first optimisation is to note that the inner loop always multiplies tan(my_list[j]) by 100 whilst adding (99+0)*100/2=4950\n",
        "# This optimisation should occur first as it's in an inner loop and, as shown by the profiling, takes up most of the time\n",
        "# We see this immediately reduces the time taken for the function to run by a factor of ~100 as we've eliminated the innermost loop\n",
        "!pip install line_profiler\n",
        "%load_ext line_profiler\n",
        "import math\n",
        "\n",
        "def loopy_function():\n",
        "\n",
        "  my_list=[]\n",
        "\n",
        "  for i in range(100):\n",
        "    my_list.append(i**2)\n",
        "\n",
        "  result = 0\n",
        "\n",
        "  for i in range(100):\n",
        "    for j in range(100):\n",
        "      temp_var = math.sqrt(j)\n",
        "      result = result + 100 * (math.tan(my_list[i]) + temp_var) + 4950\n",
        "\n",
        "  return(result)\n",
        "\n",
        "%lprun -f loopy_function print(loopy_function())"
      ],
      "execution_count": null,
      "outputs": []
    },
    {
      "cell_type": "code",
      "metadata": {
        "id": "nbFYEw-IVHFn",
        "cellView": "form"
      },
      "source": [
        "#@title\n",
        "# The second optimisation is to note that we can replace the inner loop with a map function which we then take the sum of\n",
        "# In addition, we can move this map outisde of the outer loop entirely as we are simply adding temp_var to result each time\n",
        "# We can alo remove the loop over j and replace it with a list comprehension\n",
        "!pip install line_profiler\n",
        "%load_ext line_profiler\n",
        "import math\n",
        "\n",
        "def loopy_function():\n",
        "\n",
        "  my_list=[]\n",
        "\n",
        "  for i in range(100):\n",
        "    my_list.append(i**2)\n",
        "\n",
        "  result = 0\n",
        "\n",
        "  for i in range(100):\n",
        "    result = result + 10000 * (math.tan(my_list[i])) + 495000\n",
        "\n",
        "  result = result + 10000 * sum(map(math.sqrt, range(100)))\n",
        "\n",
        "  return(result)\n",
        "\n",
        "%lprun -f loopy_function print(loopy_function())"
      ],
      "execution_count": null,
      "outputs": []
    },
    {
      "cell_type": "code",
      "metadata": {
        "id": "X9cXiDPiX-e5",
        "colab": {
          "base_uri": "https://localhost:8080/"
        },
        "outputId": "f42224fb-45a5-4533-9750-d164a5bd81eb"
      },
      "source": [
        "#@title\n",
        "# The third optimisation is to combine the two remaining loops and replace them with a map function that we take the sum of\n",
        "# We use a list comprehension to form the list passed to the map\n",
        "# The resultant function is approximately 10,000 times faster than the function we began with\n",
        "!pip install line_profiler\n",
        "%load_ext line_profiler\n",
        "import math\n",
        "\n",
        "def loopy_function():\n",
        "  result = 10000 * sum(map(math.tan, [i ** 2 for i in range(100)])) + 49500000\n",
        "\n",
        "  result = result + 10000 * sum(map(math.sqrt, range(100)))\n",
        "\n",
        "  return(result)\n",
        "\n",
        "%lprun -f loopy_function print(loopy_function())"
      ],
      "execution_count": 17,
      "outputs": [
        {
          "output_type": "stream",
          "name": "stdout",
          "text": [
            "Looking in indexes: https://pypi.org/simple, https://us-python.pkg.dev/colab-wheels/public/simple/\n",
            "Requirement already satisfied: line_profiler in /usr/local/lib/python3.7/dist-packages (3.5.1)\n",
            "The line_profiler extension is already loaded. To reload it, use:\n",
            "  %reload_ext line_profiler\n",
            "58847423.434643574\n"
          ]
        }
      ]
    }
  ]
}