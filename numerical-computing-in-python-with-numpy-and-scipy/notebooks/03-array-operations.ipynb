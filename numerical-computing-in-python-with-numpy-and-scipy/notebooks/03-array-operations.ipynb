{
 "cells": [
  {
   "cell_type": "markdown",
   "metadata": {
    "id": "euQr57ooLW_e"
   },
   "source": [
    "# Array Operations\n",
    "\n",
    "NumPy is not just good at storing large amounts of data, it's also very efficient at performing calculations and makes carrying out these calculations very convenient. This notebook discusses some of these calculations and the syntax used to invoke them."
   ]
  },
  {
   "cell_type": "markdown",
   "metadata": {
    "id": "u5i0HFbT8wPP"
   },
   "source": [
    "## Arithmetic Operations\n",
    "\n",
    "Simple arithmetic operators can be performed using NumPy arrays. When such an operation is placed between two NumPy arrays, the operation is performed \"element-wise\". This means that the operation is performed on each element of the arrays to create the corresponding element of the new array. For instance:"
   ]
  },
  {
   "cell_type": "code",
   "execution_count": 1,
   "metadata": {
    "id": "JCRxTeXwLS4k"
   },
   "outputs": [
    {
     "name": "stdout",
     "output_type": "stream",
     "text": [
      "Addition:  [ 3  7 11]\n",
      "Subtraction:  [1 1 1]\n",
      "Multiplication:  [ 2 12 30]\n",
      "Division:  [2.         1.33333333 1.2       ]\n",
      "Exponentiation:  [   2   64 7776]\n",
      "Integer Division:  [2 1 1]\n",
      "Modulo:  [0 1 1]\n",
      "Negative:  [-2 -4 -6]\n"
     ]
    }
   ],
   "source": [
    "import numpy as np\n",
    "\n",
    "a = np.array([2, 4, 6])\n",
    "b = np.array([1, 3, 5])\n",
    "\n",
    "print(\"Addition: \", a + b)\n",
    "print(\"Subtraction: \", a - b)\n",
    "print(\"Multiplication: \", a * b)\n",
    "print(\"Division: \", a / b)\n",
    "print(\"Exponentiation: \", a**b)\n",
    "print(\"Integer Division: \", a // b)\n",
    "print(\"Modulo: \", a % b)\n",
    "print(\"Negative: \", -a)\n"
   ]
  },
  {
   "cell_type": "markdown",
   "metadata": {
    "id": "CsDS8CwtC-mw"
   },
   "source": [
    "Note that, when operating on arrays in this way, both arrays must be the same dimension and size."
   ]
  },
  {
   "cell_type": "code",
   "execution_count": 2,
   "metadata": {
    "id": "YkAyNiKTBy62"
   },
   "outputs": [
    {
     "ename": "ValueError",
     "evalue": "operands could not be broadcast together with shapes (2,2) (4,) ",
     "output_type": "error",
     "traceback": [
      "\u001b[0;31m---------------------------------------------------------------------------\u001b[0m",
      "\u001b[0;31mValueError\u001b[0m                                Traceback (most recent call last)",
      "\u001b[1;32m/home/snowztail/Repositories/learn-python/numerical-computing-in-python-with-numpy-and-scipy/notebooks/03-array-operations.ipynb Cell 5'\u001b[0m in \u001b[0;36m<cell line: 7>\u001b[0;34m()\u001b[0m\n\u001b[1;32m      <a href='vscode-notebook-cell:/home/snowztail/Repositories/learn-python/numerical-computing-in-python-with-numpy-and-scipy/notebooks/03-array-operations.ipynb#ch0000004?line=3'>4</a>\u001b[0m a \u001b[39m=\u001b[39m np\u001b[39m.\u001b[39marange(\u001b[39m4\u001b[39m)\u001b[39m.\u001b[39mreshape([\u001b[39m2\u001b[39m,\u001b[39m2\u001b[39m])\n\u001b[1;32m      <a href='vscode-notebook-cell:/home/snowztail/Repositories/learn-python/numerical-computing-in-python-with-numpy-and-scipy/notebooks/03-array-operations.ipynb#ch0000004?line=4'>5</a>\u001b[0m b \u001b[39m=\u001b[39m np\u001b[39m.\u001b[39marange(\u001b[39m1\u001b[39m,\u001b[39m5\u001b[39m)\n\u001b[0;32m----> <a href='vscode-notebook-cell:/home/snowztail/Repositories/learn-python/numerical-computing-in-python-with-numpy-and-scipy/notebooks/03-array-operations.ipynb#ch0000004?line=6'>7</a>\u001b[0m \u001b[39mprint\u001b[39m(a \u001b[39m+\u001b[39;49m b)\n",
      "\u001b[0;31mValueError\u001b[0m: operands could not be broadcast together with shapes (2,2) (4,) "
     ]
    }
   ],
   "source": [
    "import numpy as np\n",
    "\n",
    "# These arrays have the same number of elements but a different number of dimensions\n",
    "a = np.arange(4).reshape([2, 2])\n",
    "b = np.arange(1, 5)\n",
    "\n",
    "print(a + b)\n"
   ]
  },
  {
   "cell_type": "markdown",
   "metadata": {
    "id": "nHMa3tm6DK-K"
   },
   "source": [
    "## Applying the Same Operation to Every Element\n",
    "\n",
    "It's possible to apply the same operation to every element of an array using an operator and a scalar value. The array and the integer may be in either order."
   ]
  },
  {
   "cell_type": "code",
   "execution_count": 3,
   "metadata": {
    "id": "88r4jziiC78q"
   },
   "outputs": [
    {
     "name": "stdout",
     "output_type": "stream",
     "text": [
      "a:  [1 2 3]\n",
      "Addition:  [3 4 5]\n",
      "Left Subtraction:  [ 1  0 -1]\n",
      "Right Subtraction:  [-1  0  1]\n",
      "Multiplication:  [2 4 6]\n",
      "Left Division:  [0.5 1.  1.5]\n",
      "Right Division:  [2.         1.         0.66666667]\n",
      "Left Exponentiation:  [2 4 8]\n",
      "Right Exponentiation:  [1 4 9]\n",
      "Left Integer Division:  [2 1 0]\n",
      "Right Integer Division:  [0 1 1]\n",
      "Left Modulo:  [0 0 2]\n",
      "Right Modulo:  [1 0 1]\n"
     ]
    }
   ],
   "source": [
    "import numpy as np\n",
    "\n",
    "a = np.arange(1, 4)\n",
    "print(\"a: \", a)\n",
    "print(\"Addition: \", 2 + a)\n",
    "print(\"Left Subtraction: \", 2 - a)\n",
    "print(\"Right Subtraction: \", a - 2)\n",
    "print(\"Multiplication: \", a * 2)\n",
    "print(\"Left Division: \", a / 2)\n",
    "print(\"Right Division: \", 2 / a)\n",
    "print(\"Left Exponentiation: \", 2**a)\n",
    "print(\"Right Exponentiation: \", a**2)\n",
    "print(\"Left Integer Division: \", 2 // a)\n",
    "print(\"Right Integer Division: \", a // 2)\n",
    "print(\"Left Modulo: \", 2 % a)\n",
    "print(\"Right Modulo: \", a % 2)\n"
   ]
  },
  {
   "cell_type": "markdown",
   "metadata": {
    "id": "TdepIcpKuhlC"
   },
   "source": [
    "## Exercise\n",
    "\n",
    "Look at the code in the cell below, but don't run it yet. Instead, write down what you think will be printed in each case. Then, run the code and check you get the results you expect."
   ]
  },
  {
   "cell_type": "code",
   "execution_count": 4,
   "metadata": {
    "id": "cPW87SEVu2xR"
   },
   "outputs": [
    {
     "name": "stdout",
     "output_type": "stream",
     "text": [
      "Case 1:  [4 6]\n",
      "Case 2:  [0.5 1. ]\n",
      "Case 3:  [ 1 16]\n",
      "Case 4:  [1 0]\n",
      "Case 5:  [-5 -6]\n"
     ]
    }
   ],
   "source": [
    "import numpy as np\n",
    "\n",
    "a = np.array([1, 2])\n",
    "b = np.array([3, 4])\n",
    "\n",
    "print(\"Case 1: \", a + b)  # [4 6]\n",
    "print(\"Case 2: \", a / 2)  # [0.5 1]\n",
    "print(\"Case 3: \", a**b)  # [1 16]\n",
    "print(\"Case 4: \", 2 - a)  # [-1 0]\n",
    "print(\"Case 5: \", a - b * 2)  # [-5 -6] Remember the order of operations\n"
   ]
  },
  {
   "cell_type": "markdown",
   "metadata": {
    "id": "dI0EufaRG5vq"
   },
   "source": [
    "## More Complex Functions\n",
    "\n",
    "Many complex mathematical functions which operate on scalars in Python are available from the ```math``` module, such as the ```sin``` function. These functions will work on NumPy arrays with a size of 1 (and return a scalar), but will not work on larger arrays:"
   ]
  },
  {
   "cell_type": "code",
   "execution_count": 5,
   "metadata": {
    "id": "ujJ6d7hnI2Hb"
   },
   "outputs": [
    {
     "name": "stdout",
     "output_type": "stream",
     "text": [
      "0.9092974268256817\n",
      "0.8414709848078965\n"
     ]
    },
    {
     "ename": "TypeError",
     "evalue": "only size-1 arrays can be converted to Python scalars",
     "output_type": "error",
     "traceback": [
      "\u001b[0;31m---------------------------------------------------------------------------\u001b[0m",
      "\u001b[0;31mTypeError\u001b[0m                                 Traceback (most recent call last)",
      "\u001b[1;32m/home/snowztail/Repositories/learn-python/numerical-computing-in-python-with-numpy-and-scipy/notebooks/03-array-operations.ipynb Cell 11'\u001b[0m in \u001b[0;36m<cell line: 6>\u001b[0;34m()\u001b[0m\n\u001b[1;32m      <a href='vscode-notebook-cell:/home/snowztail/Repositories/learn-python/numerical-computing-in-python-with-numpy-and-scipy/notebooks/03-array-operations.ipynb#ch0000010?line=3'>4</a>\u001b[0m \u001b[39mprint\u001b[39m(math\u001b[39m.\u001b[39msin(\u001b[39m2\u001b[39m))\n\u001b[1;32m      <a href='vscode-notebook-cell:/home/snowztail/Repositories/learn-python/numerical-computing-in-python-with-numpy-and-scipy/notebooks/03-array-operations.ipynb#ch0000010?line=4'>5</a>\u001b[0m \u001b[39mprint\u001b[39m(math\u001b[39m.\u001b[39msin(np\u001b[39m.\u001b[39marray([\u001b[39m1\u001b[39m])))\n\u001b[0;32m----> <a href='vscode-notebook-cell:/home/snowztail/Repositories/learn-python/numerical-computing-in-python-with-numpy-and-scipy/notebooks/03-array-operations.ipynb#ch0000010?line=5'>6</a>\u001b[0m \u001b[39mprint\u001b[39m(math\u001b[39m.\u001b[39;49msin(np\u001b[39m.\u001b[39;49marange(\u001b[39m3\u001b[39;49m)))\n",
      "\u001b[0;31mTypeError\u001b[0m: only size-1 arrays can be converted to Python scalars"
     ]
    }
   ],
   "source": [
    "import numpy as np\n",
    "import math\n",
    "\n",
    "print(math.sin(2))\n",
    "print(math.sin(np.array([1])))\n",
    "print(math.sin(np.arange(3)))\n"
   ]
  },
  {
   "cell_type": "markdown",
   "metadata": {
    "id": "a9i2LXv0JW-i"
   },
   "source": [
    "Fortunately, many of these functions are replicated within the NumPy array and will operate element-wise on an array passed to it:"
   ]
  },
  {
   "cell_type": "code",
   "execution_count": 6,
   "metadata": {
    "id": "UwkG-8HLDcAK"
   },
   "outputs": [
    {
     "name": "stdout",
     "output_type": "stream",
     "text": [
      "a:  [0.25 0.5  0.75]\n",
      "sin:  [0.24740396 0.47942554 0.68163876]\n",
      "arccos:  [1.31811607 1.04719755 0.72273425]\n",
      "log:  [-1.38629436 -0.69314718 -0.28768207]\n",
      "log2:  [-2.        -1.        -0.4150375]\n",
      "log10:  [-0.60205999 -0.30103    -0.12493874]\n",
      "sqrt:  [0.5        0.70710678 0.8660254 ]\n",
      "sum:  1.5\n"
     ]
    }
   ],
   "source": [
    "import numpy as np\n",
    "\n",
    "# Here we multiply the array [1 2 3] by a quarter\n",
    "a = np.arange(1, 4) * 0.25\n",
    "print(\"a: \", a)\n",
    "print(\"sin: \", np.sin(a))\n",
    "print(\"arccos: \", np.arccos(a))  # arccos in NumPy while acos in math\n",
    "print(\"log: \", np.log(a))\n",
    "print(\"log2: \", np.log2(a))\n",
    "print(\"log10: \", np.log10(a))\n",
    "print(\"sqrt: \", np.sqrt(a))\n",
    "print(\"sum: \", np.sum(a))\n"
   ]
  },
  {
   "cell_type": "markdown",
   "metadata": {
    "id": "Oy9u2_oqeaxo"
   },
   "source": [
    "## Vector and Matrix Operations\n",
    "\n",
    "NumPy is designed to hold vectors, matrices, tensors and so on. It also contains functions to perform common operations relevant to these data types. For instance:"
   ]
  },
  {
   "cell_type": "code",
   "execution_count": 7,
   "metadata": {
    "id": "8_l_TivNHFk3"
   },
   "outputs": [
    {
     "name": "stdout",
     "output_type": "stream",
     "text": [
      "Matrix:  [[0 1]\n",
      " [2 3]]\n",
      "Vector1:  [1 2]\n",
      "Vector2:  [3 4]\n",
      "Dot product 11\n",
      "Matrix-vector multiplication:  [2 8]\n",
      "Matrix-matrix multiplication:  [[ 2  3]\n",
      " [ 6 11]]\n",
      "Matrix power:  [[ 6 11]\n",
      " [22 39]]\n",
      "Determinant:  -2.0\n",
      "Transpose:  [[0 2]\n",
      " [1 3]]\n",
      "Inverse:  [[-1.5  0.5]\n",
      " [ 1.   0. ]]\n",
      "Eigenvectors and eigenvalues:  (array([-0.56155281,  3.56155281]), array([[-0.87192821, -0.27032301],\n",
      "       [ 0.48963374, -0.96276969]]))\n"
     ]
    }
   ],
   "source": [
    "import numpy as np\n",
    "\n",
    "matrix = np.arange(4).reshape([2, 2])\n",
    "vector1 = np.array([1, 2])\n",
    "vector2 = np.array([3, 4])\n",
    "\n",
    "print(\"Matrix: \", matrix)\n",
    "print(\"Vector1: \", vector1)\n",
    "print(\"Vector2: \", vector2)\n",
    "\n",
    "print(\"Dot product\", np.dot(vector1, vector2))\n",
    "print(\"Matrix-vector multiplication: \", np.matmul(matrix, vector1))\n",
    "print(\"Matrix-matrix multiplication: \", np.matmul(matrix, matrix))\n",
    "print(\"Matrix power: \", np.linalg.matrix_power(matrix, 3))\n",
    "print(\"Determinant: \", np.linalg.det(matrix))\n",
    "print(\"Transpose: \", np.transpose(matrix))\n",
    "print(\"Inverse: \", np.linalg.inv(matrix))\n",
    "print(\"Eigenvectors and eigenvalues: \", np.linalg.eig(matrix))\n"
   ]
  },
  {
   "cell_type": "markdown",
   "metadata": {
    "id": "prYsG9Ssnx5N"
   },
   "source": [
    "## Exercise\n",
    "\n",
    "A location in 3d Cartesian space may be represented by (x,y,z) coordinates. This may be represented by a\n",
    "dimension 1 array with size 3.\n",
    "\n",
    "In the cell below:\n",
    "* Create a 1d array with three elements to represent Position A, which is at (1,2,1)\n",
    "* Calculate the location of Position B, which has a displacement of (3,-4,1) from Position A\n",
    "* Calculate the location of Position C, which is twice as far from the origin as Position B\n",
    "* Calculate the location of position D, which is found by rotating position C 45 degree around the z axis (clockwise\n",
    "when viewed from above). To rotate a location around the z axis in this manner by an angle $\\theta$, it may be\n",
    "multiplied by the matrix:\n",
    "\n",
    "\\begin{pmatrix}\n",
    "\\cos(\\theta) & -\\sin(\\theta) & 0 \\\\ \n",
    "\\sin(\\theta) & \\cos(\\theta) & 0 \\\\ \n",
    "0 & 0 & 1\n",
    "\\end{pmatrix}\n",
    "\n",
    "* Calculate the straight line distance between Position D and the origin"
   ]
  },
  {
   "cell_type": "code",
   "execution_count": 8,
   "metadata": {
    "id": "lykqChQktPed"
   },
   "outputs": [
    {
     "name": "stdout",
     "output_type": "stream",
     "text": [
      "[1 2 1]\n",
      "[ 4 -2  2]\n",
      "[ 8 -4  4]\n",
      "[-5.41598133 -7.11808585  4.        ]\n",
      "[0. 0. 0.]\n",
      "9.797958971132712\n"
     ]
    }
   ],
   "source": [
    "import numpy as np\n",
    "\n",
    "\n",
    "def rotate_azimuth(point, degree):\n",
    "    radian = degree / np.pi\n",
    "    rotate_matrix = np.array(\n",
    "        [\n",
    "            [np.cos(radian), -np.sin(radian), 0],\n",
    "            [np.sin(radian), np.cos(radian), 0],\n",
    "            [0, 0, 1],\n",
    "        ]\n",
    "    )\n",
    "    return np.matmul(point, rotate_matrix)\n",
    "\n",
    "\n",
    "a = np.array([1, 2, 1])\n",
    "b = a + np.array([3, -4, 1])\n",
    "c = 2 * b\n",
    "d = rotate_azimuth(c, 45)\n",
    "o = np.zeros(3)\n",
    "\n",
    "print(a)\n",
    "print(b)\n",
    "print(c)\n",
    "print(d)\n",
    "print(o)\n",
    "\n",
    "dist = np.linalg.norm(d - o)\n",
    "print(dist)\n"
   ]
  },
  {
   "cell_type": "code",
   "execution_count": 9,
   "metadata": {
    "cellView": "form",
    "id": "ZRj4xpGYXLnD"
   },
   "outputs": [
    {
     "name": "stdout",
     "output_type": "stream",
     "text": [
      "Poition A:  [1 2 1]\n",
      "Position B:  [ 4 -2  2]\n",
      "Position C:  [ 8 -4  4]\n",
      "Rotation matrix:  [[ 0.70710678 -0.70710678  0.        ]\n",
      " [ 0.70710678  0.70710678  0.        ]\n",
      " [ 0.          0.          1.        ]]\n",
      "Position D:  [8.48528137 2.82842712 4.        ]\n",
      "Distance:  9.797958971132713\n"
     ]
    }
   ],
   "source": [
    "# @title\n",
    "import numpy as np\n",
    "import math\n",
    "\n",
    "# Define Position A\n",
    "pos_a = np.array([1, 2, 1])\n",
    "print(\"Poition A: \", pos_a)\n",
    "\n",
    "# Add the specified displacement to position A to get position B\n",
    "pos_b = pos_a + np.array([3, -4, 1])\n",
    "print(\"Position B: \", pos_b)\n",
    "\n",
    "# Double the values in position B to get position C\n",
    "pos_c = pos_b * 2\n",
    "print(\"Position C: \", pos_c)\n",
    "\n",
    "# Calcualte 45 degrees in radians\n",
    "radians_45 = 45 * math.pi / 180\n",
    "# Create the rotation matrix\n",
    "rotation_matrix = np.array(\n",
    "    [\n",
    "        [math.cos(radians_45), -math.sin(radians_45), 0],\n",
    "        [math.sin(radians_45), math.cos(radians_45), 0],\n",
    "        [0, 0, 1],\n",
    "    ]\n",
    ")\n",
    "print(\"Rotation matrix: \", rotation_matrix)\n",
    "# Operate of position C with the rotation matrix to get position D\n",
    "pos_d = np.matmul(rotation_matrix, pos_c)\n",
    "print(\"Position D: \", pos_d)\n",
    "\n",
    "# Calcualte the distance between position D and the origin\n",
    "distance_d = math.sqrt(np.dot(pos_d, pos_d))\n",
    "print(\"Distance: \", distance_d)\n"
   ]
  },
  {
   "cell_type": "markdown",
   "metadata": {
    "id": "2cfPmlVeD5xN"
   },
   "source": [
    "## Extension: Solving Matrix Equations and Sparse Matrices\n",
    "\n",
    "Sometimes it can be desirable to solve a matrix equation of the form $Mx=b$ where $M$ is a matrix, $b$ is a known vector and $x$ is an unknown vector whose value is to be found. For instance, consider the equation:\n",
    "\n",
    "$\\begin{pmatrix}\n",
    "1 & 2 & 3\\\\ \n",
    "2 & 1 & 0\\\\ \n",
    "4 & 2 & 1\n",
    "\\end{pmatrix}\n",
    "\\vec{x}\n",
    "=\n",
    "\\begin{pmatrix}\n",
    "4\\\\ \n",
    "5\\\\ \n",
    "10\n",
    "\\end{pmatrix}$\n",
    "\n",
    "We can use the ```linalg.solve``` function to solve an equation of this type as follows:"
   ]
  },
  {
   "cell_type": "code",
   "execution_count": 10,
   "metadata": {
    "id": "Wu0240pJEAdt"
   },
   "outputs": [
    {
     "name": "stdout",
     "output_type": "stream",
     "text": [
      "[2. 1. 0.]\n"
     ]
    }
   ],
   "source": [
    "import numpy as np\n",
    "\n",
    "m = np.array([[1, 2, 3], [2, 1, 0], [4, 2, 1]])\n",
    "b = np.array([4, 5, 10])\n",
    "\n",
    "x = np.linalg.solve(m, b)\n",
    "\n",
    "print(x)\n"
   ]
  },
  {
   "cell_type": "markdown",
   "metadata": {
    "id": "b-TUc1BYIQXk"
   },
   "source": [
    "However, this function becomes slower and slower as the size of matrix gets larger. For a particular type of matrix that contains mostly zeros, this can be sped up by storing the matrix as a sparse matrix. This means that only non-zero values will be stored and only these non-zero values will be used in calculations. This dramatically reduces memory usage and the computational cost of the solving the matrix equation. There are may [types of sparse matrix included in SciPy](https://docs.scipy.org/doc/scipy/reference/sparse.html), but we will pick the [compressed row storage matrix](https://docs.scipy.org/doc/scipy/reference/generated/scipy.sparse.csr_matrix.html#scipy.sparse.csr_matrix) for this example (see [here](https://en.wikipedia.org/wiki/Sparse_matrix#Compressed_sparse_row_(CSR,_CRS_or_Yale_format) for a rough description of how this works). The matrix we will solve for will have the value of 1 along the central diagonal and -0.5 on the adjacent diagonals. The array on the left-hand side will have a value of 1.\n",
    "\n",
    "There are [many sovlers](https://docs.scipy.org/doc/scipy/reference/sparse.linalg.html) included to be used with sparse matrices. Which one to use is not always a simple question. For this example we'll use the [conjugate gradient solver](https://docs.scipy.org/doc/scipy/reference/generated/scipy.sparse.linalg.cg.html#scipy.sparse.linalg.cg) (see [here](https://docs.scipy.org/doc/scipy/reference/generated/scipy.sparse.linalg.cg.html#scipy.sparse.linalg.cg) for a description of how this method works)."
   ]
  },
  {
   "cell_type": "code",
   "execution_count": 11,
   "metadata": {
    "id": "PWefU8KNFKHb"
   },
   "outputs": [
    {
     "name": "stderr",
     "output_type": "stream",
     "text": [
      "/usr/lib/python3.10/site-packages/scipy/sparse/_index.py:103: SparseEfficiencyWarning: Changing the sparsity structure of a csr_matrix is expensive. lil_matrix is more efficient.\n",
      "  self._set_intXint(row, col, x.flat[0])\n"
     ]
    },
    {
     "name": "stdout",
     "output_type": "stream",
     "text": [
      "M:\n",
      "  (0, 0)\t1.0\n",
      "  (0, 1)\t-0.5\n",
      "  (1, 0)\t-0.5\n",
      "  (1, 1)\t1.0\n",
      "  (1, 2)\t-0.5\n",
      "  (2, 1)\t-0.5\n",
      "  (2, 2)\t1.0\n",
      "  (2, 3)\t-0.5\n",
      "  (3, 2)\t-0.5\n",
      "  (3, 3)\t1.0\n",
      "  (3, 4)\t-0.5\n",
      "  (4, 3)\t-0.5\n",
      "  (4, 4)\t1.0\n",
      "  (4, 5)\t-0.5\n",
      "  (5, 4)\t-0.5\n",
      "  (5, 5)\t1.0\n",
      "  (5, 6)\t-0.5\n",
      "  (6, 5)\t-0.5\n",
      "  (6, 6)\t1.0\n",
      "  (6, 7)\t-0.5\n",
      "  (7, 6)\t-0.5\n",
      "  (7, 7)\t1.0\n",
      "  (7, 8)\t-0.5\n",
      "  (8, 7)\t-0.5\n",
      "  (8, 8)\t1.0\n",
      "  :\t:\n",
      "  (991, 991)\t1.0\n",
      "  (991, 992)\t-0.5\n",
      "  (992, 991)\t-0.5\n",
      "  (992, 992)\t1.0\n",
      "  (992, 993)\t-0.5\n",
      "  (993, 992)\t-0.5\n",
      "  (993, 993)\t1.0\n",
      "  (993, 994)\t-0.5\n",
      "  (994, 993)\t-0.5\n",
      "  (994, 994)\t1.0\n",
      "  (994, 995)\t-0.5\n",
      "  (995, 994)\t-0.5\n",
      "  (995, 995)\t1.0\n",
      "  (995, 996)\t-0.5\n",
      "  (996, 995)\t-0.5\n",
      "  (996, 996)\t1.0\n",
      "  (996, 997)\t-0.5\n",
      "  (997, 996)\t-0.5\n",
      "  (997, 997)\t1.0\n",
      "  (997, 998)\t-0.5\n",
      "  (998, 997)\t-0.5\n",
      "  (998, 998)\t1.0\n",
      "  (998, 999)\t-0.5\n",
      "  (999, 998)\t-0.5\n",
      "  (999, 999)\t1.0\n",
      "B:  [1. 1. 1. 1. 1. 1. 1. 1. 1. 1. 1. 1. 1. 1. 1. 1. 1. 1. 1. 1. 1. 1. 1. 1.\n",
      " 1. 1. 1. 1. 1. 1. 1. 1. 1. 1. 1. 1. 1. 1. 1. 1. 1. 1. 1. 1. 1. 1. 1. 1.\n",
      " 1. 1. 1. 1. 1. 1. 1. 1. 1. 1. 1. 1. 1. 1. 1. 1. 1. 1. 1. 1. 1. 1. 1. 1.\n",
      " 1. 1. 1. 1. 1. 1. 1. 1. 1. 1. 1. 1. 1. 1. 1. 1. 1. 1. 1. 1. 1. 1. 1. 1.\n",
      " 1. 1. 1. 1. 1. 1. 1. 1. 1. 1. 1. 1. 1. 1. 1. 1. 1. 1. 1. 1. 1. 1. 1. 1.\n",
      " 1. 1. 1. 1. 1. 1. 1. 1. 1. 1. 1. 1. 1. 1. 1. 1. 1. 1. 1. 1. 1. 1. 1. 1.\n",
      " 1. 1. 1. 1. 1. 1. 1. 1. 1. 1. 1. 1. 1. 1. 1. 1. 1. 1. 1. 1. 1. 1. 1. 1.\n",
      " 1. 1. 1. 1. 1. 1. 1. 1. 1. 1. 1. 1. 1. 1. 1. 1. 1. 1. 1. 1. 1. 1. 1. 1.\n",
      " 1. 1. 1. 1. 1. 1. 1. 1. 1. 1. 1. 1. 1. 1. 1. 1. 1. 1. 1. 1. 1. 1. 1. 1.\n",
      " 1. 1. 1. 1. 1. 1. 1. 1. 1. 1. 1. 1. 1. 1. 1. 1. 1. 1. 1. 1. 1. 1. 1. 1.\n",
      " 1. 1. 1. 1. 1. 1. 1. 1. 1. 1. 1. 1. 1. 1. 1. 1. 1. 1. 1. 1. 1. 1. 1. 1.\n",
      " 1. 1. 1. 1. 1. 1. 1. 1. 1. 1. 1. 1. 1. 1. 1. 1. 1. 1. 1. 1. 1. 1. 1. 1.\n",
      " 1. 1. 1. 1. 1. 1. 1. 1. 1. 1. 1. 1. 1. 1. 1. 1. 1. 1. 1. 1. 1. 1. 1. 1.\n",
      " 1. 1. 1. 1. 1. 1. 1. 1. 1. 1. 1. 1. 1. 1. 1. 1. 1. 1. 1. 1. 1. 1. 1. 1.\n",
      " 1. 1. 1. 1. 1. 1. 1. 1. 1. 1. 1. 1. 1. 1. 1. 1. 1. 1. 1. 1. 1. 1. 1. 1.\n",
      " 1. 1. 1. 1. 1. 1. 1. 1. 1. 1. 1. 1. 1. 1. 1. 1. 1. 1. 1. 1. 1. 1. 1. 1.\n",
      " 1. 1. 1. 1. 1. 1. 1. 1. 1. 1. 1. 1. 1. 1. 1. 1. 1. 1. 1. 1. 1. 1. 1. 1.\n",
      " 1. 1. 1. 1. 1. 1. 1. 1. 1. 1. 1. 1. 1. 1. 1. 1. 1. 1. 1. 1. 1. 1. 1. 1.\n",
      " 1. 1. 1. 1. 1. 1. 1. 1. 1. 1. 1. 1. 1. 1. 1. 1. 1. 1. 1. 1. 1. 1. 1. 1.\n",
      " 1. 1. 1. 1. 1. 1. 1. 1. 1. 1. 1. 1. 1. 1. 1. 1. 1. 1. 1. 1. 1. 1. 1. 1.\n",
      " 1. 1. 1. 1. 1. 1. 1. 1. 1. 1. 1. 1. 1. 1. 1. 1. 1. 1. 1. 1. 1. 1. 1. 1.\n",
      " 1. 1. 1. 1. 1. 1. 1. 1. 1. 1. 1. 1. 1. 1. 1. 1. 1. 1. 1. 1. 1. 1. 1. 1.\n",
      " 1. 1. 1. 1. 1. 1. 1. 1. 1. 1. 1. 1. 1. 1. 1. 1. 1. 1. 1. 1. 1. 1. 1. 1.\n",
      " 1. 1. 1. 1. 1. 1. 1. 1. 1. 1. 1. 1. 1. 1. 1. 1. 1. 1. 1. 1. 1. 1. 1. 1.\n",
      " 1. 1. 1. 1. 1. 1. 1. 1. 1. 1. 1. 1. 1. 1. 1. 1. 1. 1. 1. 1. 1. 1. 1. 1.\n",
      " 1. 1. 1. 1. 1. 1. 1. 1. 1. 1. 1. 1. 1. 1. 1. 1. 1. 1. 1. 1. 1. 1. 1. 1.\n",
      " 1. 1. 1. 1. 1. 1. 1. 1. 1. 1. 1. 1. 1. 1. 1. 1. 1. 1. 1. 1. 1. 1. 1. 1.\n",
      " 1. 1. 1. 1. 1. 1. 1. 1. 1. 1. 1. 1. 1. 1. 1. 1. 1. 1. 1. 1. 1. 1. 1. 1.\n",
      " 1. 1. 1. 1. 1. 1. 1. 1. 1. 1. 1. 1. 1. 1. 1. 1. 1. 1. 1. 1. 1. 1. 1. 1.\n",
      " 1. 1. 1. 1. 1. 1. 1. 1. 1. 1. 1. 1. 1. 1. 1. 1. 1. 1. 1. 1. 1. 1. 1. 1.\n",
      " 1. 1. 1. 1. 1. 1. 1. 1. 1. 1. 1. 1. 1. 1. 1. 1. 1. 1. 1. 1. 1. 1. 1. 1.\n",
      " 1. 1. 1. 1. 1. 1. 1. 1. 1. 1. 1. 1. 1. 1. 1. 1. 1. 1. 1. 1. 1. 1. 1. 1.\n",
      " 1. 1. 1. 1. 1. 1. 1. 1. 1. 1. 1. 1. 1. 1. 1. 1. 1. 1. 1. 1. 1. 1. 1. 1.\n",
      " 1. 1. 1. 1. 1. 1. 1. 1. 1. 1. 1. 1. 1. 1. 1. 1. 1. 1. 1. 1. 1. 1. 1. 1.\n",
      " 1. 1. 1. 1. 1. 1. 1. 1. 1. 1. 1. 1. 1. 1. 1. 1. 1. 1. 1. 1. 1. 1. 1. 1.\n",
      " 1. 1. 1. 1. 1. 1. 1. 1. 1. 1. 1. 1. 1. 1. 1. 1. 1. 1. 1. 1. 1. 1. 1. 1.\n",
      " 1. 1. 1. 1. 1. 1. 1. 1. 1. 1. 1. 1. 1. 1. 1. 1. 1. 1. 1. 1. 1. 1. 1. 1.\n",
      " 1. 1. 1. 1. 1. 1. 1. 1. 1. 1. 1. 1. 1. 1. 1. 1. 1. 1. 1. 1. 1. 1. 1. 1.\n",
      " 1. 1. 1. 1. 1. 1. 1. 1. 1. 1. 1. 1. 1. 1. 1. 1. 1. 1. 1. 1. 1. 1. 1. 1.\n",
      " 1. 1. 1. 1. 1. 1. 1. 1. 1. 1. 1. 1. 1. 1. 1. 1. 1. 1. 1. 1. 1. 1. 1. 1.\n",
      " 1. 1. 1. 1. 1. 1. 1. 1. 1. 1. 1. 1. 1. 1. 1. 1. 1. 1. 1. 1. 1. 1. 1. 1.\n",
      " 1. 1. 1. 1. 1. 1. 1. 1. 1. 1. 1. 1. 1. 1. 1. 1.]\n",
      "X:  (array([  1000.,   1998.,   2994.,   3988.,   4980.,   5970.,   6958.,\n",
      "         7944.,   8928.,   9910.,  10890.,  11868.,  12844.,  13818.,\n",
      "        14790.,  15760.,  16728.,  17694.,  18658.,  19620.,  20580.,\n",
      "        21538.,  22494.,  23448.,  24400.,  25350.,  26298.,  27244.,\n",
      "        28188.,  29130.,  30070.,  31008.,  31944.,  32878.,  33810.,\n",
      "        34740.,  35668.,  36594.,  37518.,  38440.,  39360.,  40278.,\n",
      "        41194.,  42108.,  43020.,  43930.,  44838.,  45744.,  46648.,\n",
      "        47550.,  48450.,  49348.,  50244.,  51138.,  52030.,  52920.,\n",
      "        53808.,  54694.,  55578.,  56460.,  57340.,  58218.,  59094.,\n",
      "        59968.,  60840.,  61710.,  62578.,  63444.,  64308.,  65170.,\n",
      "        66030.,  66888.,  67744.,  68598.,  69450.,  70300.,  71148.,\n",
      "        71994.,  72838.,  73680.,  74520.,  75358.,  76194.,  77028.,\n",
      "        77860.,  78690.,  79518.,  80344.,  81168.,  81990.,  82810.,\n",
      "        83628.,  84444.,  85258.,  86070.,  86880.,  87688.,  88494.,\n",
      "        89298.,  90100.,  90900.,  91698.,  92494.,  93288.,  94080.,\n",
      "        94870.,  95658.,  96444.,  97228.,  98010.,  98790.,  99568.,\n",
      "       100344., 101118., 101890., 102660., 103428., 104194., 104958.,\n",
      "       105720., 106480., 107238., 107994., 108748., 109500., 110250.,\n",
      "       110998., 111744., 112488., 113230., 113970., 114708., 115444.,\n",
      "       116178., 116910., 117640., 118368., 119094., 119818., 120540.,\n",
      "       121260., 121978., 122694., 123408., 124120., 124830., 125538.,\n",
      "       126244., 126948., 127650., 128350., 129048., 129744., 130438.,\n",
      "       131130., 131820., 132508., 133194., 133878., 134560., 135240.,\n",
      "       135918., 136594., 137268., 137940., 138610., 139278., 139944.,\n",
      "       140608., 141270., 141930., 142588., 143244., 143898., 144550.,\n",
      "       145200., 145848., 146494., 147138., 147780., 148420., 149058.,\n",
      "       149694., 150328., 150960., 151590., 152218., 152844., 153468.,\n",
      "       154090., 154710., 155328., 155944., 156558., 157170., 157780.,\n",
      "       158388., 158994., 159598., 160200., 160800., 161398., 161994.,\n",
      "       162588., 163180., 163770., 164358., 164944., 165528., 166110.,\n",
      "       166690., 167268., 167844., 168418., 168990., 169560., 170128.,\n",
      "       170694., 171258., 171820., 172380., 172938., 173494., 174048.,\n",
      "       174600., 175150., 175698., 176244., 176788., 177330., 177870.,\n",
      "       178408., 178944., 179478., 180010., 180540., 181068., 181594.,\n",
      "       182118., 182640., 183160., 183678., 184194., 184708., 185220.,\n",
      "       185730., 186238., 186744., 187248., 187750., 188250., 188748.,\n",
      "       189244., 189738., 190230., 190720., 191208., 191694., 192178.,\n",
      "       192660., 193140., 193618., 194094., 194568., 195040., 195510.,\n",
      "       195978., 196444., 196908., 197370., 197830., 198288., 198744.,\n",
      "       199198., 199650., 200100., 200548., 200994., 201438., 201880.,\n",
      "       202320., 202758., 203194., 203628., 204060., 204490., 204918.,\n",
      "       205344., 205768., 206190., 206610., 207028., 207444., 207858.,\n",
      "       208270., 208680., 209088., 209494., 209898., 210300., 210700.,\n",
      "       211098., 211494., 211888., 212280., 212670., 213058., 213444.,\n",
      "       213828., 214210., 214590., 214968., 215344., 215718., 216090.,\n",
      "       216460., 216828., 217194., 217558., 217920., 218280., 218638.,\n",
      "       218994., 219348., 219700., 220050., 220398., 220744., 221088.,\n",
      "       221430., 221770., 222108., 222444., 222778., 223110., 223440.,\n",
      "       223768., 224094., 224418., 224740., 225060., 225378., 225694.,\n",
      "       226008., 226320., 226630., 226938., 227244., 227548., 227850.,\n",
      "       228150., 228448., 228744., 229038., 229330., 229620., 229908.,\n",
      "       230194., 230478., 230760., 231040., 231318., 231594., 231868.,\n",
      "       232140., 232410., 232678., 232944., 233208., 233470., 233730.,\n",
      "       233988., 234244., 234498., 234750., 235000., 235248., 235494.,\n",
      "       235738., 235980., 236220., 236458., 236694., 236928., 237160.,\n",
      "       237390., 237618., 237844., 238068., 238290., 238510., 238728.,\n",
      "       238944., 239158., 239370., 239580., 239788., 239994., 240198.,\n",
      "       240400., 240600., 240798., 240994., 241188., 241380., 241570.,\n",
      "       241758., 241944., 242128., 242310., 242490., 242668., 242844.,\n",
      "       243018., 243190., 243360., 243528., 243694., 243858., 244020.,\n",
      "       244180., 244338., 244494., 244648., 244800., 244950., 245098.,\n",
      "       245244., 245388., 245530., 245670., 245808., 245944., 246078.,\n",
      "       246210., 246340., 246468., 246594., 246718., 246840., 246960.,\n",
      "       247078., 247194., 247308., 247420., 247530., 247638., 247744.,\n",
      "       247848., 247950., 248050., 248148., 248244., 248338., 248430.,\n",
      "       248520., 248608., 248694., 248778., 248860., 248940., 249018.,\n",
      "       249094., 249168., 249240., 249310., 249378., 249444., 249508.,\n",
      "       249570., 249630., 249688., 249744., 249798., 249850., 249900.,\n",
      "       249948., 249994., 250038., 250080., 250120., 250158., 250194.,\n",
      "       250228., 250260., 250290., 250318., 250344., 250368., 250390.,\n",
      "       250410., 250428., 250444., 250458., 250470., 250480., 250488.,\n",
      "       250494., 250498., 250500., 250500., 250498., 250494., 250488.,\n",
      "       250480., 250470., 250458., 250444., 250428., 250410., 250390.,\n",
      "       250368., 250344., 250318., 250290., 250260., 250228., 250194.,\n",
      "       250158., 250120., 250080., 250038., 249994., 249948., 249900.,\n",
      "       249850., 249798., 249744., 249688., 249630., 249570., 249508.,\n",
      "       249444., 249378., 249310., 249240., 249168., 249094., 249018.,\n",
      "       248940., 248860., 248778., 248694., 248608., 248520., 248430.,\n",
      "       248338., 248244., 248148., 248050., 247950., 247848., 247744.,\n",
      "       247638., 247530., 247420., 247308., 247194., 247078., 246960.,\n",
      "       246840., 246718., 246594., 246468., 246340., 246210., 246078.,\n",
      "       245944., 245808., 245670., 245530., 245388., 245244., 245098.,\n",
      "       244950., 244800., 244648., 244494., 244338., 244180., 244020.,\n",
      "       243858., 243694., 243528., 243360., 243190., 243018., 242844.,\n",
      "       242668., 242490., 242310., 242128., 241944., 241758., 241570.,\n",
      "       241380., 241188., 240994., 240798., 240600., 240400., 240198.,\n",
      "       239994., 239788., 239580., 239370., 239158., 238944., 238728.,\n",
      "       238510., 238290., 238068., 237844., 237618., 237390., 237160.,\n",
      "       236928., 236694., 236458., 236220., 235980., 235738., 235494.,\n",
      "       235248., 235000., 234750., 234498., 234244., 233988., 233730.,\n",
      "       233470., 233208., 232944., 232678., 232410., 232140., 231868.,\n",
      "       231594., 231318., 231040., 230760., 230478., 230194., 229908.,\n",
      "       229620., 229330., 229038., 228744., 228448., 228150., 227850.,\n",
      "       227548., 227244., 226938., 226630., 226320., 226008., 225694.,\n",
      "       225378., 225060., 224740., 224418., 224094., 223768., 223440.,\n",
      "       223110., 222778., 222444., 222108., 221770., 221430., 221088.,\n",
      "       220744., 220398., 220050., 219700., 219348., 218994., 218638.,\n",
      "       218280., 217920., 217558., 217194., 216828., 216460., 216090.,\n",
      "       215718., 215344., 214968., 214590., 214210., 213828., 213444.,\n",
      "       213058., 212670., 212280., 211888., 211494., 211098., 210700.,\n",
      "       210300., 209898., 209494., 209088., 208680., 208270., 207858.,\n",
      "       207444., 207028., 206610., 206190., 205768., 205344., 204918.,\n",
      "       204490., 204060., 203628., 203194., 202758., 202320., 201880.,\n",
      "       201438., 200994., 200548., 200100., 199650., 199198., 198744.,\n",
      "       198288., 197830., 197370., 196908., 196444., 195978., 195510.,\n",
      "       195040., 194568., 194094., 193618., 193140., 192660., 192178.,\n",
      "       191694., 191208., 190720., 190230., 189738., 189244., 188748.,\n",
      "       188250., 187750., 187248., 186744., 186238., 185730., 185220.,\n",
      "       184708., 184194., 183678., 183160., 182640., 182118., 181594.,\n",
      "       181068., 180540., 180010., 179478., 178944., 178408., 177870.,\n",
      "       177330., 176788., 176244., 175698., 175150., 174600., 174048.,\n",
      "       173494., 172938., 172380., 171820., 171258., 170694., 170128.,\n",
      "       169560., 168990., 168418., 167844., 167268., 166690., 166110.,\n",
      "       165528., 164944., 164358., 163770., 163180., 162588., 161994.,\n",
      "       161398., 160800., 160200., 159598., 158994., 158388., 157780.,\n",
      "       157170., 156558., 155944., 155328., 154710., 154090., 153468.,\n",
      "       152844., 152218., 151590., 150960., 150328., 149694., 149058.,\n",
      "       148420., 147780., 147138., 146494., 145848., 145200., 144550.,\n",
      "       143898., 143244., 142588., 141930., 141270., 140608., 139944.,\n",
      "       139278., 138610., 137940., 137268., 136594., 135918., 135240.,\n",
      "       134560., 133878., 133194., 132508., 131820., 131130., 130438.,\n",
      "       129744., 129048., 128350., 127650., 126948., 126244., 125538.,\n",
      "       124830., 124120., 123408., 122694., 121978., 121260., 120540.,\n",
      "       119818., 119094., 118368., 117640., 116910., 116178., 115444.,\n",
      "       114708., 113970., 113230., 112488., 111744., 110998., 110250.,\n",
      "       109500., 108748., 107994., 107238., 106480., 105720., 104958.,\n",
      "       104194., 103428., 102660., 101890., 101118., 100344.,  99568.,\n",
      "        98790.,  98010.,  97228.,  96444.,  95658.,  94870.,  94080.,\n",
      "        93288.,  92494.,  91698.,  90900.,  90100.,  89298.,  88494.,\n",
      "        87688.,  86880.,  86070.,  85258.,  84444.,  83628.,  82810.,\n",
      "        81990.,  81168.,  80344.,  79518.,  78690.,  77860.,  77028.,\n",
      "        76194.,  75358.,  74520.,  73680.,  72838.,  71994.,  71148.,\n",
      "        70300.,  69450.,  68598.,  67744.,  66888.,  66030.,  65170.,\n",
      "        64308.,  63444.,  62578.,  61710.,  60840.,  59968.,  59094.,\n",
      "        58218.,  57340.,  56460.,  55578.,  54694.,  53808.,  52920.,\n",
      "        52030.,  51138.,  50244.,  49348.,  48450.,  47550.,  46648.,\n",
      "        45744.,  44838.,  43930.,  43020.,  42108.,  41194.,  40278.,\n",
      "        39360.,  38440.,  37518.,  36594.,  35668.,  34740.,  33810.,\n",
      "        32878.,  31944.,  31008.,  30070.,  29130.,  28188.,  27244.,\n",
      "        26298.,  25350.,  24400.,  23448.,  22494.,  21538.,  20580.,\n",
      "        19620.,  18658.,  17694.,  16728.,  15760.,  14790.,  13818.,\n",
      "        12844.,  11868.,  10890.,   9910.,   8928.,   7944.,   6958.,\n",
      "         5970.,   4980.,   3988.,   2994.,   1998.,   1000.]), 0)\n"
     ]
    }
   ],
   "source": [
    "from scipy.sparse import csr_matrix\n",
    "from scipy.sparse.linalg import cg\n",
    "\n",
    "# Provide the dimensions of the matrix as a tuple\n",
    "m = csr_matrix((1000, 1000))\n",
    "\n",
    "# Write values to the lead diagonal\n",
    "for i in range(1000):\n",
    "    m[i, i] = 1\n",
    "\n",
    "# Write values to the diagonals next to the lead diagonal\n",
    "for i in range(999):\n",
    "    m[i, i + 1] = -0.5\n",
    "    m[i + 1, i] = -0.5\n",
    "\n",
    "print(\"M:\")\n",
    "# When we print the matrix, the coordinates of the non-zero values and their values will be printed\n",
    "print(m)\n",
    "\n",
    "b = np.zeros(1000) + 1\n",
    "print(\"B: \", b)\n",
    "\n",
    "x = cg(m, b)\n",
    "\n",
    "# Note the zero that is included in the tuple that was returned is an integer which indicates teh conjugate gradient solver converged correctly and found a solution\n",
    "print(\"X: \", x)\n"
   ]
  },
  {
   "cell_type": "markdown",
   "metadata": {
    "id": "tEWHML18WGTP"
   },
   "source": [
    "This is an example of how Scipy can be used to solve linear algebra problems efficiently."
   ]
  }
 ],
 "metadata": {
  "colab": {
   "authorship_tag": "ABX9TyOSGsmoKYdTnuz0ywrUaRmc",
   "collapsed_sections": [],
   "name": "Array Operations.ipynb",
   "provenance": []
  },
  "interpreter": {
   "hash": "e7370f93d1d0cde622a1f8e1c04877d8463912d04d973331ad4851f04de6915a"
  },
  "kernelspec": {
   "display_name": "Python 3.10.4 64-bit",
   "language": "python",
   "name": "python3"
  },
  "language_info": {
   "codemirror_mode": {
    "name": "ipython",
    "version": 3
   },
   "file_extension": ".py",
   "mimetype": "text/x-python",
   "name": "python",
   "nbconvert_exporter": "python",
   "pygments_lexer": "ipython3",
   "version": "3.10.4"
  }
 },
 "nbformat": 4,
 "nbformat_minor": 1
}
