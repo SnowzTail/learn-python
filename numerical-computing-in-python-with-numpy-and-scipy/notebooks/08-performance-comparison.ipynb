{
  "cells": [
    {
      "cell_type": "markdown",
      "metadata": {
        "id": "6qMK3uHIyKGk"
      },
      "source": [
        "# Performance Comparison\n",
        "\n",
        "It's difficult to produce direct performance comparison between NumPy/SciPy implementations of operations and non-NumPy/SciPy implementations because there are typically many ways of carrying out a calculation, particularly when NumPy/SciPy are not being used and particularly for more complex calculations.\n",
        "\n",
        "However, this notebook aims to make a few comparisons where possible as an illustration of how must faster NumPy and SciPy are. The examples will use the ```line_profiler``` [package](https://pypi.org/project/line-profiler/). Don't worry about the details of the implementation, just read the output which appears to find out how much time was spent on each line. Where possible I have tried to use comparable/optimal implementations in non-NumPy/SciPy Python, although it's possible there are better ways."
      ]
    },
    {
      "cell_type": "markdown",
      "metadata": {
        "id": "XBy0rJdCz_EF"
      },
      "source": [
        "## Sequence Creation\n",
        "\n",
        "We can create a few sequences (lists or NumPy arrays) and compare how long it takes for them to be created."
      ]
    },
    {
      "cell_type": "code",
      "execution_count": 1,
      "metadata": {
        "id": "7LWR_83XyF37",
        "colab": {
          "base_uri": "https://localhost:8080/"
        },
        "outputId": "8fd5bb03-b608-454a-c1db-cd8023f7c6d1"
      },
      "outputs": [
        {
          "output_type": "stream",
          "name": "stdout",
          "text": [
            "Looking in indexes: https://pypi.org/simple, https://us-python.pkg.dev/colab-wheels/public/simple/\n",
            "Collecting line_profiler\n",
            "  Downloading line_profiler-3.5.1-cp37-cp37m-manylinux_2_17_x86_64.manylinux2014_x86_64.whl (67 kB)\n",
            "\u001b[K     |████████████████████████████████| 67 kB 2.0 MB/s \n",
            "\u001b[?25hInstalling collected packages: line-profiler\n",
            "Successfully installed line-profiler-3.5.1\n"
          ]
        }
      ],
      "source": [
        "#Install the line_profiler module\n",
        "!pip install line_profiler\n",
        "\n",
        "import numpy as np\n",
        "\n",
        "#Load the module\n",
        "%load_ext line_profiler\n",
        "\n",
        "def sequence_creation(repetitions):\n",
        "\t# Repeat the operations a large number of times to get a good length of time\n",
        "\tfor i in range(repetitions):\n",
        "\t\t# Non-NumPy zeroes\n",
        "\t\ta = [0]*100000\n",
        "\n",
        "\t\t# Numpy zeroes\n",
        "\t\ta = np.zeros(100000)\n",
        "\n",
        "\t\t# Non-NumPy ascending sequence\n",
        "\t\ta = [i for i in range(100000)]\n",
        "\n",
        "\t\t# NumPy ascending sequence\n",
        "\t\ta = np.arange(100000)\n",
        "\n",
        "%lprun -f sequence_creation sequence_creation(1000)"
      ]
    },
    {
      "cell_type": "markdown",
      "metadata": {
        "id": "OAAMEqVg5yLv"
      },
      "source": [
        "## Dot Product\n",
        "\n",
        "We can compare the time taken to calculate the dot product of two vectors."
      ]
    },
    {
      "cell_type": "code",
      "execution_count": 2,
      "metadata": {
        "id": "-q458HGx2wsu",
        "colab": {
          "base_uri": "https://localhost:8080/"
        },
        "outputId": "617c99d2-bf80-4e10-9b31-aa88608cf1f0"
      },
      "outputs": [
        {
          "output_type": "stream",
          "name": "stdout",
          "text": [
            "The line_profiler extension is already loaded. To reload it, use:\n",
            "  %reload_ext line_profiler\n"
          ]
        }
      ],
      "source": [
        "#Install the line_profiler module\n",
        "# !pip install line_profiler\n",
        "\n",
        "import numpy as np\n",
        "\n",
        "#Load the module\n",
        "%load_ext line_profiler\n",
        "\n",
        "def dot_products(repetitions):\n",
        "\t\n",
        "\t# Create the non-NumPy and NumPy arrays to be used\n",
        "\ta = [i for i in range(10000)]\n",
        "\tb = np.arange(10000)\n",
        "\n",
        "\t# Repeat the operations a large number of times to get a good length of time\n",
        "\tfor i in range(repetitions):\n",
        "\t\t# Non-NumPy dot product\n",
        "\t\tc = sum(i[0] * i[1] for i in zip(a, a))\n",
        "\n",
        "\t\t# Numpy dot procuct\n",
        "\t\tc = np.dot(b, b)\n",
        "\n",
        "%lprun -f dot_products dot_products(1000)"
      ]
    },
    {
      "cell_type": "markdown",
      "metadata": {
        "id": "PSAlIc349bRy"
      },
      "source": [
        "## Log Function\n",
        "\n",
        "We can compare the time taken to calculate the logarithm of a single value or an array of values. When calculating a single value, the function in the ```math``` module is faster - this is because it is specifically designed to calculate the logarithm of a single value, whilst the ```numpy``` version is a more general function which works on arrays of data. As we see when we use it on the array of values later, this makes it faster when calculating the logarithm of an array of values."
      ]
    },
    {
      "cell_type": "code",
      "execution_count": 3,
      "metadata": {
        "id": "QZ9c620r7TDV",
        "colab": {
          "base_uri": "https://localhost:8080/"
        },
        "outputId": "0260e9d8-49f1-49a6-a5d1-d8a7bcb6a9d6"
      },
      "outputs": [
        {
          "output_type": "stream",
          "name": "stdout",
          "text": [
            "The line_profiler extension is already loaded. To reload it, use:\n",
            "  %reload_ext line_profiler\n"
          ]
        }
      ],
      "source": [
        "#Install the line_profiler module\n",
        "# !pip install line_profiler\n",
        "\n",
        "import math\n",
        "import numpy as np\n",
        "\n",
        "#Load the module\n",
        "%load_ext line_profiler\n",
        "\n",
        "def log_comparison(repetitions):\n",
        "\t\n",
        "\t# Create the non-NumPy and NumPy arrays to be used\n",
        "\ta = [i for i in range(1,\t10000)]\n",
        "\tb = np.arange(1, 10000)\n",
        "\n",
        "\t# Repeat the operations a large number of times to get a good length of time\n",
        "\tfor i in range(repetitions):\n",
        "\t\tfor i in range(repetitions):\n",
        "\t\t\t# Non-SciPy single log\n",
        "\t\t\tc = math.log(2)\n",
        "\n",
        "\t\t\t#SciPy single log\n",
        "\t\t\tc = np.log(2)\n",
        "\n",
        "\t\t# Non-Scipy log of list\n",
        "\t\tc = list(map(math.log, a))\n",
        "\n",
        "\t\t#Scipy log of array\n",
        "\t\tc = np.log(b)\n",
        "\n",
        "%lprun -f log_comparison log_comparison(1000)"
      ]
    },
    {
      "cell_type": "markdown",
      "metadata": {
        "id": "bVp87FkcDmeu"
      },
      "source": [
        "## Sinc Function\n",
        "\n",
        "The sinc function is defined as:\n",
        "\n",
        "$f(x) = \\frac{\\sin(\\pi x)}{\\pi x}$\n",
        "\n",
        "There is not a definition in the ```math``` module so we must write our own. Again, SciPy is slower for the single calculation, but much quicker for the calculation on a sequence."
      ]
    },
    {
      "cell_type": "code",
      "execution_count": 4,
      "metadata": {
        "id": "wzybixiy-3F0",
        "colab": {
          "base_uri": "https://localhost:8080/"
        },
        "outputId": "f3bd6302-0d65-4797-ec40-5e440aaa114a"
      },
      "outputs": [
        {
          "output_type": "stream",
          "name": "stdout",
          "text": [
            "The line_profiler extension is already loaded. To reload it, use:\n",
            "  %reload_ext line_profiler\n"
          ]
        }
      ],
      "source": [
        "#Install the line_profiler module\n",
        "# !pip install line_profiler\n",
        "\n",
        "import math\n",
        "from scipy.special import sinc\n",
        "import numpy as np\n",
        "\n",
        "#Load the module\n",
        "%load_ext line_profiler\n",
        "\n",
        "def sinc_non_scipy(x):\n",
        "\treturn(math.sin(math.pi * x)/(math.pi * x))\n",
        "\n",
        "def sinc_comparison(repetitions):\n",
        "\t\n",
        "\t# Create the non-NumPy and NumPy arrays to be used\n",
        "\ta = [i for i in range(1, 1000)]\n",
        "\tb = np.arange(1, 1000)\n",
        "\n",
        "\t# Repeat the operations a large number of times to get a good length of time\n",
        "\tfor i in range(repetitions):\n",
        "\t\tfor i in range(repetitions):\n",
        "\t\t\t# Non-SciPy single sinc\n",
        "\t\t\tc = sinc_non_scipy(1)\n",
        "\n",
        "\t\t\t#SciPy single sinc\n",
        "\t\t\tc = sinc(1)\n",
        "\n",
        "\t\t# Non_Scipy sinc of list\n",
        "\t\tc = list(map(sinc_non_scipy, a))\n",
        "\n",
        "\t\t#Scipy sinc of array\n",
        "\t\tc = sinc(b)\n",
        "\n",
        "%lprun -f sinc_comparison sinc_comparison(100)"
      ]
    }
  ],
  "metadata": {
    "colab": {
      "collapsed_sections": [],
      "name": "08-performance-comparison.ipynb",
      "provenance": []
    },
    "kernelspec": {
      "display_name": "Python 3.10.5 64-bit",
      "language": "python",
      "name": "python3"
    },
    "language_info": {
      "codemirror_mode": {
        "name": "ipython",
        "version": 3
      },
      "file_extension": ".py",
      "mimetype": "text/x-python",
      "name": "python",
      "nbconvert_exporter": "python",
      "pygments_lexer": "ipython3",
      "version": "3.10.5"
    },
    "vscode": {
      "interpreter": {
        "hash": "e7370f93d1d0cde622a1f8e1c04877d8463912d04d973331ad4851f04de6915a"
      }
    }
  },
  "nbformat": 4,
  "nbformat_minor": 0
}