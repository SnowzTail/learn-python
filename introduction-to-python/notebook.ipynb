{
 "cells": [
  {
   "cell_type": "code",
   "execution_count": 7,
   "metadata": {},
   "outputs": [
    {
     "name": "stdout",
     "output_type": "stream",
     "text": [
      "Hello world\n",
      "1\n",
      "-3.14\n",
      "🐍\n"
     ]
    }
   ],
   "source": [
    "print(\"Hello world\")\n",
    "print(1)\n",
    "print(-3.14)\n",
    "print(\"\\U0001F40D\")\n"
   ]
  },
  {
   "cell_type": "code",
   "execution_count": 8,
   "metadata": {},
   "outputs": [
    {
     "name": "stdout",
     "output_type": "stream",
     "text": [
      "2.718\n"
     ]
    }
   ],
   "source": [
    "var1 = \"word\"\n",
    "var2 = -3\n",
    "var3 = 2.718\n",
    "var1 = var3\n",
    "\n",
    "print(var1)\n"
   ]
  },
  {
   "cell_type": "code",
   "execution_count": 9,
   "metadata": {},
   "outputs": [
    {
     "name": "stdout",
     "output_type": "stream",
     "text": [
      "1000\n",
      "9\n",
      "1\n",
      "3\n",
      "4\n"
     ]
    }
   ],
   "source": [
    "a = 10\n",
    "b = 3\n",
    "print(a**b)\n",
    "print(a ^ b)\n",
    "print(a % b)\n",
    "print(a // b)\n",
    "print((1 + 1) ** (1 - 1 * 3 + 4))\n"
   ]
  },
  {
   "cell_type": "code",
   "execution_count": 10,
   "metadata": {},
   "outputs": [
    {
     "name": "stdout",
     "output_type": "stream",
     "text": [
      "36\n",
      "9\n",
      "54\n",
      "27\n",
      "135\n",
      "270\n",
      "2.0\n",
      "4\n",
      "8\n"
     ]
    }
   ],
   "source": [
    "edge = 3\n",
    "count = 5\n",
    "waterVolume = 100\n",
    "\n",
    "sumEdge = edge * 12\n",
    "print(sumEdge)\n",
    "\n",
    "face = edge**2\n",
    "print(face)\n",
    "\n",
    "surface = face * 6\n",
    "print(surface)\n",
    "\n",
    "volume = edge**3\n",
    "print(volume)\n",
    "\n",
    "sumVolume = volume * count\n",
    "print(sumVolume)\n",
    "\n",
    "sumSurface = surface * count\n",
    "print(sumSurface)\n",
    "\n",
    "surfaceToVolume = surface / volume\n",
    "print(surfaceToVolume)\n",
    "\n",
    "cubeNeeded = waterVolume // volume + 1\n",
    "print(cubeNeeded)\n",
    "\n",
    "remainVolume = cubeNeeded * volume - waterVolume\n",
    "print(remainVolume)\n"
   ]
  },
  {
   "cell_type": "code",
   "execution_count": 12,
   "metadata": {},
   "outputs": [
    {
     "name": "stdout",
     "output_type": "stream",
     "text": [
      "1\n"
     ]
    }
   ],
   "source": [
    "x = 0\n",
    "x += 1\n",
    "\n",
    "print(x)\n"
   ]
  },
  {
   "cell_type": "code",
   "execution_count": 13,
   "metadata": {},
   "outputs": [
    {
     "name": "stdout",
     "output_type": "stream",
     "text": [
      "<class 'int'>\n",
      "<class 'str'>\n",
      "<class 'int'>\n",
      "<class 'float'>\n",
      "<class 'float'>\n",
      "<class 'float'>\n",
      "<class 'int'>\n"
     ]
    }
   ],
   "source": [
    "print(type(1))\n",
    "print(type(\"1\"))\n",
    "print(type(-2))\n",
    "print(type(1.0))\n",
    "print(type(3.14))\n",
    "print(type(4 / 3))\n",
    "print(type(round(3.14)))\n"
   ]
  },
  {
   "cell_type": "code",
   "execution_count": 18,
   "metadata": {},
   "outputs": [
    {
     "name": "stdout",
     "output_type": "stream",
     "text": [
      "-3\n",
      "-4\n",
      "-4.0\n"
     ]
    }
   ],
   "source": [
    "my_number = -3.6\n",
    "\n",
    "round_down = int(my_number)\n",
    "print(round_down)\n",
    "\n",
    "round_nearest = round(my_number)\n",
    "print(round_nearest)\n",
    "\n",
    "new_float = float(round_nearest)\n",
    "print(new_float)\n"
   ]
  },
  {
   "cell_type": "code",
   "execution_count": 15,
   "metadata": {},
   "outputs": [
    {
     "name": "stdout",
     "output_type": "stream",
     "text": [
      "abcdefg\n",
      "a\n",
      "g\n",
      "bd\n",
      "ace\n",
      "bdf\n",
      "aceg\n",
      "bcde\n",
      "bcde\n",
      "7\n",
      "abcdefghijklmn\n"
     ]
    }
   ],
   "source": [
    "a = \"abcdefg\"\n",
    "print(a)\n",
    "print(a[0])\n",
    "print(a[-1])\n",
    "print(a[1:5:2])\n",
    "print(a[:5:2])\n",
    "print(a[1::2])\n",
    "print(a[::2])\n",
    "print(a[1:5:])\n",
    "print(a[1:5])\n",
    "print(len(a))\n",
    "print(a + \"hijklmn\")\n"
   ]
  },
  {
   "cell_type": "code",
   "execution_count": 16,
   "metadata": {},
   "outputs": [
    {
     "name": "stdout",
     "output_type": "stream",
     "text": [
      "h\n",
      "sya\n",
      "is Python\n",
      "9\n"
     ]
    }
   ],
   "source": [
    "string1 = \"Python\"\n",
    "string2 = \"is my favourite language\"\n",
    "\n",
    "first_string = string1[-3]\n",
    "print(first_string)\n",
    "\n",
    "second_string = string2[1:10:3]\n",
    "print(second_string)\n",
    "\n",
    "third_string = string2[:3:] + string1\n",
    "print(third_string)\n",
    "\n",
    "print(len(third_string))\n"
   ]
  },
  {
   "cell_type": "code",
   "execution_count": 17,
   "metadata": {},
   "outputs": [
    {
     "name": "stdout",
     "output_type": "stream",
     "text": [
      "1\n",
      "123\n",
      "890\n",
      "123890\n",
      "24680\n"
     ]
    }
   ],
   "source": [
    "string3 = \"1234567890\"\n",
    "print(string3[0])\n",
    "\n",
    "substr1 = string3[0:3]\n",
    "print(substr1)\n",
    "\n",
    "substr2 = string3[-3:]\n",
    "print(substr2)\n",
    "\n",
    "catstr = substr1 + substr2\n",
    "print(catstr)\n",
    "\n",
    "substr3 = string3[1::2]\n",
    "print(substr3)\n"
   ]
  },
  {
   "cell_type": "code",
   "execution_count": 20,
   "metadata": {},
   "outputs": [
    {
     "name": "stdout",
     "output_type": "stream",
     "text": [
      "[]\n",
      "['pears', 'crisps', 'soya']\n",
      "soya\n",
      "['pears', 'soya']\n",
      "['oreo', 'crisps', 'soya']\n",
      "['oreo', 'crisps', 'soya', 'chicken breast']\n",
      "['oreo', 'pizza', 'crisps', 'soya', 'chicken breast']\n",
      "5\n",
      "['oreo', 'pizza', 'crisps', 'soya', 'chicken breast', 'bean']\n",
      "['oreo', 'pizza', 'crisps', 'soya', 'chicken breast', 1]\n"
     ]
    }
   ],
   "source": [
    "new_list = []\n",
    "print(new_list)\n",
    "\n",
    "shopping_list = [\"pears\", \"crisps\", \"soya\"]\n",
    "print(shopping_list)\n",
    "print(shopping_list[-1])\n",
    "print(shopping_list[::2])\n",
    "\n",
    "shopping_list[0] = \"oreo\"\n",
    "print(shopping_list)\n",
    "\n",
    "shopping_list.append(\"chicken breast\")\n",
    "print(shopping_list)\n",
    "\n",
    "shopping_list.insert(1, \"pizza\")\n",
    "print(shopping_list)\n",
    "print(len(shopping_list))\n",
    "print(shopping_list + [\"bean\"])\n",
    "\n",
    "shopping_list.append(1)\n",
    "print(shopping_list)\n"
   ]
  },
  {
   "cell_type": "code",
   "execution_count": 21,
   "metadata": {},
   "outputs": [
    {
     "name": "stdout",
     "output_type": "stream",
     "text": [
      "['bear', 'dog']\n",
      "['bear', 'dog', 'cat']\n",
      "['duck', 'bear', 'dog', 'cat']\n",
      "['duck', 'chicken', 'dog', 'cat']\n"
     ]
    }
   ],
   "source": [
    "cuddly_animals = [\"bear\", \"dog\"]\n",
    "print(cuddly_animals)\n",
    "\n",
    "cuddly_animals.append(\"cat\")\n",
    "print(cuddly_animals)\n",
    "\n",
    "cuddly_animals.insert(0, \"duck\")\n",
    "print(cuddly_animals)\n",
    "\n",
    "cuddly_animals[1] = \"chicken\"\n",
    "print(cuddly_animals)\n",
    "# print(cuddly_animals[4])\n",
    "# cuddly_animals[5] = 'me'\n"
   ]
  },
  {
   "cell_type": "code",
   "execution_count": 22,
   "metadata": {},
   "outputs": [
    {
     "name": "stdout",
     "output_type": "stream",
     "text": [
      "(2+1j)\n",
      "<class 'complex'>\n",
      "(3+4j)\n",
      "<class 'complex'>\n",
      "(6+4j)\n"
     ]
    }
   ],
   "source": [
    "c1 = complex(2, 1)\n",
    "print(c1)\n",
    "print(type(c1))\n",
    "\n",
    "c2 = 4j + 3\n",
    "print(c2)\n",
    "print(type(c2))\n",
    "\n",
    "print(c2 + 3)\n"
   ]
  },
  {
   "cell_type": "code",
   "execution_count": 24,
   "metadata": {},
   "outputs": [
    {
     "name": "stdout",
     "output_type": "stream",
     "text": [
      "{'H': 1, 'He': 2}\n",
      "{'H': 1, 'He': 2, 'Li': 3}\n",
      "{'H': 0, 'He': 2, 'Li': 3}\n",
      "{'H': 0, 'He': 2, 'Li': 3, 'C': '?'}\n"
     ]
    }
   ],
   "source": [
    "# Dictionary: \"key\": value\n",
    "atomic_numbers = {\"H\": 1, \"He\": 2}\n",
    "print(atomic_numbers)\n",
    "\n",
    "atomic_numbers[\"Li\"] = 3\n",
    "print(atomic_numbers)\n",
    "\n",
    "atomic_numbers[\"H\"] = 0\n",
    "print(atomic_numbers)\n",
    "\n",
    "atomic_numbers[\"C\"] = \"?\"\n",
    "print(atomic_numbers)\n"
   ]
  },
  {
   "cell_type": "code",
   "execution_count": 31,
   "metadata": {},
   "outputs": [
    {
     "name": "stdout",
     "output_type": "stream",
     "text": [
      "{'Alice': {'phone number': 12345, 'address': '1 Prince Gate', 'email': 'alice@imperial.ac.uk'}, 'Bob': {'phone number': 67890, 'address': '2 Queen Gate', 'email': 'bob@imperial.ac.uk'}}\n",
      "{'phone number': 12345, 'address': '1 Prince Gate', 'email': 'alice@imperial.ac.uk'}\n",
      "12345\n"
     ]
    }
   ],
   "source": [
    "contacts = {\n",
    "    \"Alice\": {\n",
    "        \"phone number\": 12345,\n",
    "        \"address\": \"1 Prince Gate\",\n",
    "        \"email\": \"alice@imperial.ac.uk\",\n",
    "    }\n",
    "}\n",
    "\n",
    "contacts[\"Bob\"] = {\n",
    "    \"phone number\": 67890,\n",
    "    \"address\": \"2 Queen Gate\",\n",
    "    \"email\": \"bob@imperial.ac.uk\",\n",
    "}\n",
    "\n",
    "print(contacts)\n",
    "print(contacts[\"Alice\"])\n",
    "print(contacts[\"Alice\"][\"phone number\"])\n"
   ]
  },
  {
   "cell_type": "code",
   "execution_count": 32,
   "metadata": {},
   "outputs": [
    {
     "name": "stdout",
     "output_type": "stream",
     "text": [
      "<class 'type'>\n",
      "<class 'builtin_function_or_method'>\n",
      "True\n",
      "True\n",
      "True\n",
      "True\n",
      "True\n",
      "False\n",
      "True\n",
      "False\n"
     ]
    }
   ],
   "source": [
    "print(type(type))\n",
    "print(type(print))\n",
    "print(1 < 2)\n",
    "print(1 == 1.0)\n",
    "print(1 != 2)\n",
    "print(3 in [3, 4, 5])\n",
    "print(\"o\" in \"Python\")\n",
    "print(not True)\n",
    "print(1 < 2 or True)\n",
    "print(not \"o\")\n"
   ]
  },
  {
   "cell_type": "code",
   "execution_count": 34,
   "metadata": {},
   "outputs": [
    {
     "name": "stdout",
     "output_type": "stream",
     "text": [
      "Case A\n",
      "False\n",
      "Case B\n",
      "True\n",
      "Case C\n",
      "True\n",
      "Case D\n",
      "True\n",
      "False\n",
      "Case E\n",
      "False\n"
     ]
    }
   ],
   "source": [
    "print(\"Case A\")\n",
    "print(not True)\n",
    "\n",
    "print(\"Case B\")\n",
    "print(3 > 4 or 1 in [1, 2])\n",
    "\n",
    "print(\"Case C\")\n",
    "print(10 % 2 == 0 and 5 != 6)\n",
    "\n",
    "print(\"Case D\")\n",
    "list1 = [1, 2]\n",
    "print(5 * 2 > 8)\n",
    "print(5 * 2 > 8 and list1[1] == 1)\n",
    "\n",
    "print(\"Case E\")\n",
    "list2 = [1, 2]\n",
    "\n",
    "# not is evaluated in the end\n",
    "print(not list1 == list2)\n"
   ]
  },
  {
   "cell_type": "code",
   "execution_count": 35,
   "metadata": {},
   "outputs": [
    {
     "name": "stdout",
     "output_type": "stream",
     "text": [
      "b\n",
      "After\n"
     ]
    }
   ],
   "source": [
    "if 2 < 1:\n",
    "    a = 1\n",
    "    print(a)\n",
    "    if a == 2:\n",
    "        print(\"A\")\n",
    "    print(\"a\")\n",
    "elif 1 == 1:\n",
    "    print(\"b\")\n",
    "elif 2 == 2:\n",
    "    print(\"c\")\n",
    "else:\n",
    "    print(\"d\")\n",
    "\n",
    "print(\"After\")\n"
   ]
  },
  {
   "cell_type": "code",
   "execution_count": 36,
   "metadata": {},
   "outputs": [
    {
     "name": "stdout",
     "output_type": "stream",
     "text": [
      "2\n"
     ]
    }
   ],
   "source": [
    "a = 2\n",
    "\n",
    "if a % 3 == 0 and a % 5 == 0:\n",
    "    print(\"FizzBuzz\")\n",
    "elif a % 3 == 0:\n",
    "    print(\"Fizz\")\n",
    "elif a % 5 == 0:\n",
    "    print(\"Buzz\")\n",
    "else:\n",
    "    print(a)\n"
   ]
  },
  {
   "cell_type": "code",
   "execution_count": 37,
   "metadata": {},
   "outputs": [
    {
     "name": "stdout",
     "output_type": "stream",
     "text": [
      "-1\n",
      "0\n",
      "Even\n",
      "-2\n",
      "-1\n",
      "-3\n",
      "-2\n",
      "Even\n",
      "-4\n",
      "-3\n",
      "after\n"
     ]
    }
   ],
   "source": [
    "my_list = [-1, -2, -3, -4]\n",
    "\n",
    "for item in my_list:\n",
    "    print(item)\n",
    "    a = item + 1\n",
    "    print(a)\n",
    "    if a % 2 == 0:\n",
    "        print(\"Even\")\n",
    "\n",
    "print(\"after\")\n"
   ]
  },
  {
   "cell_type": "code",
   "execution_count": 38,
   "metadata": {},
   "outputs": [
    {
     "name": "stdout",
     "output_type": "stream",
     "text": [
      "a\n",
      "e\n",
      "A\n",
      "E\n"
     ]
    }
   ],
   "source": [
    "my_string = \"1234567890 abcdefg ABCDEFG\"\n",
    "\n",
    "for letter in my_string:\n",
    "    if letter in \"aeiouAEIOU\":\n",
    "        print(letter)\n"
   ]
  },
  {
   "cell_type": "code",
   "execution_count": 39,
   "metadata": {},
   "outputs": [
    {
     "name": "stdout",
     "output_type": "stream",
     "text": [
      "1 1\n",
      "2 2\n",
      "3 6\n",
      "4 24\n",
      "5 120\n"
     ]
    }
   ],
   "source": [
    "n = 5\n",
    "factorial = 1\n",
    "\n",
    "for number in range(1, n + 1):\n",
    "    factorial = factorial * number\n",
    "    print(number, factorial)\n"
   ]
  },
  {
   "cell_type": "code",
   "execution_count": 40,
   "metadata": {},
   "outputs": [
    {
     "name": "stdout",
     "output_type": "stream",
     "text": [
      "1\n",
      "3\n",
      "5\n"
     ]
    }
   ],
   "source": [
    "for number in range(1, n + 1, 2):\n",
    "    print(number)\n"
   ]
  },
  {
   "cell_type": "code",
   "execution_count": 41,
   "metadata": {},
   "outputs": [
    {
     "name": "stdout",
     "output_type": "stream",
     "text": [
      "338350\n"
     ]
    }
   ],
   "source": [
    "n = 100\n",
    "sum_square = 0\n",
    "\n",
    "for number in range(1, n + 1):\n",
    "    sum_square = sum_square + number**2\n",
    "\n",
    "print(sum_square)\n"
   ]
  },
  {
   "cell_type": "code",
   "execution_count": 42,
   "metadata": {},
   "outputs": [
    {
     "name": "stdout",
     "output_type": "stream",
     "text": [
      "The value  1  has  1  factors.\n",
      "The value  2  has  2  factors.\n",
      "The value  3  has  2  factors.\n",
      "The value  4  has  3  factors.\n",
      "The value  5  has  2  factors.\n"
     ]
    }
   ],
   "source": [
    "for x in range(1, 6):\n",
    "    n_factor = 0\n",
    "    for potential_factor in range(1, x + 1):\n",
    "        if x % potential_factor == 0:\n",
    "            n_factor = n_factor + 1\n",
    "            # print(x, potential_factor)\n",
    "    print(\"The value \", x, \" has \", n_factor, \" factors.\")\n"
   ]
  },
  {
   "cell_type": "code",
   "execution_count": 45,
   "metadata": {},
   "outputs": [
    {
     "name": "stdout",
     "output_type": "stream",
     "text": [
      "There are  168  prime numbers between 2 and 1001:  [2, 3, 5, 7, 11, 13, 17, 19, 23, 29, 31, 37, 41, 43, 47, 53, 59, 61, 67, 71, 73, 79, 83, 89, 97, 101, 103, 107, 109, 113, 127, 131, 137, 139, 149, 151, 157, 163, 167, 173, 179, 181, 191, 193, 197, 199, 211, 223, 227, 229, 233, 239, 241, 251, 257, 263, 269, 271, 277, 281, 283, 293, 307, 311, 313, 317, 331, 337, 347, 349, 353, 359, 367, 373, 379, 383, 389, 397, 401, 409, 419, 421, 431, 433, 439, 443, 449, 457, 461, 463, 467, 479, 487, 491, 499, 503, 509, 521, 523, 541, 547, 557, 563, 569, 571, 577, 587, 593, 599, 601, 607, 613, 617, 619, 631, 641, 643, 647, 653, 659, 661, 673, 677, 683, 691, 701, 709, 719, 727, 733, 739, 743, 751, 757, 761, 769, 773, 787, 797, 809, 811, 821, 823, 827, 829, 839, 853, 857, 859, 863, 877, 881, 883, 887, 907, 911, 919, 929, 937, 941, 947, 953, 967, 971, 977, 983, 991, 997]\n"
     ]
    }
   ],
   "source": [
    "prime_numbers = list(range(2, 1001))\n",
    "\n",
    "for number in range(2, 1001):\n",
    "    for factor in range(2, int(number / 2) + 1):\n",
    "        is_prime = False\n",
    "        if number % factor == 0:\n",
    "            prime_numbers.remove(number)\n",
    "            break\n",
    "print(\n",
    "    \"There are \",\n",
    "    len(prime_numbers),\n",
    "    \" prime numbers between 2 and 1001: \",\n",
    "    prime_numbers,\n",
    ")\n"
   ]
  },
  {
   "cell_type": "code",
   "execution_count": 46,
   "metadata": {},
   "outputs": [
    {
     "data": {
      "text/plain": [
       "[6, 9]"
      ]
     },
     "execution_count": 46,
     "metadata": {},
     "output_type": "execute_result"
    }
   ],
   "source": [
    "list(range(6, 12, 3))\n"
   ]
  },
  {
   "cell_type": "code",
   "execution_count": 47,
   "metadata": {},
   "outputs": [
    {
     "data": {
      "text/plain": [
       "10"
      ]
     },
     "execution_count": 47,
     "metadata": {},
     "output_type": "execute_result"
    }
   ],
   "source": [
    "max([1, 3, 5] + [10, 9])\n"
   ]
  },
  {
   "cell_type": "code",
   "execution_count": 48,
   "metadata": {},
   "outputs": [
    {
     "name": "stdout",
     "output_type": "stream",
     "text": [
      "True\n",
      "False\n",
      "True\n",
      "True\n"
     ]
    }
   ],
   "source": [
    "print(all([True, True]))\n",
    "print(all([True, False]))\n",
    "\n",
    "print(any([True, False]))\n",
    "print(any([True, False]))\n"
   ]
  },
  {
   "cell_type": "code",
   "execution_count": 49,
   "metadata": {},
   "outputs": [
    {
     "name": "stdout",
     "output_type": "stream",
     "text": [
      "-0.2\n"
     ]
    }
   ],
   "source": [
    "print(float(\"-0.2\"))\n"
   ]
  },
  {
   "cell_type": "code",
   "execution_count": 50,
   "metadata": {},
   "outputs": [
    {
     "name": "stdout",
     "output_type": "stream",
     "text": [
      "Hello Yang\n"
     ]
    }
   ],
   "source": [
    "a = input(\"What is your name?\")\n",
    "print(\"Hello \" + a)\n"
   ]
  },
  {
   "cell_type": "code",
   "execution_count": 52,
   "metadata": {},
   "outputs": [
    {
     "name": "stdout",
     "output_type": "stream",
     "text": [
      "2\n",
      "6\n",
      "range(1, 5, 2)\n",
      "range(1, 5, 2)\n"
     ]
    }
   ],
   "source": [
    "print(len([2, 3]))\n",
    "print(max(3, 4, 5, 6))\n",
    "print(range(1, 5, 2))\n",
    "print(str(range(1, 5, 2)))\n"
   ]
  },
  {
   "cell_type": "code",
   "execution_count": 54,
   "metadata": {},
   "outputs": [
    {
     "name": "stdout",
     "output_type": "stream",
     "text": [
      "True\n"
     ]
    }
   ],
   "source": [
    "def greater_than(x, y):\n",
    "    if x > y:\n",
    "        return True\n",
    "    else:\n",
    "        return False\n",
    "\n",
    "\n",
    "greater_than(3, 10)\n",
    "print(greater_than(3, 2))\n"
   ]
  },
  {
   "cell_type": "code",
   "execution_count": 56,
   "metadata": {},
   "outputs": [
    {
     "data": {
      "text/plain": [
       "32"
      ]
     },
     "execution_count": 56,
     "metadata": {},
     "output_type": "execute_result"
    }
   ],
   "source": [
    "def dot_product(a, b):\n",
    "    result = 0\n",
    "    for index in range(len(a)):\n",
    "        result += a[index] * b[index]\n",
    "    return result\n",
    "\n",
    "\n",
    "a = [1, 2, 3]\n",
    "b = [4, 5, 6]\n",
    "dot_product(a, b)\n"
   ]
  },
  {
   "cell_type": "code",
   "execution_count": 58,
   "metadata": {},
   "outputs": [
    {
     "data": {
      "text/plain": [
       "29"
      ]
     },
     "execution_count": 58,
     "metadata": {},
     "output_type": "execute_result"
    }
   ],
   "source": [
    "def square(value):\n",
    "    return value**2\n",
    "\n",
    "\n",
    "def sum_of_squares(values):\n",
    "    result = 0\n",
    "    for value in values:\n",
    "        result = result + square(value)\n",
    "    return result\n",
    "\n",
    "\n",
    "sum_of_squares([2, 3, 4])\n"
   ]
  },
  {
   "cell_type": "code",
   "execution_count": 60,
   "metadata": {},
   "outputs": [
    {
     "name": "stdout",
     "output_type": "stream",
     "text": [
      "24\n"
     ]
    }
   ],
   "source": [
    "def factorial(n):\n",
    "    if n > 0:\n",
    "        return n * factorial(n - 1)\n",
    "    elif n == 0:\n",
    "        return 1\n",
    "    else:\n",
    "        # None returned\n",
    "        print(\"n must be natural number\")\n",
    "\n",
    "\n",
    "print(factorial(4))\n"
   ]
  },
  {
   "cell_type": "code",
   "execution_count": 61,
   "metadata": {},
   "outputs": [
    {
     "name": "stdout",
     "output_type": "stream",
     "text": [
      "0\n",
      "1\n",
      "1\n",
      "2\n",
      "3\n",
      "5\n",
      "8\n",
      "13\n",
      "21\n",
      "34\n"
     ]
    }
   ],
   "source": [
    "def fibonacci(n):\n",
    "    if n >= 2:\n",
    "        return fibonacci(n - 2) + fibonacci(n - 1)\n",
    "    elif n == 1:\n",
    "        return 1\n",
    "    elif n == 0:\n",
    "        return 0\n",
    "    else:\n",
    "        print(\"n must be natural number\")\n",
    "\n",
    "\n",
    "for i in range(10):\n",
    "    print(fibonacci(i))\n"
   ]
  },
  {
   "cell_type": "code",
   "execution_count": 62,
   "metadata": {},
   "outputs": [
    {
     "name": "stdout",
     "output_type": "stream",
     "text": [
      "3.141592653589793\n",
      "0.49999999999999994\n"
     ]
    }
   ],
   "source": [
    "import math\n",
    "\n",
    "print(math.pi)\n",
    "\n",
    "a = math.pi / 6\n",
    "print(math.sin(a))\n"
   ]
  },
  {
   "cell_type": "code",
   "execution_count": 64,
   "metadata": {},
   "outputs": [
    {
     "name": "stdout",
     "output_type": "stream",
     "text": [
      "1.4142135623730951\n"
     ]
    }
   ],
   "source": [
    "import math as mt\n",
    "\n",
    "print(mt.sqrt(2))\n"
   ]
  },
  {
   "cell_type": "code",
   "execution_count": 63,
   "metadata": {},
   "outputs": [
    {
     "name": "stdout",
     "output_type": "stream",
     "text": [
      "3.1415926535897927\n"
     ]
    }
   ],
   "source": [
    "# from MODULE import FEATURE as ALIAS\n",
    "# import MODULE as ALIAS\n",
    "from math import sqrt\n",
    "from math import asin as arcsin\n",
    "\n",
    "print(4 * arcsin(1 / sqrt(2)))\n"
   ]
  },
  {
   "cell_type": "code",
   "execution_count": 65,
   "metadata": {},
   "outputs": [
    {
     "name": "stdout",
     "output_type": "stream",
     "text": [
      "0.0\n"
     ]
    }
   ],
   "source": [
    "# hard to track and ambiguous when name coincide\n",
    "from math import *\n",
    "\n",
    "print(log(1))\n"
   ]
  },
  {
   "cell_type": "code",
   "execution_count": 66,
   "metadata": {},
   "outputs": [
    {
     "data": {
      "text/plain": [
       "5.0"
      ]
     },
     "execution_count": 66,
     "metadata": {},
     "output_type": "execute_result"
    }
   ],
   "source": [
    "from math import *\n",
    "\n",
    "\n",
    "def hypotenuse(a, b):\n",
    "    return sqrt(a**2 + b**2)\n",
    "\n",
    "\n",
    "hypotenuse(3, 4)\n"
   ]
  },
  {
   "cell_type": "code",
   "execution_count": 69,
   "metadata": {},
   "outputs": [
    {
     "name": "stdout",
     "output_type": "stream",
     "text": [
      "Function 2\n",
      "Function 1\n"
     ]
    }
   ],
   "source": [
    "from modules.module_2 import function2\n",
    "\n",
    "function2()\n"
   ]
  },
  {
   "cell_type": "code",
   "execution_count": 70,
   "metadata": {},
   "outputs": [
    {
     "name": "stdout",
     "output_type": "stream",
     "text": [
      "Function 1\n"
     ]
    }
   ],
   "source": [
    "from modules.module_2 import function1\n",
    "\n",
    "function1()\n"
   ]
  },
  {
   "cell_type": "code",
   "execution_count": 72,
   "metadata": {},
   "outputs": [
    {
     "name": "stdout",
     "output_type": "stream",
     "text": [
      "9\n",
      "3.8971143170299736\n",
      "12\n",
      "9\n"
     ]
    }
   ],
   "source": [
    "import modules.shapes as shapes\n",
    "\n",
    "side_length = 3\n",
    "\n",
    "print(shapes.area(\"square\", side_length))\n",
    "print(shapes.area(\"triangle\", side_length))\n",
    "print(shapes.perimeter(\"square\", side_length))\n",
    "print(shapes.perimeter(\"triangle\", side_length))\n"
   ]
  },
  {
   "cell_type": "code",
   "execution_count": 74,
   "metadata": {},
   "outputs": [
    {
     "name": "stdout",
     "output_type": "stream",
     "text": [
      "[1, 2, 3]\n"
     ]
    }
   ],
   "source": [
    "list1 = [1, 2]\n",
    "list1.append(3)\n",
    "print(list1)\n"
   ]
  },
  {
   "cell_type": "code",
   "execution_count": 75,
   "metadata": {},
   "outputs": [
    {
     "ename": "AttributeError",
     "evalue": "'str' object has no attribute 'append'",
     "output_type": "error",
     "traceback": [
      "\u001b[0;31m---------------------------------------------------------------------------\u001b[0m",
      "\u001b[0;31mAttributeError\u001b[0m                            Traceback (most recent call last)",
      "\u001b[1;32m/home/snowztail/Repositories/python/introduction-to-python/notebook.ipynb Cell 47'\u001b[0m in \u001b[0;36m<cell line: 2>\u001b[0;34m()\u001b[0m\n\u001b[1;32m      <a href='vscode-notebook-cell:/home/snowztail/Repositories/python/introduction-to-python/notebook.ipynb#ch0000059?line=0'>1</a>\u001b[0m string1 \u001b[39m=\u001b[39m \u001b[39m\"\u001b[39m\u001b[39mabc\u001b[39m\u001b[39m\"\u001b[39m\n\u001b[0;32m----> <a href='vscode-notebook-cell:/home/snowztail/Repositories/python/introduction-to-python/notebook.ipynb#ch0000059?line=1'>2</a>\u001b[0m string1\u001b[39m.\u001b[39;49mappend(\u001b[39m\"\u001b[39m\u001b[39md\u001b[39m\u001b[39m\"\u001b[39m)\n",
      "\u001b[0;31mAttributeError\u001b[0m: 'str' object has no attribute 'append'"
     ]
    }
   ],
   "source": [
    "string1 = \"abc\"\n",
    "string1.append(\"d\")\n"
   ]
  },
  {
   "cell_type": "code",
   "execution_count": 76,
   "metadata": {},
   "outputs": [
    {
     "ename": "ModuleNotFoundError",
     "evalue": "No module named 'boyfriend'",
     "output_type": "error",
     "traceback": [
      "\u001b[0;31m---------------------------------------------------------------------------\u001b[0m",
      "\u001b[0;31mModuleNotFoundError\u001b[0m                       Traceback (most recent call last)",
      "\u001b[1;32m/home/snowztail/Repositories/python/introduction-to-python/notebook.ipynb Cell 48'\u001b[0m in \u001b[0;36m<cell line: 1>\u001b[0;34m()\u001b[0m\n\u001b[0;32m----> <a href='vscode-notebook-cell:/home/snowztail/Repositories/python/introduction-to-python/notebook.ipynb#ch0000060?line=0'>1</a>\u001b[0m \u001b[39mimport\u001b[39;00m \u001b[39mboyfriend\u001b[39;00m\n",
      "\u001b[0;31mModuleNotFoundError\u001b[0m: No module named 'boyfriend'"
     ]
    }
   ],
   "source": [
    "import boyfriend\n"
   ]
  },
  {
   "cell_type": "code",
   "execution_count": 78,
   "metadata": {},
   "outputs": [
    {
     "ename": "IndentationError",
     "evalue": "expected an indented block after 'if' statement on line 1 (632427577.py, line 2)",
     "output_type": "error",
     "traceback": [
      "\u001b[0;36m  Input \u001b[0;32mIn [78]\u001b[0;36m\u001b[0m\n\u001b[0;31m    print(\"True\")\u001b[0m\n\u001b[0m    ^\u001b[0m\n\u001b[0;31mIndentationError\u001b[0m\u001b[0;31m:\u001b[0m expected an indented block after 'if' statement on line 1\n"
     ]
    }
   ],
   "source": [
    "if True:\n",
    "print(\"True\")"
   ]
  },
  {
   "cell_type": "code",
   "execution_count": 79,
   "metadata": {},
   "outputs": [
    {
     "ename": "IndexError",
     "evalue": "string index out of range",
     "output_type": "error",
     "traceback": [
      "\u001b[0;31m---------------------------------------------------------------------------\u001b[0m",
      "\u001b[0;31mIndexError\u001b[0m                                Traceback (most recent call last)",
      "\u001b[1;32m/home/snowztail/Repositories/python/introduction-to-python/notebook.ipynb Cell 50'\u001b[0m in \u001b[0;36m<cell line: 1>\u001b[0;34m()\u001b[0m\n\u001b[0;32m----> <a href='vscode-notebook-cell:/home/snowztail/Repositories/python/introduction-to-python/notebook.ipynb#ch0000062?line=0'>1</a>\u001b[0m \u001b[39mprint\u001b[39m(\u001b[39m\"\u001b[39;49m\u001b[39mabc\u001b[39;49m\u001b[39m\"\u001b[39;49m[\u001b[39m3\u001b[39;49m])\n",
      "\u001b[0;31mIndexError\u001b[0m: string index out of range"
     ]
    }
   ],
   "source": [
    "print(\"abc\"[3])\n"
   ]
  },
  {
   "cell_type": "code",
   "execution_count": 80,
   "metadata": {},
   "outputs": [
    {
     "ename": "IndexError",
     "evalue": "list assignment index out of range",
     "output_type": "error",
     "traceback": [
      "\u001b[0;31m---------------------------------------------------------------------------\u001b[0m",
      "\u001b[0;31mIndexError\u001b[0m                                Traceback (most recent call last)",
      "\u001b[1;32m/home/snowztail/Repositories/python/introduction-to-python/notebook.ipynb Cell 51'\u001b[0m in \u001b[0;36m<cell line: 2>\u001b[0;34m()\u001b[0m\n\u001b[1;32m      <a href='vscode-notebook-cell:/home/snowztail/Repositories/python/introduction-to-python/notebook.ipynb#ch0000063?line=0'>1</a>\u001b[0m list1 \u001b[39m=\u001b[39m [\u001b[39m1\u001b[39m, \u001b[39m2\u001b[39m]\n\u001b[0;32m----> <a href='vscode-notebook-cell:/home/snowztail/Repositories/python/introduction-to-python/notebook.ipynb#ch0000063?line=1'>2</a>\u001b[0m list1[\u001b[39m99\u001b[39m] \u001b[39m=\u001b[39m \u001b[39m3\u001b[39m\n",
      "\u001b[0;31mIndexError\u001b[0m: list assignment index out of range"
     ]
    }
   ],
   "source": [
    "list1 = [1, 2]\n",
    "list1[99] = 3\n"
   ]
  },
  {
   "cell_type": "code",
   "execution_count": 81,
   "metadata": {},
   "outputs": [
    {
     "ename": "NameError",
     "evalue": "name 'boyfriend' is not defined",
     "output_type": "error",
     "traceback": [
      "\u001b[0;31m---------------------------------------------------------------------------\u001b[0m",
      "\u001b[0;31mNameError\u001b[0m                                 Traceback (most recent call last)",
      "\u001b[1;32m/home/snowztail/Repositories/python/introduction-to-python/notebook.ipynb Cell 52'\u001b[0m in \u001b[0;36m<cell line: 1>\u001b[0;34m()\u001b[0m\n\u001b[0;32m----> <a href='vscode-notebook-cell:/home/snowztail/Repositories/python/introduction-to-python/notebook.ipynb#ch0000064?line=0'>1</a>\u001b[0m \u001b[39mprint\u001b[39m(boyfriend)\n",
      "\u001b[0;31mNameError\u001b[0m: name 'boyfriend' is not defined"
     ]
    }
   ],
   "source": [
    "print(boyfriend)\n"
   ]
  },
  {
   "cell_type": "code",
   "execution_count": 82,
   "metadata": {},
   "outputs": [
    {
     "ename": "SyntaxError",
     "evalue": "cannot assign to literal here. Maybe you meant '==' instead of '='? (2317939146.py, line 1)",
     "output_type": "error",
     "traceback": [
      "\u001b[0;36m  Input \u001b[0;32mIn [82]\u001b[0;36m\u001b[0m\n\u001b[0;31m    3 = a\u001b[0m\n\u001b[0m    ^\u001b[0m\n\u001b[0;31mSyntaxError\u001b[0m\u001b[0;31m:\u001b[0m cannot assign to literal here. Maybe you meant '==' instead of '='?\n"
     ]
    }
   ],
   "source": [
    "3 = a"
   ]
  },
  {
   "cell_type": "code",
   "execution_count": 83,
   "metadata": {},
   "outputs": [
    {
     "ename": "TypeError",
     "evalue": "can only concatenate str (not \"int\") to str",
     "output_type": "error",
     "traceback": [
      "\u001b[0;31m---------------------------------------------------------------------------\u001b[0m",
      "\u001b[0;31mTypeError\u001b[0m                                 Traceback (most recent call last)",
      "\u001b[1;32m/home/snowztail/Repositories/python/introduction-to-python/notebook.ipynb Cell 54'\u001b[0m in \u001b[0;36m<cell line: 1>\u001b[0;34m()\u001b[0m\n\u001b[0;32m----> <a href='vscode-notebook-cell:/home/snowztail/Repositories/python/introduction-to-python/notebook.ipynb#ch0000066?line=0'>1</a>\u001b[0m \u001b[39mprint\u001b[39m(\u001b[39m\"\u001b[39;49m\u001b[39ma\u001b[39;49m\u001b[39m\"\u001b[39;49m \u001b[39m+\u001b[39;49m \u001b[39m3\u001b[39;49m)\n",
      "\u001b[0;31mTypeError\u001b[0m: can only concatenate str (not \"int\") to str"
     ]
    }
   ],
   "source": [
    "print(\"a\" + 3)\n"
   ]
  },
  {
   "cell_type": "code",
   "execution_count": 84,
   "metadata": {},
   "outputs": [
    {
     "ename": "TypeError",
     "evalue": "must be real number, not str",
     "output_type": "error",
     "traceback": [
      "\u001b[0;31m---------------------------------------------------------------------------\u001b[0m",
      "\u001b[0;31mTypeError\u001b[0m                                 Traceback (most recent call last)",
      "\u001b[1;32m/home/snowztail/Repositories/python/introduction-to-python/notebook.ipynb Cell 55'\u001b[0m in \u001b[0;36m<cell line: 3>\u001b[0;34m()\u001b[0m\n\u001b[1;32m      <a href='vscode-notebook-cell:/home/snowztail/Repositories/python/introduction-to-python/notebook.ipynb#ch0000067?line=0'>1</a>\u001b[0m \u001b[39mimport\u001b[39;00m \u001b[39mmath\u001b[39;00m\n\u001b[0;32m----> <a href='vscode-notebook-cell:/home/snowztail/Repositories/python/introduction-to-python/notebook.ipynb#ch0000067?line=2'>3</a>\u001b[0m \u001b[39mprint\u001b[39m(math\u001b[39m.\u001b[39;49msqrt(\u001b[39m\"\u001b[39;49m\u001b[39ma\u001b[39;49m\u001b[39m\"\u001b[39;49m))\n",
      "\u001b[0;31mTypeError\u001b[0m: must be real number, not str"
     ]
    }
   ],
   "source": [
    "import math\n",
    "\n",
    "print(math.sqrt(\"a\"))\n"
   ]
  },
  {
   "cell_type": "code",
   "execution_count": 93,
   "metadata": {},
   "outputs": [
    {
     "ename": "NameError",
     "evalue": "name 'a' is not defined",
     "output_type": "error",
     "traceback": [
      "\u001b[0;31m---------------------------------------------------------------------------\u001b[0m",
      "\u001b[0;31mNameError\u001b[0m                                 Traceback (most recent call last)",
      "\u001b[1;32m/home/snowztail/Repositories/python/introduction-to-python/notebook.ipynb Cell 56'\u001b[0m in \u001b[0;36m<cell line: 1>\u001b[0;34m()\u001b[0m\n\u001b[0;32m----> <a href='vscode-notebook-cell:/home/snowztail/Repositories/python/introduction-to-python/notebook.ipynb#ch0000068?line=0'>1</a>\u001b[0m \u001b[39mdel\u001b[39;00m a\n\u001b[1;32m      <a href='vscode-notebook-cell:/home/snowztail/Repositories/python/introduction-to-python/notebook.ipynb#ch0000068?line=3'>4</a>\u001b[0m \u001b[39mdef\u001b[39;00m \u001b[39mfunction\u001b[39m():\n\u001b[1;32m      <a href='vscode-notebook-cell:/home/snowztail/Repositories/python/introduction-to-python/notebook.ipynb#ch0000068?line=4'>5</a>\u001b[0m     a \u001b[39m=\u001b[39m a \u001b[39m+\u001b[39m \u001b[39m1\u001b[39m\n",
      "\u001b[0;31mNameError\u001b[0m: name 'a' is not defined"
     ]
    }
   ],
   "source": [
    "del a\n",
    "\n",
    "\n",
    "def function():\n",
    "    a = a + 1\n",
    "    return a\n",
    "\n",
    "\n",
    "function()\n"
   ]
  },
  {
   "cell_type": "code",
   "execution_count": 94,
   "metadata": {},
   "outputs": [
    {
     "ename": "ValueError",
     "evalue": "math domain error",
     "output_type": "error",
     "traceback": [
      "\u001b[0;31m---------------------------------------------------------------------------\u001b[0m",
      "\u001b[0;31mValueError\u001b[0m                                Traceback (most recent call last)",
      "\u001b[1;32m/home/snowztail/Repositories/python/introduction-to-python/notebook.ipynb Cell 57'\u001b[0m in \u001b[0;36m<cell line: 3>\u001b[0;34m()\u001b[0m\n\u001b[1;32m      <a href='vscode-notebook-cell:/home/snowztail/Repositories/python/introduction-to-python/notebook.ipynb#ch0000070?line=0'>1</a>\u001b[0m \u001b[39mimport\u001b[39;00m \u001b[39mmath\u001b[39;00m\n\u001b[0;32m----> <a href='vscode-notebook-cell:/home/snowztail/Repositories/python/introduction-to-python/notebook.ipynb#ch0000070?line=2'>3</a>\u001b[0m \u001b[39mprint\u001b[39m(math\u001b[39m.\u001b[39;49msqrt(\u001b[39m-\u001b[39;49m\u001b[39m1\u001b[39;49m))\n",
      "\u001b[0;31mValueError\u001b[0m: math domain error"
     ]
    }
   ],
   "source": [
    "import math\n",
    "\n",
    "print(math.sqrt(-1))\n"
   ]
  },
  {
   "cell_type": "code",
   "execution_count": 95,
   "metadata": {},
   "outputs": [
    {
     "ename": "ZeroDivisionError",
     "evalue": "integer division or modulo by zero",
     "output_type": "error",
     "traceback": [
      "\u001b[0;31m---------------------------------------------------------------------------\u001b[0m",
      "\u001b[0;31mZeroDivisionError\u001b[0m                         Traceback (most recent call last)",
      "\u001b[1;32m/home/snowztail/Repositories/python/introduction-to-python/notebook.ipynb Cell 58'\u001b[0m in \u001b[0;36m<cell line: 1>\u001b[0;34m()\u001b[0m\n\u001b[0;32m----> <a href='vscode-notebook-cell:/home/snowztail/Repositories/python/introduction-to-python/notebook.ipynb#ch0000071?line=0'>1</a>\u001b[0m \u001b[39mprint\u001b[39m(\u001b[39m5\u001b[39;49m \u001b[39m%\u001b[39;49m \u001b[39m0\u001b[39;49m)\n",
      "\u001b[0;31mZeroDivisionError\u001b[0m: integer division or modulo by zero"
     ]
    }
   ],
   "source": [
    "print(5 % 0)\n"
   ]
  },
  {
   "cell_type": "code",
   "execution_count": null,
   "metadata": {},
   "outputs": [],
   "source": [
    "# To be corrected\n",
    "import mat\n",
    "\n",
    "def standard_deviation(list_in)\n",
    "    #We will keep a running total of the total value of the numbers and the total of the square of the numbers\n",
    "total = 0\n",
    "    total_square = 0\n",
    "  \n",
    "    #Here, we calculate these totals\n",
    "    for item in list_in:\n",
    "        total = total + item\n",
    "        total_square = total_square - item ** 2\n",
    "\n",
    "    #Calculate the mean and standard deviation\n",
    "    men = total / len(list_in)\n",
    "    sd = math.sqrt(total_square / le(list_in) - mean ** 2)\n",
    "  \n",
    "    \n",
    "    #Return these values\n",
    "    return(sd)\n",
    "\n",
    "#Test the code with some sample values\n",
    "print(standard_deviation([1, 5, 10, 20]))\n",
    "print(standard_deviation([100, 200, 5, 1000]))"
   ]
  },
  {
   "cell_type": "code",
   "execution_count": 99,
   "metadata": {},
   "outputs": [
    {
     "name": "stdout",
     "output_type": "stream",
     "text": [
      "7.106335201775948\n",
      "395.05339828939583\n"
     ]
    }
   ],
   "source": [
    "import math\n",
    "\n",
    "\n",
    "def standard_deviation(list_in):\n",
    "    # We will keep a running total of the total value of the numbers and the total of the square of the numbers\n",
    "    total = 0\n",
    "    total_square = 0\n",
    "    # Here, we calculate these totals\n",
    "    for item in list_in:\n",
    "        total = total + item\n",
    "        total_square = total_square + item**2\n",
    "    # Calculate the mean and standard deviation\n",
    "    mean = total / len(list_in)\n",
    "    sd = math.sqrt(total_square / len(list_in) - mean**2)\n",
    "    # Return these values\n",
    "    return sd\n",
    "\n",
    "\n",
    "# Test the code with some sample values\n",
    "print(standard_deviation([1, 5, 10, 20]))\n",
    "print(standard_deviation([100, 200, 5, 1000]))\n"
   ]
  },
  {
   "cell_type": "code",
   "execution_count": 100,
   "metadata": {},
   "outputs": [
    {
     "name": "stdout",
     "output_type": "stream",
     "text": [
      "Both arguments must be real numbers\n",
      "Division complete\n",
      "None\n"
     ]
    }
   ],
   "source": [
    "def divide(a, b):\n",
    "    try:\n",
    "        result = a / b\n",
    "        return result\n",
    "    except ZeroDivisionError:\n",
    "        print(\"The denominator may not be zero\")\n",
    "    except TypeError:\n",
    "        print(\"Both arguments must be real numbers\")\n",
    "    finally:\n",
    "        print(\"Division complete\")\n",
    "\n",
    "\n",
    "# print(divide(10, 0))\n",
    "print(divide(10, \"a\"))\n"
   ]
  },
  {
   "cell_type": "code",
   "execution_count": 101,
   "metadata": {},
   "outputs": [
    {
     "ename": "ValueError",
     "evalue": "My error",
     "output_type": "error",
     "traceback": [
      "\u001b[0;31m---------------------------------------------------------------------------\u001b[0m",
      "\u001b[0;31mValueError\u001b[0m                                Traceback (most recent call last)",
      "\u001b[1;32m/home/snowztail/Repositories/python/introduction-to-python/notebook.ipynb Cell 62'\u001b[0m in \u001b[0;36m<cell line: 1>\u001b[0;34m()\u001b[0m\n\u001b[0;32m----> <a href='vscode-notebook-cell:/home/snowztail/Repositories/python/introduction-to-python/notebook.ipynb#ch0000075?line=0'>1</a>\u001b[0m \u001b[39mraise\u001b[39;00m \u001b[39mValueError\u001b[39;00m(\u001b[39m\"\u001b[39m\u001b[39mMy error\u001b[39m\u001b[39m\"\u001b[39m)\n",
      "\u001b[0;31mValueError\u001b[0m: My error"
     ]
    }
   ],
   "source": [
    "raise ValueError(\"My error\")\n"
   ]
  },
  {
   "cell_type": "code",
   "execution_count": 102,
   "metadata": {},
   "outputs": [
    {
     "ename": "ValueError",
     "evalue": "The phone number must have at least six digits",
     "output_type": "error",
     "traceback": [
      "\u001b[0;31m---------------------------------------------------------------------------\u001b[0m",
      "\u001b[0;31mValueError\u001b[0m                                Traceback (most recent call last)",
      "\u001b[1;32m/home/snowztail/Repositories/python/introduction-to-python/notebook.ipynb Cell 63'\u001b[0m in \u001b[0;36m<cell line: 8>\u001b[0;34m()\u001b[0m\n\u001b[1;32m      <a href='vscode-notebook-cell:/home/snowztail/Repositories/python/introduction-to-python/notebook.ipynb#ch0000076?line=3'>4</a>\u001b[0m         \u001b[39mraise\u001b[39;00m \u001b[39mValueError\u001b[39;00m(\u001b[39m\"\u001b[39m\u001b[39mThe phone number must have at least six digits\u001b[39m\u001b[39m\"\u001b[39m)\n\u001b[1;32m      <a href='vscode-notebook-cell:/home/snowztail/Repositories/python/introduction-to-python/notebook.ipynb#ch0000076?line=4'>5</a>\u001b[0m     \u001b[39mreturn\u001b[39;00m number\n\u001b[0;32m----> <a href='vscode-notebook-cell:/home/snowztail/Repositories/python/introduction-to-python/notebook.ipynb#ch0000076?line=7'>8</a>\u001b[0m \u001b[39mprint\u001b[39m(phone_number(\u001b[39m\"\u001b[39;49m\u001b[39m1234\u001b[39;49m\u001b[39m\"\u001b[39;49m))\n",
      "\u001b[1;32m/home/snowztail/Repositories/python/introduction-to-python/notebook.ipynb Cell 63'\u001b[0m in \u001b[0;36mphone_number\u001b[0;34m(string)\u001b[0m\n\u001b[1;32m      <a href='vscode-notebook-cell:/home/snowztail/Repositories/python/introduction-to-python/notebook.ipynb#ch0000076?line=1'>2</a>\u001b[0m number \u001b[39m=\u001b[39m \u001b[39mint\u001b[39m(string)\n\u001b[1;32m      <a href='vscode-notebook-cell:/home/snowztail/Repositories/python/introduction-to-python/notebook.ipynb#ch0000076?line=2'>3</a>\u001b[0m \u001b[39mif\u001b[39;00m number \u001b[39m<\u001b[39m \u001b[39m100000\u001b[39m:\n\u001b[0;32m----> <a href='vscode-notebook-cell:/home/snowztail/Repositories/python/introduction-to-python/notebook.ipynb#ch0000076?line=3'>4</a>\u001b[0m     \u001b[39mraise\u001b[39;00m \u001b[39mValueError\u001b[39;00m(\u001b[39m\"\u001b[39m\u001b[39mThe phone number must have at least six digits\u001b[39m\u001b[39m\"\u001b[39m)\n\u001b[1;32m      <a href='vscode-notebook-cell:/home/snowztail/Repositories/python/introduction-to-python/notebook.ipynb#ch0000076?line=4'>5</a>\u001b[0m \u001b[39mreturn\u001b[39;00m number\n",
      "\u001b[0;31mValueError\u001b[0m: The phone number must have at least six digits"
     ]
    }
   ],
   "source": [
    "def phone_number(string):\n",
    "    number = int(string)\n",
    "    if number < 100000:\n",
    "        raise ValueError(\"The phone number must have at least six digits\")\n",
    "    return number\n",
    "\n",
    "\n",
    "print(phone_number(\"1234\"))\n"
   ]
  },
  {
   "cell_type": "code",
   "execution_count": 103,
   "metadata": {},
   "outputs": [
    {
     "name": "stdout",
     "output_type": "stream",
     "text": [
      "[-1.5, 4.0]\n",
      "[-1.0]\n",
      "[-2.0]\n"
     ]
    },
    {
     "ename": "ValueError",
     "evalue": "x is undefined",
     "output_type": "error",
     "traceback": [
      "\u001b[0;31m---------------------------------------------------------------------------\u001b[0m",
      "\u001b[0;31mValueError\u001b[0m                                Traceback (most recent call last)",
      "\u001b[1;32m/home/snowztail/Repositories/python/introduction-to-python/notebook.ipynb Cell 64'\u001b[0m in \u001b[0;36m<cell line: 19>\u001b[0;34m()\u001b[0m\n\u001b[1;32m     <a href='vscode-notebook-cell:/home/snowztail/Repositories/python/introduction-to-python/notebook.ipynb#ch0000077?line=16'>17</a>\u001b[0m \u001b[39mprint\u001b[39m(solve_quadratic_equation(\u001b[39m0\u001b[39m, \u001b[39m1\u001b[39m, \u001b[39m2\u001b[39m))\n\u001b[1;32m     <a href='vscode-notebook-cell:/home/snowztail/Repositories/python/introduction-to-python/notebook.ipynb#ch0000077?line=17'>18</a>\u001b[0m \u001b[39m# print(solve_quadratic_equation(1, 1, 1))\u001b[39;00m\n\u001b[0;32m---> <a href='vscode-notebook-cell:/home/snowztail/Repositories/python/introduction-to-python/notebook.ipynb#ch0000077?line=18'>19</a>\u001b[0m \u001b[39mprint\u001b[39m(solve_quadratic_equation(\u001b[39m0\u001b[39;49m, \u001b[39m0\u001b[39;49m, \u001b[39m1\u001b[39;49m))\n",
      "\u001b[1;32m/home/snowztail/Repositories/python/introduction-to-python/notebook.ipynb Cell 64'\u001b[0m in \u001b[0;36msolve_quadratic_equation\u001b[0;34m(a, b, c)\u001b[0m\n\u001b[1;32m      <a href='vscode-notebook-cell:/home/snowztail/Repositories/python/introduction-to-python/notebook.ipynb#ch0000077?line=2'>3</a>\u001b[0m \u001b[39mdef\u001b[39;00m \u001b[39msolve_quadratic_equation\u001b[39m(a, b, c):\n\u001b[1;32m      <a href='vscode-notebook-cell:/home/snowztail/Repositories/python/introduction-to-python/notebook.ipynb#ch0000077?line=3'>4</a>\u001b[0m \t\u001b[39mif\u001b[39;00m a \u001b[39m==\u001b[39m \u001b[39m0\u001b[39m \u001b[39mand\u001b[39;00m b \u001b[39m==\u001b[39m \u001b[39m0\u001b[39m:\n\u001b[0;32m----> <a href='vscode-notebook-cell:/home/snowztail/Repositories/python/introduction-to-python/notebook.ipynb#ch0000077?line=4'>5</a>\u001b[0m \t\t\u001b[39mraise\u001b[39;00m \u001b[39mValueError\u001b[39;00m(\u001b[39m\"\u001b[39m\u001b[39mx is undefined\u001b[39m\u001b[39m\"\u001b[39m)\n\u001b[1;32m      <a href='vscode-notebook-cell:/home/snowztail/Repositories/python/introduction-to-python/notebook.ipynb#ch0000077?line=5'>6</a>\u001b[0m \t\u001b[39melif\u001b[39;00m b \u001b[39m*\u001b[39m\u001b[39m*\u001b[39m \u001b[39m2\u001b[39m \u001b[39m-\u001b[39m \u001b[39m4\u001b[39m \u001b[39m*\u001b[39m a \u001b[39m*\u001b[39m c \u001b[39m<\u001b[39m \u001b[39m0\u001b[39m \u001b[39mand\u001b[39;00m a \u001b[39m>\u001b[39m \u001b[39m0\u001b[39m:\n\u001b[1;32m      <a href='vscode-notebook-cell:/home/snowztail/Repositories/python/introduction-to-python/notebook.ipynb#ch0000077?line=6'>7</a>\u001b[0m \t\t\u001b[39mraise\u001b[39;00m \u001b[39mValueError\u001b[39;00m(\u001b[39m\"\u001b[39m\u001b[39mRoots are imaginary\u001b[39m\u001b[39m\"\u001b[39m)\n",
      "\u001b[0;31mValueError\u001b[0m: x is undefined"
     ]
    }
   ],
   "source": [
    "from math import sqrt\n",
    "\n",
    "\n",
    "def solve_quadratic_equation(a, b, c):\n",
    "    if a == 0 and b == 0:\n",
    "        raise ValueError(\"x is undefined\")\n",
    "    elif b**2 - 4 * a * c < 0 and a > 0:\n",
    "        raise ValueError(\"Roots are imaginary\")\n",
    "    elif a == 0 and b != 0:\n",
    "        return [-c / b]\n",
    "    elif b**2 - 4 * a * c == 0 and a != 0:\n",
    "        return [-b / (2 * a)]\n",
    "    elif b**2 - 4 * a * c > 0 and a > 0:\n",
    "        return [\n",
    "            (-b - sqrt(b**2 - 4 * a * c)) / (2 * a),\n",
    "            (-b + sqrt(b**2 - 4 * a * c)) / (2 * a),\n",
    "        ]\n",
    "\n",
    "\n",
    "print(solve_quadratic_equation(2, -5, -12))\n",
    "print(solve_quadratic_equation(-2, -4, -2))\n",
    "print(solve_quadratic_equation(0, 1, 2))\n",
    "# print(solve_quadratic_equation(1, 1, 1))\n",
    "print(solve_quadratic_equation(0, 0, 1))\n"
   ]
  },
  {
   "cell_type": "code",
   "execution_count": 104,
   "metadata": {},
   "outputs": [
    {
     "data": {
      "text/plain": [
       "16"
      ]
     },
     "execution_count": 104,
     "metadata": {},
     "output_type": "execute_result"
    }
   ],
   "source": [
    "(5 - 3) * 2**3\n"
   ]
  },
  {
   "cell_type": "code",
   "execution_count": 105,
   "metadata": {},
   "outputs": [
    {
     "data": {
      "text/plain": [
       "8"
      ]
     },
     "execution_count": 105,
     "metadata": {},
     "output_type": "execute_result"
    }
   ],
   "source": [
    "5 + 10 // 3\n"
   ]
  },
  {
   "cell_type": "code",
   "execution_count": 106,
   "metadata": {},
   "outputs": [
    {
     "name": "stdout",
     "output_type": "stream",
     "text": [
      "-1.0\n"
     ]
    }
   ],
   "source": [
    "print(float(int(-3 / 2)))\n"
   ]
  },
  {
   "cell_type": "code",
   "execution_count": 107,
   "metadata": {},
   "outputs": [
    {
     "data": {
      "text/plain": [
       "[4, 5, 5, 2, 1]"
      ]
     },
     "execution_count": 107,
     "metadata": {},
     "output_type": "execute_result"
    }
   ],
   "source": [
    "my_list = [4, 5, 6]\n",
    "my_list[2] = 5\n",
    "my_list.append(1)\n",
    "my_list.insert(3, 2)\n",
    "my_list\n"
   ]
  },
  {
   "cell_type": "code",
   "execution_count": 108,
   "metadata": {},
   "outputs": [
    {
     "data": {
      "text/plain": [
       "'abcd'"
      ]
     },
     "execution_count": 108,
     "metadata": {},
     "output_type": "execute_result"
    }
   ],
   "source": [
    "my_string = \"dcbak\"[-2::-1]\n",
    "my_string\n"
   ]
  },
  {
   "cell_type": "code",
   "execution_count": 109,
   "metadata": {},
   "outputs": [
    {
     "data": {
      "text/plain": [
       "'fkce'"
      ]
     },
     "execution_count": 109,
     "metadata": {},
     "output_type": "execute_result"
    }
   ],
   "source": [
    "my_string = \"gafbkccde\"[2::2]\n",
    "my_string\n"
   ]
  },
  {
   "cell_type": "code",
   "execution_count": 110,
   "metadata": {},
   "outputs": [
    {
     "data": {
      "text/plain": [
       "'abcd'"
      ]
     },
     "execution_count": 110,
     "metadata": {},
     "output_type": "execute_result"
    }
   ],
   "source": [
    "my_string = \"ab\" + \"cd\"\n",
    "my_string\n"
   ]
  },
  {
   "cell_type": "code",
   "execution_count": 111,
   "metadata": {},
   "outputs": [
    {
     "data": {
      "text/plain": [
       "'abc'"
      ]
     },
     "execution_count": 111,
     "metadata": {},
     "output_type": "execute_result"
    }
   ],
   "source": [
    "my_string = \"gabcde\"[1:4]\n",
    "my_string\n"
   ]
  },
  {
   "cell_type": "code",
   "execution_count": 112,
   "metadata": {},
   "outputs": [
    {
     "data": {
      "text/plain": [
       "True"
      ]
     },
     "execution_count": 112,
     "metadata": {},
     "output_type": "execute_result"
    }
   ],
   "source": [
    "all([2 == 6 / 3, \"a\" in \"apple\"])\n"
   ]
  },
  {
   "cell_type": "code",
   "execution_count": 113,
   "metadata": {},
   "outputs": [
    {
     "data": {
      "text/plain": [
       "True"
      ]
     },
     "execution_count": 113,
     "metadata": {},
     "output_type": "execute_result"
    }
   ],
   "source": [
    "(not 1 != 2 / 2)\n"
   ]
  },
  {
   "cell_type": "code",
   "execution_count": 114,
   "metadata": {},
   "outputs": [
    {
     "data": {
      "text/plain": [
       "False"
      ]
     },
     "execution_count": 114,
     "metadata": {},
     "output_type": "execute_result"
    }
   ],
   "source": [
    "2 + 1 > 3\n"
   ]
  },
  {
   "cell_type": "code",
   "execution_count": 115,
   "metadata": {},
   "outputs": [
    {
     "data": {
      "text/plain": [
       "54.49920533832944"
      ]
     },
     "execution_count": 115,
     "metadata": {},
     "output_type": "execute_result"
    }
   ],
   "source": [
    "my_sum = 0\n",
    "for i in range(1, 51):\n",
    "    my_sum += (i + 1) / i\n",
    "\n",
    "my_sum\n"
   ]
  },
  {
   "cell_type": "code",
   "execution_count": 117,
   "metadata": {},
   "outputs": [
    {
     "name": "stdout",
     "output_type": "stream",
     "text": [
      "None\n"
     ]
    }
   ],
   "source": [
    "def my_func():\n",
    "    x = 3\n",
    "\n",
    "\n",
    "a = my_func()\n",
    "print(a)\n"
   ]
  }
 ],
 "metadata": {
  "interpreter": {
   "hash": "e7370f93d1d0cde622a1f8e1c04877d8463912d04d973331ad4851f04de6915a"
  },
  "kernelspec": {
   "display_name": "Python 3.10.4 64-bit",
   "language": "python",
   "name": "python3"
  },
  "language_info": {
   "codemirror_mode": {
    "name": "ipython",
    "version": 3
   },
   "file_extension": ".py",
   "mimetype": "text/x-python",
   "name": "python",
   "nbconvert_exporter": "python",
   "pygments_lexer": "ipython3",
   "version": "3.10.4"
  },
  "orig_nbformat": 4
 },
 "nbformat": 4,
 "nbformat_minor": 2
}
