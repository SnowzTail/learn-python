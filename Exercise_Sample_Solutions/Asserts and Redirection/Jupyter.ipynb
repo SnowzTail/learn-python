{
 "cells": [
  {
   "cell_type": "code",
   "execution_count": null,
   "id": "5ec5d20d",
   "metadata": {},
   "outputs": [],
   "source": [
    "# Import the function cotaning the function with the assertion\n",
    "from file1 import assert_function\n",
    "\n",
    "# Call the function (this will raise an AsertionError)\n",
    "assert_function()"
   ]
  }
 ],
 "metadata": {
  "kernelspec": {
   "display_name": "Python 3",
   "language": "python",
   "name": "python3"
  },
  "language_info": {
   "codemirror_mode": {
    "name": "ipython",
    "version": 3
   },
   "file_extension": ".py",
   "mimetype": "text/x-python",
   "name": "python",
   "nbconvert_exporter": "python",
   "pygments_lexer": "ipython3",
   "version": "3.8.8"
  }
 },
 "nbformat": 4,
 "nbformat_minor": 5
}
