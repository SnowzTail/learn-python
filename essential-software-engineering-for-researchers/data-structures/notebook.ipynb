{
 "cells": [
  {
   "cell_type": "code",
   "execution_count": 3,
   "metadata": {},
   "outputs": [
    {
     "data": {
      "text/plain": [
       "[[1, 2], [2, 3]]"
      ]
     },
     "execution_count": 3,
     "metadata": {},
     "output_type": "execute_result"
    }
   ],
   "source": [
    "[[1, 2], [2, 3]]"
   ]
  },
  {
   "cell_type": "code",
   "execution_count": 5,
   "metadata": {},
   "outputs": [
    {
     "data": {
      "text/plain": [
       "('a', 'b')"
      ]
     },
     "execution_count": 5,
     "metadata": {},
     "output_type": "execute_result"
    }
   ],
   "source": [
    "(\"a\", \"b\")"
   ]
  },
  {
   "cell_type": "code",
   "execution_count": 6,
   "metadata": {},
   "outputs": [
    {
     "name": "stdout",
     "output_type": "stream",
     "text": [
      "(2, 4)\n"
     ]
    },
    {
     "ename": "TypeError",
     "evalue": "'tuple' object does not support item assignment",
     "output_type": "error",
     "traceback": [
      "\u001b[0;31m---------------------------------------------------------------------------\u001b[0m",
      "\u001b[0;31mTypeError\u001b[0m                                 Traceback (most recent call last)",
      "\u001b[1;32m/home/snowztail/Repositories/learn-python/essential-software-engineering-for-researchers/data-structures/notebook.ipynb Cell 3'\u001b[0m in \u001b[0;36m<cell line: 4>\u001b[0;34m()\u001b[0m\n\u001b[1;32m      <a href='vscode-notebook-cell:/home/snowztail/Repositories/learn-python/essential-software-engineering-for-researchers/data-structures/notebook.ipynb#ch0000002?line=0'>1</a>\u001b[0m shape \u001b[39m=\u001b[39m \u001b[39m2\u001b[39m, \u001b[39m4\u001b[39m\n\u001b[1;32m      <a href='vscode-notebook-cell:/home/snowztail/Repositories/learn-python/essential-software-engineering-for-researchers/data-structures/notebook.ipynb#ch0000002?line=1'>2</a>\u001b[0m \u001b[39mprint\u001b[39m(shape)\n\u001b[0;32m----> <a href='vscode-notebook-cell:/home/snowztail/Repositories/learn-python/essential-software-engineering-for-researchers/data-structures/notebook.ipynb#ch0000002?line=3'>4</a>\u001b[0m shape[\u001b[39m1\u001b[39m] \u001b[39m=\u001b[39m \u001b[39m1\u001b[39m\n",
      "\u001b[0;31mTypeError\u001b[0m: 'tuple' object does not support item assignment"
     ]
    }
   ],
   "source": [
    "shape = 2, 4\n",
    "print(shape)\n",
    "\n",
    "shape[1] = 1"
   ]
  },
  {
   "cell_type": "code",
   "execution_count": 9,
   "metadata": {},
   "outputs": [
    {
     "name": "stdout",
     "output_type": "stream",
     "text": [
      "{1, 2, 5}\n",
      "{'a', 'e'}\n"
     ]
    }
   ],
   "source": [
    "print(set([5, 1, 2, 1]))\n",
    "\n",
    "print(set([\"a\", \"b\", \"c\"]).symmetric_difference([\"b\", \"c\", \"e\"]))"
   ]
  },
  {
   "cell_type": "code",
   "execution_count": 10,
   "metadata": {},
   "outputs": [
    {
     "data": {
      "text/plain": [
       "{'horse': 4, 'kangaroo': 2, 'millipede': 1000}"
      ]
     },
     "execution_count": 10,
     "metadata": {},
     "output_type": "execute_result"
    }
   ],
   "source": [
    "{\"horse\": 4, \"kangaroo\": 2, \"millipede\": 1000}"
   ]
  },
  {
   "cell_type": "code",
   "execution_count": 21,
   "metadata": {},
   "outputs": [
    {
     "name": "stdout",
     "output_type": "stream",
     "text": [
      "{'gold', 'platinum', 'silver', 'bronze'}\n",
      "{'Alice': ['bronze', 'silver'], 'Bob': ['bronze', 'silver', 'gold']}\n",
      "['bronze', 'silver']\n",
      "bronze\n",
      "['bronze', 'silver', 'gold', 'platinum']\n",
      "2\n",
      "set()\n",
      "set()\n",
      "{'gold', 'platinum'}\n"
     ]
    }
   ],
   "source": [
    "# A collection containing all possible achievements\n",
    "all_achievements = {\"bronze\", \"silver\", \"gold\", \"platinum\"}\n",
    "print(all_achievements)\n",
    "\n",
    "# A collection for each player containing their achievements in the order they were obtained (assume no duplicates)\n",
    "# A collection relating player names to their achievements\n",
    "player_achievements = {\n",
    "\t\"Alice\": [\"bronze\", \"silver\"], \n",
    "\t\"Bob\": [\"bronze\", \"silver\", \"gold\"]\n",
    "}\n",
    "print(player_achievements)\n",
    "\n",
    "# get a player’s achievements\n",
    "print(player_achievements[\"Alice\"])\n",
    "\n",
    "# get a player’s first achievement\n",
    "print(player_achievements[\"Alice\"][0])\n",
    "\n",
    "# add a new achievement for a player\n",
    "player_achievements[\"Bob\"].append(\"platinum\")\n",
    "print(player_achievements[\"Bob\"])\n",
    "\n",
    "# get the number of achievements a player doesn’t have yet\n",
    "print(len(all_achievements) - len(player_achievements[\"Alice\"]))\n",
    "\n",
    "# get a collection of the achievements a player doesn’t have yet\n",
    "print(all_achievements.difference(set(player_achievements[\"Bob\"])))\n",
    "\n",
    "# find the achievements “player1” has that “player2” doesn’t\n",
    "print(set(player_achievements[\"Alice\"]).difference(set(player_achievements[\"Bob\"])))\n",
    "print(set(player_achievements[\"Bob\"]).difference(set(player_achievements[\"Alice\"])))"
   ]
  },
  {
   "cell_type": "code",
   "execution_count": 28,
   "metadata": {},
   "outputs": [
    {
     "name": "stdout",
     "output_type": "stream",
     "text": [
      "   col1  col2  col3\n",
      "0     0     1     2\n",
      "1     6     7     8\n",
      "2     0     7     8\n",
      "col1    0\n",
      "col2    1\n",
      "col3    2\n",
      "Name: 0, dtype: int64\n",
      "0    0\n",
      "1    6\n",
      "2    0\n",
      "Name: col1, dtype: int64\n",
      "   col1  col2  col3\n",
      "0     0     1     2\n",
      "2     0     7     8\n"
     ]
    },
    {
     "data": {
      "text/plain": [
       "<pandas.core.groupby.generic.DataFrameGroupBy object at 0x7f394c2876d0>"
      ]
     },
     "execution_count": 28,
     "metadata": {},
     "output_type": "execute_result"
    }
   ],
   "source": [
    "import pandas as pd\n",
    "\n",
    "data = [\n",
    "    [\"col1\", \"col2\", \"col3\"],\n",
    "    [0, 1, 2],\n",
    "    [6, 7, 8],\n",
    "    [0, 7, 8],\n",
    "]\n",
    "dataframe = pd.DataFrame(data[1:], columns=data[0])\n",
    "print(dataframe)\n",
    "\n",
    "row = dataframe.iloc[0]\n",
    "print(row)\n",
    "\n",
    "col = dataframe[\"col1\"]\n",
    "print(col)\n",
    "\n",
    "print(dataframe[dataframe[\"col1\"] == 0])\n",
    "\n",
    "dataframe.groupby(\"col1\")\n"
   ]
  },
  {
   "cell_type": "code",
   "execution_count": null,
   "metadata": {},
   "outputs": [],
   "source": []
  }
 ],
 "metadata": {
  "interpreter": {
   "hash": "e7370f93d1d0cde622a1f8e1c04877d8463912d04d973331ad4851f04de6915a"
  },
  "kernelspec": {
   "display_name": "Python 3.10.4 64-bit",
   "language": "python",
   "name": "python3"
  },
  "language_info": {
   "codemirror_mode": {
    "name": "ipython",
    "version": 3
   },
   "file_extension": ".py",
   "mimetype": "text/x-python",
   "name": "python",
   "nbconvert_exporter": "python",
   "pygments_lexer": "ipython3",
   "version": "3.10.4"
  },
  "orig_nbformat": 4
 },
 "nbformat": 4,
 "nbformat_minor": 2
}
