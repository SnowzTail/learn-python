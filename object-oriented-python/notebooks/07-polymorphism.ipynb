{
 "cells": [
  {
   "cell_type": "markdown",
   "metadata": {
    "id": "mlnAzlUdEh63"
   },
   "source": [
    "# Polymorphism\n",
    "\n",
    "You can now efficiently define complex families of related classes in Python. This becomes even more powerful once we consider the idea of \"polymorphism\". Polymorphism essentially means that, when we write code, we don't actually know what type a particular variable will have when the code is executed.\n",
    "\n",
    "This ties into the idea of \"duck typing\" which is at the heart of Python. Variables may be any type at all and, providing they have the required method, they can be used in a piece of code.\n",
    "\n",
    "Let's look at an example. In the code cell below, the shape classes we've been working on are defined. In the cell below that is some code which creates a list of various different shapes and then loops over the list, printing something about each shape as it's considered."
   ]
  },
  {
   "cell_type": "code",
   "execution_count": 1,
   "metadata": {
    "cellView": "form",
    "id": "2IiprRr0Edr_"
   },
   "outputs": [],
   "source": [
    "# @title\n",
    "import math\n",
    "\n",
    "# Define the Shape class\n",
    "class Shape:\n",
    "    def __init__(self, colour):\n",
    "        self._colour = colour\n",
    "\n",
    "    # A property to return the colour\n",
    "    @property\n",
    "    def colour(self):\n",
    "        return self._colour\n",
    "\n",
    "\n",
    "# Define the Regular Polygon Class\n",
    "class RegularPolygon(Shape):\n",
    "    # A constructor which takes the colour and side length and sets them\n",
    "    def __init__(self, colour, side_length):\n",
    "        super().__init__(colour)\n",
    "        self._side_length = side_length\n",
    "\n",
    "    # A property to return the side length\n",
    "    @property\n",
    "    def side_length(self):\n",
    "        return self._side_length\n",
    "\n",
    "    # A property to return the perimeter\n",
    "    @property\n",
    "    def perimeter(self):\n",
    "        return self.number_of_sides * self.side_length\n",
    "\n",
    "\n",
    "# Define the Square class\n",
    "class Square(RegularPolygon):\n",
    "    number_of_sides = 4\n",
    "\n",
    "    # Define a property to return the area\n",
    "    @property\n",
    "    def area(self):\n",
    "        return self.side_length**2\n",
    "\n",
    "\n",
    "# Define the Triangle class\n",
    "class Triangle(RegularPolygon):\n",
    "    number_of_sides = 3\n",
    "\n",
    "    # Define a property to return the area\n",
    "    @property\n",
    "    def area(self):\n",
    "        return math.sqrt(3) * self.side_length**2 / 4\n",
    "\n",
    "\n",
    "# Define the Circle class\n",
    "class Circle(Shape):\n",
    "    def __init__(self, colour, radius):\n",
    "        super().__init__(colour)\n",
    "        self._radius = radius\n",
    "\n",
    "    # Define a property to return the radius\n",
    "    @property\n",
    "    def radius(self):\n",
    "        return self._radius\n",
    "\n",
    "    # Define a property to return the area\n",
    "    @property\n",
    "    def area(self):\n",
    "        return math.pi * self.radius**2\n",
    "\n",
    "    # Define a property to return the perimeter\n",
    "    @property\n",
    "    def perimeter(self):\n",
    "        return 2 * math.pi * self.radius\n"
   ]
  },
  {
   "cell_type": "code",
   "execution_count": 2,
   "metadata": {
    "id": "yFEU8CTlGiyk"
   },
   "outputs": [
    {
     "name": "stdout",
     "output_type": "stream",
     "text": [
      "This shape is green, has a perimeter of 8 and an area of 4\n",
      "This shape is red, has a perimeter of 9 and an area of 3.8971143170299736\n",
      "This shape is blue, has a perimeter of 25.132741228718345 and an area of 50.26548245743669\n"
     ]
    }
   ],
   "source": [
    "# Create our array of shapes and give it some shapes to populate it\n",
    "shapes = []\n",
    "shapes.append(Square(\"green\", 2))\n",
    "shapes.append(Triangle(\"red\", 3))\n",
    "shapes.append(Circle(\"blue\", 4))\n",
    "\n",
    "# When we loop over shapes, we don't know if \"shape\" will be a Square, Triangle or Circle\n",
    "for shape in shapes:\n",
    "    # This code works for all our shapes, as each has properties named \"colour\", \"perimeter\" and \"area\"\n",
    "    print(\n",
    "        \"This shape is \"\n",
    "        + shape.colour\n",
    "        + \", has a perimeter of \"\n",
    "        + str(shape.perimeter)\n",
    "        + \" and an area of \"\n",
    "        + str(shape.area)\n",
    "    )\n"
   ]
  },
  {
   "cell_type": "markdown",
   "metadata": {
    "id": "Hp4hGxdOHkwn"
   },
   "source": [
    "When we run the code, the variable ```shape``` will refer to different types of values on different iterations of the loop. When we write this piece of code, we don't need to know what type of data this variable will be - the code will work for any variable which has methods named ```colour```, ```area``` and ```perimeter```.\n",
    "\n",
    "However, this is particularly useful for classes of related types as they tend to have overlapping attributes.\n"
   ]
  },
  {
   "cell_type": "markdown",
   "metadata": {
    "id": "wTCb7JkchCkU"
   },
   "source": [
    "## Exercise\n",
    "\n",
    "An animal sanctuary has asked you to write some code to store details on their animals. In the code cell below, create a series of classes, related by inheritance, to represent at least three different species of animals. You should work out the contents and inheritance structure of the classes before you start creating them. Consider drawing an inheritance diagram.\n",
    "\n",
    "Each individual animal should have it's own name. Each species should have a species name and a particular noise it makes.\n",
    "\n",
    "The animal sanctuary also wants you to write a short function which accepts an object representing an individual animal as the only argument. The function should print a brief description of the animal including it's name, its species name and the noise it makes, with these values taken from the members and/or properties of the object passed to it.\n",
    "\n",
    "Create three variables, each representing an individual animal from a different species, and test your function."
   ]
  },
  {
   "cell_type": "code",
   "execution_count": 4,
   "metadata": {
    "id": "Qt8-QZXkHKyi"
   },
   "outputs": [
    {
     "name": "stdout",
     "output_type": "stream",
     "text": [
      "Felix is of type cat with sound \"meow\".\n",
      "Korone is of type dog with sound \"woof\".\n",
      "Donald is of type duck with sound \"quack\".\n"
     ]
    }
   ],
   "source": [
    "class Animal:\n",
    "\tdef __init__(self, name):\n",
    "\t\tself._name = name\n",
    "\n",
    "\t@property\n",
    "\tdef name(self):\n",
    "\t\treturn self._name\n",
    "\n",
    "class Cat(Animal):\n",
    "\tspecies = \"cat\"\n",
    "\tsound = \"meow\"\n",
    "\n",
    "class Dog(Animal):\n",
    "\tspecies = \"dog\"\n",
    "\tsound = \"woof\"\n",
    "\n",
    "class Duck(Animal):\n",
    "\tspecies = \"duck\"\n",
    "\tsound = \"quack\"\n",
    "\n",
    "def description(animal):\n",
    "\tprint(animal.name + \" is of type \" + animal.species + \" with sound \\\"\" + animal.sound + \"\\\".\")\n",
    "\n",
    "animal_1 = Cat(\"Felix\")\n",
    "animal_2 = Dog(\"Korone\")\n",
    "animal_3 = Duck(\"Donald\")\n",
    "\n",
    "description(animal_1)\n",
    "description(animal_2)\n",
    "description(animal_3)"
   ]
  },
  {
   "cell_type": "code",
   "execution_count": null,
   "metadata": {
    "cellView": "form",
    "id": "Sb2nverkHLKD"
   },
   "outputs": [],
   "source": [
    "#@title\n",
    "\n",
    "# Define the parent class\n",
    "# This defines properties common to all animals\n",
    "class Animal:\n",
    "  # The constructor saves the name of the individual animal\n",
    "  def __init__(self, individual_name):\n",
    "    self._individual_name = individual_name\n",
    "\n",
    "  @property\n",
    "  def individual_name(self):\n",
    "    return(self._individual_name)\n",
    "\n",
    "# Define a class to represent a dog\n",
    "# A dog is a type of animal so it inherits from Animal\n",
    "class Dog(Animal):\n",
    "  # Define the name of the species and the noise it makes\n",
    "  # These can be class variables as they are relevant for all animals of that species\n",
    "  species_name = \"dog\"\n",
    "  noise = \"woof\"\n",
    "\n",
    "# Define a class to represent a cat\n",
    "class Cat(Animal):\n",
    "  # Define the name of the species and the noise it makes\n",
    "  species_name = \"cat\"\n",
    "  noise = \"meow\"\n",
    "\n",
    "# Define a class to represent a mouse\n",
    "class Mouse(Animal):\n",
    "  # Define the name of the species and the noise it makes\n",
    "  species_name = \"mouse\"\n",
    "  noise = \"squeak\"\n",
    "\n",
    "# Define the function which gives a description of the animal\n",
    "def animal_description(animal):\n",
    "  # Print a description using the members of animal\n",
    "  print(animal.individual_name + \" is a \" + animal.species_name + \" that makes the noise '\" + animal.noise + \"'.\")\n",
    "\n",
    "#Define the animals to test the function\n",
    "dog = Dog(\"Rover\")\n",
    "cat = Cat(\"Tom\")\n",
    "mouse = Mouse (\"Jerry\")\n",
    "\n",
    "#Test the function\n",
    "animal_description(dog)\n",
    "animal_description(cat)\n",
    "animal_description(mouse)"
   ]
  }
 ],
 "metadata": {
  "colab": {
   "authorship_tag": "ABX9TyNXIMMCbzBNi96ksj3vxMc+",
   "collapsed_sections": [],
   "name": "Polymorphism.ipynb",
   "provenance": []
  },
  "interpreter": {
   "hash": "e7370f93d1d0cde622a1f8e1c04877d8463912d04d973331ad4851f04de6915a"
  },
  "kernelspec": {
   "display_name": "Python 3.10.4 64-bit",
   "language": "python",
   "name": "python3"
  },
  "language_info": {
   "codemirror_mode": {
    "name": "ipython",
    "version": 3
   },
   "file_extension": ".py",
   "mimetype": "text/x-python",
   "name": "python",
   "nbconvert_exporter": "python",
   "pygments_lexer": "ipython3",
   "version": "3.10.4"
  }
 },
 "nbformat": 4,
 "nbformat_minor": 1
}
