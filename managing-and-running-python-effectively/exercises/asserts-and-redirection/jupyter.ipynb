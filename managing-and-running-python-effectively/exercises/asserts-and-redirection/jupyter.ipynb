{
 "cells": [
  {
   "cell_type": "code",
   "execution_count": 1,
   "metadata": {},
   "outputs": [
    {
     "name": "stdout",
     "output_type": "stream",
     "text": [
      "I am successfully executed\n"
     ]
    },
    {
     "ename": "AssertionError",
     "evalue": "",
     "output_type": "error",
     "traceback": [
      "\u001b[0;31m---------------------------------------------------------------------------\u001b[0m",
      "\u001b[0;31mAssertionError\u001b[0m                            Traceback (most recent call last)",
      "\u001b[1;32m/home/snowztail/Repositories/python/managing-and-running-python-effectively/exercises/asserts-and-redirection/jupyter.ipynb Cell 1'\u001b[0m in \u001b[0;36m<cell line: 3>\u001b[0;34m()\u001b[0m\n\u001b[1;32m      <a href='vscode-notebook-cell:/home/snowztail/Repositories/python/managing-and-running-python-effectively/exercises/asserts-and-redirection/jupyter.ipynb#ch0000000?line=0'>1</a>\u001b[0m \u001b[39mfrom\u001b[39;00m \u001b[39mfile1\u001b[39;00m \u001b[39mimport\u001b[39;00m my_function\n\u001b[0;32m----> <a href='vscode-notebook-cell:/home/snowztail/Repositories/python/managing-and-running-python-effectively/exercises/asserts-and-redirection/jupyter.ipynb#ch0000000?line=2'>3</a>\u001b[0m my_function(\u001b[39m-\u001b[39;49m\u001b[39m2\u001b[39;49m)\n",
      "File \u001b[0;32m~/Repositories/python/managing-and-running-python-effectively/exercises/asserts-and-redirection/file1.py:2\u001b[0m, in \u001b[0;36mmy_function\u001b[0;34m(x)\u001b[0m\n\u001b[1;32m      <a href='file:///home/snowztail/Repositories/python/managing-and-running-python-effectively/exercises/asserts-and-redirection/file1.py?line=0'>1</a>\u001b[0m \u001b[39mdef\u001b[39;00m \u001b[39mmy_function\u001b[39m(x):\n\u001b[0;32m----> <a href='file:///home/snowztail/Repositories/python/managing-and-running-python-effectively/exercises/asserts-and-redirection/file1.py?line=1'>2</a>\u001b[0m     \u001b[39massert\u001b[39;00m x \u001b[39m>\u001b[39m \u001b[39m0\u001b[39m\n",
      "\u001b[0;31mAssertionError\u001b[0m: "
     ]
    }
   ],
   "source": [
    "from file1 import my_function\n",
    "\n",
    "my_function(-2)"
   ]
  }
 ],
 "metadata": {
  "interpreter": {
   "hash": "e7370f93d1d0cde622a1f8e1c04877d8463912d04d973331ad4851f04de6915a"
  },
  "kernelspec": {
   "display_name": "Python 3.10.4 64-bit",
   "language": "python",
   "name": "python3"
  },
  "language_info": {
   "name": "python",
   "version": "3.10.4"
  },
  "orig_nbformat": 4
 },
 "nbformat": 4,
 "nbformat_minor": 2
}
